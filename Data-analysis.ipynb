{
 "cells": [
  {
   "cell_type": "markdown",
   "metadata": {},
   "source": [
    "# ARDDoS Data analysis for TFTP, SNMP and SSDP test traffic"
   ]
  },
  {
   "cell_type": "code",
   "execution_count": null,
   "metadata": {},
   "outputs": [],
   "source": [
    "# Generic\n",
    "import os\n",
    "import pandas as pd\n",
    "import warnings\n",
    "warnings.simplefilter(action='ignore', category=FutureWarning)\n",
    "import numpy as np\n",
    "import math\n",
    "import re\n",
    "import ipaddress\n",
    "import kaleido\n",
    "\n",
    "# For showing progress bar of for loops\n",
    "from progressbar import Bar, ETA, \\\n",
    "    AdaptiveETA, Percentage, \\\n",
    "    ProgressBar \n",
    "widgets = [Percentage(),\n",
    "            ' ', Bar(),\n",
    "            ' ', ETA(),\n",
    "            ' ', AdaptiveETA()]\n",
    "pbar = ProgressBar(widgets=widgets)\n",
    "\n",
    "# Own functions\n",
    "from pcapreader import PcapReader\n",
    "pcapToDf = PcapReader.pcapToDf\n",
    "\n",
    "# For converting string to ip address in dataframe\n",
    "from cyberpandas import to_ipaddress \n",
    "# For pretty printing dataframes\n",
    "from tabulate import tabulate \n",
    "# For plotting\n",
    "import plotly.express as px"
   ]
  },
  {
   "cell_type": "markdown",
   "metadata": {},
   "source": [
    "# Functions"
   ]
  },
  {
   "cell_type": "code",
   "execution_count": null,
   "metadata": {},
   "outputs": [],
   "source": [
    "def refineLatexTableStringScientificPaper(latexTableString):\n",
    "    # Hacks for multiindex dataframe\n",
    "    multiColFirst = latexTableString.find(\"\\multicolumn\")\n",
    "    latexTableString = latexTableString[:multiColFirst+16] + 'c' + latexTableString[multiColFirst+17:]\n",
    "    startRemove = latexTableString.find('\\multicolumn',multiColFirst+1)\n",
    "    latexTableString = latexTableString[:startRemove] + latexTableString[startRemove+18:]\n",
    "    # Convert Level, Amplification factor and packets per sec to multirow:\n",
    "    latexTableString = latexTableString[:latexTableString.find('Level')] + '\\\\multirow{2}{*}{Level}' +  latexTableString[latexTableString.find('Level')+len('Level'):]\n",
    "    latexTableString = latexTableString[:latexTableString.find('Amplification factor')] + '\\\\multirow{2}{*}{\\parbox{2.4cm}{\\centering Amplification \\\\\\\\ Factor}}' +  latexTableString[latexTableString.find('Amplification factor')+len('Amplification factor'):]\n",
    "    latexTableString = latexTableString[:latexTableString.find('Packets Per Second')] + '\\\\multirow{2}{*}{\\parbox{3.4cm}{\\centering Attacker Packets \\\\\\\\ Per Second}}' +  latexTableString[latexTableString.find('Packets Per Second')+len('Packets Per Second'):]\n",
    "    # Adding a horizontal line for multindex table\n",
    "    ## Find first \\\\ after the last column (packets per second)\n",
    "    columnHeaderEndIndex = latexTableString.find('Second')\n",
    "    latexTableString = latexTableString[:latexTableString.find('\\\\\\\\',columnHeaderEndIndex)+len('\\\\\\\\')] + '\\cline{2-5}' + latexTableString[latexTableString.find('\\\\\\\\',columnHeaderEndIndex)+len('\\\\\\\\'):]\n",
    "    # Add \"tab\" to label\n",
    "\n",
    "    # Find caption and label and put at the bottom\n",
    "    captionIndex = latexTableString.find(\"\\caption\")\n",
    "    labelIndex = latexTableString.find('\\label')\n",
    "    labelStart = latexTableString.find('{',labelIndex)\n",
    "    # Put 'tab' in label for figure\n",
    "    latexTableString = latexTableString[:labelStart+1] + 'tab:' + latexTableString[labelStart+1:]\n",
    "    captionEndIndex = latexTableString.find(\"}\",labelIndex+1)+1\n",
    "    endTableIndex = latexTableString.find(\"\\end{tabular}\")\n",
    "    endTableEndIndex = endTableIndex + len(\"\\end{tabular}\")\n",
    "    latexTableString = latexTableString[:captionIndex] + latexTableString[captionEndIndex:endTableEndIndex] + latexTableString[captionIndex:captionEndIndex] + latexTableString[endTableEndIndex:]\n",
    "    return latexTableString"
   ]
  },
  {
   "cell_type": "code",
   "execution_count": null,
   "metadata": {},
   "outputs": [],
   "source": [
    "## Get All pcap filenames:\n",
    "def getFiles(baseDir):\n",
    "    victimFilenames = []\n",
    "    attackerFilenames = []\n",
    "    reflectorFilenames = []\n",
    "    for root, dirs, files in os.walk(baseDir):\n",
    "        for file in files:\n",
    "            if file.endswith(\".pcapng\"):\n",
    "                if \"victim\" in file:\n",
    "                    victimFilenames.append(os.path.join(root, file))\n",
    "                if \"attacker\" in file:\n",
    "                    attackerFilenames.append(os.path.join(root, file))\n",
    "                if \"reflector\" in file:\n",
    "                    reflectorFilenames.append(os.path.join(root,file))\n",
    "    return attackerFilenames,victimFilenames,reflectorFilenames"
   ]
  },
  {
   "cell_type": "code",
   "execution_count": null,
   "metadata": {},
   "outputs": [],
   "source": [
    "## Get attacker bytes sent\n",
    "def getAttackStats(attackerFilenames,Protocol,useCachedBytes=False,BytesOrPackets=\"bytes\",Tool=\"Own\"):\n",
    "    print(\"Getting Attacker bytes for \" + Protocol + \" from pcap files...\")\n",
    "    picklePath = os.path.dirname(os.path.dirname(attackerFilenames[0])) + '/AttackerBytes_' + Protocol + '_' + BytesOrPackets + '_' + Tool + '.pkl'\n",
    "    if not useCachedBytes:\n",
    "        pbar = ProgressBar(widgets=widgets)\n",
    "        attackerStats = []\n",
    "        for attackFile in pbar(attackerFilenames):\n",
    "            # Get attack level\n",
    "            level = int(re.search(r'\\d+',attackFile).group(0)) # Find first number in string = level\n",
    "            attackerDf = pcapToDf(attackFile,True,Tool) \n",
    "            if Protocol == \"TFTP\" or Protocol == \"SSDP\" or Protocol == \"SNMP\":\n",
    "            # By finding the TFTP packets and summing the byte lengths we get the total number of bytes send by the attacker\n",
    "                attackerDf = attackerDf.loc[attackerDf['Protocol'].isin([Protocol])]\n",
    "            if BytesOrPackets == \"bytes\":\n",
    "                attackerSent = attackerDf[\"Length\"].sum()\n",
    "            else:\n",
    "                attackerSent = len(attackerDf)\n",
    "            pktPerSec = len(attackerDf)/15 # All attacks are 15 sec\n",
    "            attackerStats.append({'Level':level,'Attacker Outbound':attackerSent,'Packets Per Second':pktPerSec})\n",
    "        attackerStats = pd.DataFrame(attackerStats).sort_values('Level')\n",
    "        # Save to pickle file for fast reloading\n",
    "        attackerStats.to_pickle(picklePath)\n",
    "    else:\n",
    "        if os.path.exists(picklePath):\n",
    "            attackerStats = pd.read_pickle(picklePath)\n",
    "        else:\n",
    "            raise Exception(\"Error no cached pickle file. Run the function with useCachedBytes=False to recalcuate the df, and create the pickle file '\" + os.path.basename(picklePath) + \"'\" )\n",
    " \n",
    "    return attackerStats"
   ]
  },
  {
   "cell_type": "code",
   "execution_count": null,
   "metadata": {},
   "outputs": [],
   "source": [
    "## Get Victim bytes received\n",
    "def getVictimStats(victimFilenames,Protocol,useCachedBytes=False,BytesOrPackets=\"bytes\",Tool=\"Own\"):\n",
    "    print(\"Getting Victim bytes for \" + Protocol + \" from pcap files...\")\n",
    "    picklePath = os.path.dirname(os.path.dirname(victimFilenames[0])) + '/VictimBytes' + Protocol + '_' + BytesOrPackets + '_' + Tool + '.pkl'\n",
    "    if not useCachedBytes:\n",
    "        pbar = ProgressBar(widgets=widgets)\n",
    "        victimStats = []\n",
    "        for victimFile in pbar(victimFilenames):\n",
    "            # Get attack level\n",
    "            level = int(re.search(r'\\d+',victimFile).group(0)) # Find first number in string = level\n",
    "            victimDf = pcapToDf(victimFile,True,Tool)\n",
    "            if Protocol == \"TFTP\":\n",
    "                # In the victim pcap filtering by destination port 50040 (the tftp servers source port) gives the tftp data transfered to the victim\n",
    "                victimDf = victimDf.loc[(victimDf['UDP Destination Port'] == 50040)]\n",
    "            elif Protocol == \"SNMP\":\n",
    "                victimDf = victimDf.loc[victimDf['Protocol'].isin([Protocol])]\n",
    "            elif Protocol == \"SSDP\":\n",
    "                victimDf = victimDf.loc[(victimDf['Protocol'] == Protocol) & (victimDf['Destination'] != ipaddress.ip_address('239.255.255.250'))]\n",
    "            if BytesOrPackets == \"bytes\":\n",
    "                victimReceived = victimDf[\"Length\"].sum()\n",
    "            else:\n",
    "                victimReceived = len(victimDf)\n",
    "            victimStats.append({'Level':level,'Victim Inbound':victimReceived}) \n",
    "        victimStats = pd.DataFrame(victimStats).sort_values('Level')\n",
    "        # Save to pickle file for fast reloading\n",
    "        victimStats.to_pickle(picklePath)\n",
    "    else:\n",
    "        if os.path.exists(picklePath):\n",
    "            victimStats = pd.read_pickle(picklePath)\n",
    "        else:\n",
    "            raise Exception(\"Error no cached pickle file. Run the function with useCachedBytes=False to recalcuate the df, and create the pickle file '\" + os.path.basename(picklePath) + \"'\" )\n",
    "    return victimStats"
   ]
  },
  {
   "cell_type": "code",
   "execution_count": null,
   "metadata": {},
   "outputs": [],
   "source": [
    "## Get Reflector bytes received and sent\n",
    "def getReflectorStats(reflectorFilenames,Protocol,useCachedBytes=False,BytesOrPackets=\"bytes\",Tool=\"Own\"):\n",
    "    print(\"Getting Reflector bytes for \" + Protocol + \" from pcap files...\")\n",
    "    picklePath = os.path.dirname(os.path.dirname(reflectorFilenames[0])) + '/ReflectorBytes_' + Protocol + '_' + BytesOrPackets + '_' + Tool + '.pkl'\n",
    "    if not useCachedBytes:\n",
    "        pbar = ProgressBar(widgets=widgets)\n",
    "        reflectorStats = []\n",
    "        for reflectorFile in pbar(reflectorFilenames):\n",
    "            # Get attack level\n",
    "            level = int(re.search(r'\\d+',reflectorFile).group(0)) # Find first number in string = level\n",
    "            reflectorDf = pcapToDf(reflectorFile,True,Tool)\n",
    "            if Protocol == \"TFTP\":\n",
    "                # In the victim pcap filtering by destination port 50040 (the tftp servers source port) gives the tftp data transfered to the victim\n",
    "                reflectorDfReceived = reflectorDf.loc[(reflectorDf['UDP Source Port'] == 50040)]\n",
    "                reflectorDfSent = reflectorDf.loc[(reflectorDf['UDP Destination Port'] == 50040)]\n",
    "            elif Protocol == \"SNMP\":\n",
    "                reflectorDfReceived = reflectorDf.loc[(reflectorDf['Protocol'] == Protocol) & (reflectorDf['Info'].str.contains(\"getBulkRequest\"))]\n",
    "                reflectorDfSent = reflectorDf.loc[(reflectorDf['Protocol'] == Protocol) & (reflectorDf['Info'].str.contains(\"get-response\"))]\n",
    "            elif Protocol == \"SSDP\":\n",
    "                reflectorDfReceived = reflectorDf.loc[(reflectorDf['Protocol'] == Protocol) & (reflectorDf['Destination'] != ipaddress.ip_address('239.255.255.250')) & (reflectorDf[\"Info\"].str.contains(\"M-SEARCH\"))]\n",
    "                reflectorDfSent = reflectorDf.loc[(reflectorDf['Protocol'] == Protocol) & (reflectorDf['Destination'] != ipaddress.ip_address('239.255.255.250')) & (reflectorDf[\"UDP Destination Port\"] == 50040)]\n",
    "            if BytesOrPackets == \"bytes\":\n",
    "                reflectorReceived = reflectorDfReceived[\"Length\"].sum()\n",
    "                reflectorSent = reflectorDfSent[\"Length\"].sum()\n",
    "            else:\n",
    "                reflectorReceived = len(reflectorDfReceived)\n",
    "                reflectorSent = len(reflectorDfSent)\n",
    "            reflectorStats.append({'Level':level,'Reflector Inbound':reflectorReceived,'Reflector Outbound':reflectorSent})\n",
    "        reflectorStats = pd.DataFrame(reflectorStats).sort_values('Level')\n",
    "        # Save to pickle file for fast reloading\n",
    "        reflectorStats.to_pickle(picklePath)\n",
    "    else:\n",
    "        if os.path.exists(picklePath):\n",
    "            reflectorStats = pd.read_pickle(picklePath)\n",
    "        else:\n",
    "            raise Exception(\"Error no cached pickle file. Run the function with useCachedBytes=False to recalcuate the df, and create the pickle file '\" + os.path.basename(picklePath) + \"'\" )\n",
    "    return reflectorStats"
   ]
  },
  {
   "cell_type": "code",
   "execution_count": null,
   "metadata": {},
   "outputs": [],
   "source": [
    "## Data manipulation for presentation\n",
    "def getStatDf(attackerStats,victimStats,reflectorStats):\n",
    "    StatDf = pd.DataFrame(columns=pd.MultiIndex.from_tuples([(\"Victim\", \"Inbound\"), (\"Reflector\", \"Inbound\"), (\"Reflector\", \"Outbound\"), (\"Attacker\", \"Outbound\")]))\n",
    "    StatDf[\"Level\"] = victimStats['Level']\n",
    "    StatDf[(\"Victim\",\"Inbound\")] = victimStats['Victim Inbound']\n",
    "    StatDf[(\"Reflector\",\"Inbound\")] = reflectorStats['Reflector Inbound']\n",
    "    StatDf[(\"Reflector\",\"Outbound\")] = reflectorStats['Reflector Outbound']\n",
    "    StatDf[(\"Attacker\",\"Outbound\")] = attackerStats['Attacker Outbound']\n",
    "    StatDf['Amplification factor'] = StatDf[(\"Victim\",\"Inbound\")] / StatDf[(\"Attacker\",\"Outbound\")]\n",
    "    StatDf['Packets Per Second'] = attackerStats['Packets Per Second']\n",
    "    column_to_move = StatDf.pop(\"Level\")\n",
    "    StatDf.insert(0, \"Level\", column_to_move)\n",
    "    return StatDf"
   ]
  },
  {
   "cell_type": "code",
   "execution_count": null,
   "metadata": {},
   "outputs": [],
   "source": [
    "## Plotting\n",
    "def PlotLevelAttackData(attackerStats,victimStats,reflectorStats,Protocol,BytesOrPackets):\n",
    "    # Get single index dataframe\n",
    "    if \"Packets Per Second\" in attackerStats.columns.to_list():\n",
    "        attackerStats.pop(\"Packets Per Second\")\n",
    "    df1 = pd.merge(attackerStats,victimStats,on=\"Level\")\n",
    "    df2 = pd.merge(df1,reflectorStats,on='Level')\n",
    "    # Remove 'level' string in level column\n",
    "    df2[\"Level\"] = df2['Level']\n",
    "    # Get maximum value in dataframe rounded up to highest exponent (i.e. up to nearest 100M for example)\n",
    "    maxN = df2.select_dtypes(include=[np.number]).max().max()\n",
    "    c = 10 ** int(math.log10(maxN)) # Same number of digits as max number\n",
    "    yaxisRange = [10,math.ceil(maxN/c) * c]\n",
    "\n",
    "    # Plot data\n",
    "    fig = px.line(df2, \n",
    "                title=Protocol + \" Test traffic in \" + BytesOrPackets,\n",
    "                x='Level',\n",
    "                y=['Attacker Outbound','Victim Inbound', 'Reflector Inbound','Reflector Outbound'],\n",
    "                log_y=True,\n",
    "                range_y=yaxisRange,\n",
    "                markers=True,\n",
    "                color_discrete_map={\n",
    "                 \"Attacker Outbound\": \"#ED2939\",\n",
    "                 \"Victim Inbound\": \"#007FFF\",\n",
    "                 \"Reflector Inbound\":\"#00A86B\",\n",
    "                 \"Reflector Outbound\":\"orange\" \n",
    "             })\n",
    "    fig.update_layout(\n",
    "        yaxis=dict(\n",
    "            tickfont=dict(size=16,color=\"black\"),\n",
    "            title_text=BytesOrPackets.capitalize(),\n",
    "            titlefont=dict(size=24,color=\"black\")),\n",
    "        xaxis=dict(\n",
    "            tickfont=dict(size=16,color=\"black\"),\n",
    "            title_text=\"Level\",\n",
    "            titlefont=dict(size=24,color=\"black\")),\n",
    "        title={'font': {'size': 36,'color':\"black\"}},\n",
    "        legend = dict(font = dict(size = 20, color = \"black\",)),\n",
    "        legend_title = dict(text=\"Legend\",font = dict(size = 24,color=\"black\"))\n",
    "        )\n",
    "    fig.update_traces(line=dict(width=3),marker=dict(size=10))\n",
    "    fig.show()\n",
    "    fig.write_image(Protocol + \" Test traffic in \" + BytesOrPackets + \".pdf\", width=1920/2.4, height=1080/2.4,scale=-2 ,engine='kaleido')"
   ]
  },
  {
   "cell_type": "markdown",
   "metadata": {},
   "source": [
    "# Bytes"
   ]
  },
  {
   "cell_type": "markdown",
   "metadata": {},
   "source": [
    "## TFTP DATA OWN TOOL"
   ]
  },
  {
   "cell_type": "code",
   "execution_count": null,
   "metadata": {},
   "outputs": [],
   "source": [
    "# Get pcap files\n",
    "attackerFilenames,victimFilenames,reflectorFilenames = getFiles('./pcap_tftp_own_tool')\n",
    "assert len(attackerFilenames) == len(victimFilenames) == len(reflectorFilenames)\n",
    "Protocol = \"TFTP\"\n",
    "useCachedBytes = True\n",
    "BytesOrPackets=\"bytes\"\n",
    "Tool=\"own\""
   ]
  },
  {
   "cell_type": "markdown",
   "metadata": {},
   "source": [
    "### Reading the data"
   ]
  },
  {
   "cell_type": "code",
   "execution_count": null,
   "metadata": {},
   "outputs": [],
   "source": [
    "# Read pcap \n",
    "attackerStats = getAttackStats(attackerFilenames,Protocol,useCachedBytes,BytesOrPackets,Tool)\n",
    "victimStats = getVictimStats(victimFilenames,Protocol,useCachedBytes,BytesOrPackets,Tool)\n",
    "reflectorStats = getReflectorStats(reflectorFilenames,Protocol,useCachedBytes,BytesOrPackets,Tool)"
   ]
  },
  {
   "cell_type": "markdown",
   "metadata": {},
   "source": [
    "### Displaying the data in latex"
   ]
  },
  {
   "cell_type": "code",
   "execution_count": null,
   "metadata": {},
   "outputs": [],
   "source": [
    "#print(tabulate(StatDf,headers='keys',tablefmt='fancy_grid',showindex=False))\n",
    "StatDf = getStatDf(attackerStats,victimStats,reflectorStats)\n",
    "latexTableString = StatDf.to_latex(column_format='ccrrrcc',index=False,caption=Protocol + \" ARDoS test traffic in \" + BytesOrPackets + \" for \" + Tool + \" tool\",label=Protocol + \"_Test_Traffic_in_\" + BytesOrPackets + \"_\" + Tool,position='H') # For getting the table into the report\n",
    "latexTableString = refineLatexTableStringScientificPaper(latexTableString)\n",
    "print(latexTableString)"
   ]
  },
  {
   "cell_type": "markdown",
   "metadata": {},
   "source": [
    "### Plotting"
   ]
  },
  {
   "cell_type": "code",
   "execution_count": null,
   "metadata": {},
   "outputs": [],
   "source": [
    "PlotLevelAttackData(attackerStats,victimStats,reflectorStats,Protocol,BytesOrPackets)"
   ]
  },
  {
   "cell_type": "markdown",
   "metadata": {},
   "source": [
    "## SNMP DATA OWN TOOL"
   ]
  },
  {
   "cell_type": "code",
   "execution_count": null,
   "metadata": {},
   "outputs": [],
   "source": [
    "# Get pcap files\n",
    "attackerFilenames,victimFilenames,reflectorFilenames = getFiles('./pcap_snmp_own_tool')\n",
    "assert len(attackerFilenames) == len(victimFilenames) == len(reflectorFilenames)\n",
    "Protocol = \"SNMP\"\n",
    "useCachedBytes = True\n",
    "BytesOrPackets = \"bytes\"\n",
    "Tool=\"own\""
   ]
  },
  {
   "cell_type": "markdown",
   "metadata": {},
   "source": [
    "### Reading the data"
   ]
  },
  {
   "cell_type": "code",
   "execution_count": null,
   "metadata": {},
   "outputs": [],
   "source": [
    "# Read pcap \n",
    "attackerStats = getAttackStats(attackerFilenames,Protocol,useCachedBytes,BytesOrPackets,Tool)\n",
    "victimStats = getVictimStats(victimFilenames,Protocol,useCachedBytes,BytesOrPackets,Tool)\n",
    "reflectorStats = getReflectorStats(reflectorFilenames,Protocol,useCachedBytes,BytesOrPackets,Tool)"
   ]
  },
  {
   "cell_type": "markdown",
   "metadata": {},
   "source": [
    "### Displaying the data in latex"
   ]
  },
  {
   "cell_type": "code",
   "execution_count": null,
   "metadata": {},
   "outputs": [],
   "source": [
    "#print(tabulate(StatDf,headers='keys',tablefmt='fancy_grid',showindex=False))\n",
    "StatDf = getStatDf(attackerStats,victimStats,reflectorStats)\n",
    "latexTableString = StatDf.to_latex(column_format='ccrrrcc',index=False,caption=Protocol + \" ARDoS test traffic in \" + BytesOrPackets + \" for \" + Tool + \" tool\",label=Protocol + \"_Test_Traffic_in_\" + BytesOrPackets + \"_\" + Tool,position='H') # For getting the table into the report\n",
    "latexTableString = refineLatexTableStringScientificPaper(latexTableString)\n",
    "print(latexTableString)"
   ]
  },
  {
   "cell_type": "markdown",
   "metadata": {},
   "source": [
    "### Plotting"
   ]
  },
  {
   "cell_type": "code",
   "execution_count": null,
   "metadata": {},
   "outputs": [],
   "source": [
    "PlotLevelAttackData(attackerStats,victimStats,reflectorStats,Protocol,BytesOrPackets)"
   ]
  },
  {
   "cell_type": "markdown",
   "metadata": {},
   "source": [
    "## SSDP DATA OWN TOOL"
   ]
  },
  {
   "cell_type": "code",
   "execution_count": null,
   "metadata": {},
   "outputs": [],
   "source": [
    "# Get pcap files\n",
    "attackerFilenames,victimFilenames,reflectorFilenames = getFiles('./pcap_ssdp_own_tool')\n",
    "assert len(attackerFilenames) == len(victimFilenames) == len(reflectorFilenames)\n",
    "Protocol = \"SSDP\"\n",
    "useCachedBytes = True\n",
    "BytesOrPackets = \"bytes\"\n",
    "Tool=\"own\""
   ]
  },
  {
   "cell_type": "markdown",
   "metadata": {},
   "source": [
    "### Reading the data"
   ]
  },
  {
   "cell_type": "code",
   "execution_count": null,
   "metadata": {},
   "outputs": [],
   "source": [
    "# Read pcap \n",
    "attackerStats = getAttackStats(attackerFilenames,Protocol,useCachedBytes,BytesOrPackets,Tool)\n",
    "victimStats = getVictimStats(victimFilenames,Protocol,useCachedBytes,BytesOrPackets,Tool)\n",
    "reflectorStats = getReflectorStats(reflectorFilenames,Protocol,useCachedBytes,BytesOrPackets,Tool)"
   ]
  },
  {
   "cell_type": "markdown",
   "metadata": {},
   "source": [
    "### Displaying the data in latex"
   ]
  },
  {
   "cell_type": "code",
   "execution_count": null,
   "metadata": {},
   "outputs": [],
   "source": [
    "#print(tabulate(StatDf,headers='keys',tablefmt='fancy_grid',showindex=False))\n",
    "StatDf = getStatDf(attackerStats,victimStats,reflectorStats)\n",
    "latexTableString = StatDf.to_latex(column_format='ccrrrcc',index=False,caption=Protocol + \" ARDoS test traffic in \" + BytesOrPackets + \" for \" + Tool + \" tool\",label=Protocol + \"_Test_Traffic_in_\" + BytesOrPackets + \"_\" + Tool,position='H') # For getting the table into the report\n",
    "latexTableString = refineLatexTableStringScientificPaper(latexTableString)\n",
    "print(latexTableString)"
   ]
  },
  {
   "cell_type": "markdown",
   "metadata": {},
   "source": [
    "### Plotting"
   ]
  },
  {
   "cell_type": "code",
   "execution_count": null,
   "metadata": {},
   "outputs": [],
   "source": [
    "PlotLevelAttackData(attackerStats,victimStats,reflectorStats,Protocol,BytesOrPackets)"
   ]
  },
  {
   "cell_type": "markdown",
   "metadata": {},
   "source": [
    "# Packets"
   ]
  },
  {
   "cell_type": "markdown",
   "metadata": {},
   "source": [
    "## TFTP DATA OWN TOOL"
   ]
  },
  {
   "cell_type": "code",
   "execution_count": null,
   "metadata": {},
   "outputs": [],
   "source": [
    "# Get pcap files\n",
    "attackerFilenames,victimFilenames,reflectorFilenames = getFiles('./pcap_tftp_own_tool')\n",
    "assert len(attackerFilenames) == len(victimFilenames) == len(reflectorFilenames)\n",
    "Protocol = \"TFTP\"\n",
    "useCachedBytes = True\n",
    "BytesOrPackets=\"packets\"\n",
    "Tool=\"own\""
   ]
  },
  {
   "cell_type": "markdown",
   "metadata": {},
   "source": [
    "### Reading the data"
   ]
  },
  {
   "cell_type": "code",
   "execution_count": null,
   "metadata": {},
   "outputs": [],
   "source": [
    "# Read pcap \n",
    "attackerStats = getAttackStats(attackerFilenames,Protocol,useCachedBytes,BytesOrPackets,Tool)\n",
    "victimStats = getVictimStats(victimFilenames,Protocol,useCachedBytes,BytesOrPackets,Tool)\n",
    "reflectorStats = getReflectorStats(reflectorFilenames,Protocol,useCachedBytes,BytesOrPackets,Tool)"
   ]
  },
  {
   "cell_type": "markdown",
   "metadata": {},
   "source": [
    "### Displaying the data in latex"
   ]
  },
  {
   "cell_type": "code",
   "execution_count": null,
   "metadata": {},
   "outputs": [],
   "source": [
    "#print(tabulate(StatDf,headers='keys',tablefmt='fancy_grid',showindex=False))\n",
    "StatDf = getStatDf(attackerStats,victimStats,reflectorStats)\n",
    "latexTableString = StatDf.to_latex(column_format='ccrrrcc',index=False,caption=Protocol + \" ARDoS test traffic in \" + BytesOrPackets + \" for \" + Tool + \" tool\",label=Protocol + \"_Test_Traffic_in_\" + BytesOrPackets + \"_\" + Tool,position='H') # For getting the table into the report\n",
    "latexTableString = refineLatexTableStringScientificPaper(latexTableString)\n",
    "print(latexTableString)"
   ]
  },
  {
   "cell_type": "markdown",
   "metadata": {},
   "source": [
    "### Plotting"
   ]
  },
  {
   "cell_type": "code",
   "execution_count": null,
   "metadata": {},
   "outputs": [],
   "source": [
    "PlotLevelAttackData(attackerStats,victimStats,reflectorStats,Protocol,BytesOrPackets)"
   ]
  },
  {
   "cell_type": "markdown",
   "metadata": {},
   "source": [
    "## SNMP DATA OWN TOOL"
   ]
  },
  {
   "cell_type": "code",
   "execution_count": null,
   "metadata": {},
   "outputs": [],
   "source": [
    "# Get pcap files\n",
    "attackerFilenames,victimFilenames,reflectorFilenames = getFiles('./pcap_snmp_own_tool')\n",
    "assert len(attackerFilenames) == len(victimFilenames) == len(reflectorFilenames)\n",
    "Protocol = \"SNMP\"\n",
    "useCachedBytes = True\n",
    "BytesOrPackets = \"packets\"\n",
    "Tool=\"own\""
   ]
  },
  {
   "cell_type": "markdown",
   "metadata": {},
   "source": [
    "### Reading the data"
   ]
  },
  {
   "cell_type": "code",
   "execution_count": null,
   "metadata": {},
   "outputs": [],
   "source": [
    "# Read pcap \n",
    "attackerStats = getAttackStats(attackerFilenames,Protocol,useCachedBytes,BytesOrPackets,Tool)\n",
    "victimStats = getVictimStats(victimFilenames,Protocol,useCachedBytes,BytesOrPackets,Tool)\n",
    "reflectorStats = getReflectorStats(reflectorFilenames,Protocol,useCachedBytes,BytesOrPackets,Tool)"
   ]
  },
  {
   "cell_type": "markdown",
   "metadata": {},
   "source": [
    "### Displaying the data in latex"
   ]
  },
  {
   "cell_type": "code",
   "execution_count": null,
   "metadata": {},
   "outputs": [],
   "source": [
    "#print(tabulate(StatDf,headers='keys',tablefmt='fancy_grid',showindex=False))\n",
    "StatDf = getStatDf(attackerStats,victimStats,reflectorStats)\n",
    "latexTableString = StatDf.to_latex(column_format='ccrrrcc',index=False,caption=Protocol + \" ARDoS test traffic in \" + BytesOrPackets + \" for \" + Tool + \" tool\",label=Protocol + \"_Test_Traffic_in_\" + BytesOrPackets + \"_\" + Tool,position='H') # For getting the table into the report\n",
    "latexTableString = refineLatexTableStringScientificPaper(latexTableString)\n",
    "print(latexTableString)"
   ]
  },
  {
   "cell_type": "markdown",
   "metadata": {},
   "source": [
    "### Plotting"
   ]
  },
  {
   "cell_type": "code",
   "execution_count": null,
   "metadata": {},
   "outputs": [],
   "source": [
    "PlotLevelAttackData(attackerStats,victimStats,reflectorStats,Protocol,BytesOrPackets)"
   ]
  },
  {
   "cell_type": "markdown",
   "metadata": {},
   "source": [
    "## SSDP DATA OWN TOOL"
   ]
  },
  {
   "cell_type": "code",
   "execution_count": null,
   "metadata": {},
   "outputs": [],
   "source": [
    "# Get pcap files\n",
    "attackerFilenames,victimFilenames,reflectorFilenames = getFiles('./pcap_ssdp_own_tool')\n",
    "assert len(attackerFilenames) == len(victimFilenames) == len(reflectorFilenames)\n",
    "Protocol = \"SSDP\"\n",
    "useCachedBytes = True\n",
    "BytesOrPackets = \"packets\"\n",
    "Tool=\"own\""
   ]
  },
  {
   "cell_type": "markdown",
   "metadata": {},
   "source": [
    "### Reading the data"
   ]
  },
  {
   "cell_type": "code",
   "execution_count": null,
   "metadata": {},
   "outputs": [],
   "source": [
    "# Read pcap \n",
    "attackerStats = getAttackStats(attackerFilenames,Protocol,useCachedBytes,BytesOrPackets,Tool)\n",
    "victimStats = getVictimStats(victimFilenames,Protocol,useCachedBytes,BytesOrPackets,Tool)\n",
    "reflectorStats = getReflectorStats(reflectorFilenames,Protocol,useCachedBytes,BytesOrPackets,Tool)"
   ]
  },
  {
   "cell_type": "markdown",
   "metadata": {},
   "source": [
    "### Displaying the data in latex"
   ]
  },
  {
   "cell_type": "code",
   "execution_count": null,
   "metadata": {},
   "outputs": [],
   "source": [
    "#print(tabulate(StatDf,headers='keys',tablefmt='fancy_grid',showindex=False))\n",
    "StatDf = getStatDf(attackerStats,victimStats,reflectorStats)\n",
    "latexTableString = StatDf.to_latex(column_format='ccrrrcc',index=False,caption=Protocol + \" ARDoS test traffic in \" + BytesOrPackets + \" for \" + Tool + \" tool\",label=Protocol + \"_Test_Traffic_in_\" + BytesOrPackets + \"_\" + Tool,position='H') # For getting the table into the report\n",
    "latexTableString = refineLatexTableStringScientificPaper(latexTableString)\n",
    "print(latexTableString)"
   ]
  },
  {
   "cell_type": "markdown",
   "metadata": {},
   "source": [
    "### Plotting"
   ]
  },
  {
   "cell_type": "code",
   "execution_count": null,
   "metadata": {},
   "outputs": [],
   "source": [
    "PlotLevelAttackData(attackerStats,victimStats,reflectorStats,Protocol,BytesOrPackets)"
   ]
  },
  {
   "cell_type": "markdown",
   "metadata": {},
   "source": [
    "# LindenHoff Tool"
   ]
  },
  {
   "cell_type": "markdown",
   "metadata": {},
   "source": [
    "## Bytes"
   ]
  },
  {
   "cell_type": "markdown",
   "metadata": {},
   "source": [
    "### SNMP"
   ]
  },
  {
   "cell_type": "code",
   "execution_count": null,
   "metadata": {},
   "outputs": [],
   "source": [
    "# Get pcap files\n",
    "attackerFilenames,victimFilenames,reflectorFilenames = getFiles('./pcap_snmp_lindenhof_tool')\n",
    "assert len(attackerFilenames) == len(victimFilenames) == len(reflectorFilenames)\n",
    "Protocol = \"SNMP\"\n",
    "useCachedBytes = False\n",
    "BytesOrPackets = \"bytes\"\n",
    "Tool=\"lindenhof\""
   ]
  },
  {
   "cell_type": "markdown",
   "metadata": {},
   "source": [
    "### Reading the data"
   ]
  },
  {
   "cell_type": "code",
   "execution_count": null,
   "metadata": {},
   "outputs": [],
   "source": [
    "# Read pcap \n",
    "attackerStats = getAttackStats(attackerFilenames,Protocol,useCachedBytes,BytesOrPackets,Tool)\n",
    "victimStats = getVictimStats(victimFilenames,Protocol,useCachedBytes,BytesOrPackets,Tool)\n",
    "reflectorStats = getReflectorStats(reflectorFilenames,Protocol,useCachedBytes,BytesOrPackets,Tool)"
   ]
  },
  {
   "cell_type": "markdown",
   "metadata": {},
   "source": [
    "### Displaying the data in latex"
   ]
  },
  {
   "cell_type": "code",
   "execution_count": null,
   "metadata": {},
   "outputs": [],
   "source": [
    "#print(tabulate(StatDf,headers='keys',tablefmt='fancy_grid',showindex=False))\n",
    "StatDf = getStatDf(attackerStats,victimStats,reflectorStats)\n",
    "latexTableString = StatDf.to_latex(column_format='ccrrrcc',index=False,caption=Protocol + \" ARDoS test traffic in \" + BytesOrPackets + \" for \" + Tool + \" tool\",label=Protocol + \"_Test_Traffic_in_\" + BytesOrPackets + \"_\" + Tool,position='H') # For getting the table into the report\n",
    "latexTableString = refineLatexTableStringScientificPaper(latexTableString)\n",
    "print(latexTableString)"
   ]
  },
  {
   "cell_type": "markdown",
   "metadata": {},
   "source": [
    "### Plotting"
   ]
  },
  {
   "cell_type": "code",
   "execution_count": null,
   "metadata": {},
   "outputs": [],
   "source": [
    "PlotLevelAttackData(attackerStats,victimStats,reflectorStats,Protocol,BytesOrPackets)"
   ]
  },
  {
   "cell_type": "markdown",
   "metadata": {},
   "source": [
    "## SSDP"
   ]
  },
  {
   "cell_type": "code",
   "execution_count": null,
   "metadata": {},
   "outputs": [],
   "source": [
    "# Get pcap files\n",
    "attackerFilenames,victimFilenames,reflectorFilenames = getFiles('./pcap_ssdp_lindenhof_tool')\n",
    "assert len(attackerFilenames) == len(victimFilenames) == len(reflectorFilenames)\n",
    "Protocol = \"SSDP\"\n",
    "useCachedBytes = False\n",
    "BytesOrPackets = \"bytes\"\n",
    "Tool=\"lindenhof\""
   ]
  },
  {
   "cell_type": "markdown",
   "metadata": {},
   "source": [
    "### Reading the data"
   ]
  },
  {
   "cell_type": "code",
   "execution_count": null,
   "metadata": {},
   "outputs": [],
   "source": [
    "# Read pcap \n",
    "attackerStats = getAttackStats(attackerFilenames,Protocol,useCachedBytes,BytesOrPackets,Tool)\n",
    "victimStats = getVictimStats(victimFilenames,Protocol,useCachedBytes,BytesOrPackets,Tool)\n",
    "reflectorStats = getReflectorStats(reflectorFilenames,Protocol,useCachedBytes,BytesOrPackets,Tool)"
   ]
  },
  {
   "cell_type": "markdown",
   "metadata": {},
   "source": [
    "### Displaying the data in latex"
   ]
  },
  {
   "cell_type": "code",
   "execution_count": null,
   "metadata": {},
   "outputs": [],
   "source": [
    "#print(tabulate(StatDf,headers='keys',tablefmt='fancy_grid',showindex=False))\n",
    "StatDf = getStatDf(attackerStats,victimStats,reflectorStats)\n",
    "latexTableString = StatDf.to_latex(column_format='ccrrrcc',index=False,caption=Protocol + \" ARDoS test traffic in \" + BytesOrPackets + \" for \" + Tool + \" tool\",label=Protocol + \"_Test_Traffic_in_\" + BytesOrPackets + \"_\" + Tool,position='H') # For getting the table into the report\n",
    "latexTableString = refineLatexTableStringScientificPaper(latexTableString)\n",
    "print(latexTableString)"
   ]
  },
  {
   "cell_type": "markdown",
   "metadata": {},
   "source": [
    "### Plotting"
   ]
  },
  {
   "cell_type": "code",
   "execution_count": null,
   "metadata": {},
   "outputs": [],
   "source": [
    "PlotLevelAttackData(attackerStats,victimStats,reflectorStats,Protocol,BytesOrPackets)"
   ]
  },
  {
   "cell_type": "markdown",
   "metadata": {},
   "source": [
    "## Packets"
   ]
  },
  {
   "cell_type": "markdown",
   "metadata": {},
   "source": [
    "### SNMP"
   ]
  },
  {
   "cell_type": "code",
   "execution_count": null,
   "metadata": {},
   "outputs": [],
   "source": [
    "# Get pcap files\n",
    "attackerFilenames,victimFilenames,reflectorFilenames = getFiles('./pcap_snmp_lindenhof_tool')\n",
    "assert len(attackerFilenames) == len(victimFilenames) == len(reflectorFilenames)\n",
    "Protocol = \"SNMP\"\n",
    "useCachedBytes = False\n",
    "BytesOrPackets = \"packets\"\n",
    "Tool=\"lindenhof\""
   ]
  },
  {
   "cell_type": "markdown",
   "metadata": {},
   "source": [
    "### Reading the data"
   ]
  },
  {
   "cell_type": "code",
   "execution_count": null,
   "metadata": {},
   "outputs": [],
   "source": [
    "# Read pcap \n",
    "attackerStats = getAttackStats(attackerFilenames,Protocol,useCachedBytes,BytesOrPackets,Tool)\n",
    "victimStats = getVictimStats(victimFilenames,Protocol,useCachedBytes,BytesOrPackets,Tool)\n",
    "reflectorStats = getReflectorStats(reflectorFilenames,Protocol,useCachedBytes,BytesOrPackets,Tool)"
   ]
  },
  {
   "cell_type": "markdown",
   "metadata": {},
   "source": [
    "### Displaying the data in latex"
   ]
  },
  {
   "cell_type": "code",
   "execution_count": null,
   "metadata": {},
   "outputs": [],
   "source": [
    "#print(tabulate(StatDf,headers='keys',tablefmt='fancy_grid',showindex=False))\n",
    "StatDf = getStatDf(attackerStats,victimStats,reflectorStats)\n",
    "latexTableString = StatDf.to_latex(column_format='ccrrrcc',index=False,caption=Protocol + \" ARDoS test traffic in \" + BytesOrPackets + \" for \" + Tool + \" tool\",label=Protocol + \"_Test_Traffic_in_\" + BytesOrPackets + \"_\" + Tool,position='H') # For getting the table into the report\n",
    "latexTableString = refineLatexTableStringScientificPaper(latexTableString)\n",
    "print(latexTableString)"
   ]
  },
  {
   "cell_type": "markdown",
   "metadata": {},
   "source": [
    "### Plotting"
   ]
  },
  {
   "cell_type": "code",
   "execution_count": null,
   "metadata": {},
   "outputs": [],
   "source": [
    "PlotLevelAttackData(attackerStats,victimStats,reflectorStats,Protocol,BytesOrPackets)"
   ]
  },
  {
   "cell_type": "markdown",
   "metadata": {},
   "source": [
    "## SSDP"
   ]
  },
  {
   "cell_type": "code",
   "execution_count": null,
   "metadata": {},
   "outputs": [],
   "source": [
    "# Get pcap files\n",
    "attackerFilenames,victimFilenames,reflectorFilenames = getFiles('./pcap_ssdp_lindenhof_tool')\n",
    "assert len(attackerFilenames) == len(victimFilenames) == len(reflectorFilenames)\n",
    "Protocol = \"SSDP\"\n",
    "useCachedBytes = False\n",
    "BytesOrPackets = \"packets\"\n",
    "Tool=\"lindenhof\""
   ]
  },
  {
   "cell_type": "markdown",
   "metadata": {},
   "source": [
    "### SNMP"
   ]
  },
  {
   "cell_type": "code",
   "execution_count": null,
   "metadata": {},
   "outputs": [],
   "source": [
    "# Get pcap files\n",
    "attackerFilenames,victimFilenames,reflectorFilenames = getFiles('./pcap_snmp_lindenhof_tool')\n",
    "assert len(attackerFilenames) == len(victimFilenames) == len(reflectorFilenames)\n",
    "Protocol = \"SNMP\"\n",
    "useCachedBytes = False\n",
    "BytesOrPackets = \"bytes\"\n",
    "Tool=\"lindenhof\""
   ]
  },
  {
   "cell_type": "markdown",
   "metadata": {},
   "source": [
    "### Reading the data"
   ]
  },
  {
   "cell_type": "code",
   "execution_count": null,
   "metadata": {},
   "outputs": [],
   "source": [
    "# Read pcap \n",
    "attackerStats = getAttackStats(attackerFilenames,Protocol,useCachedBytes,BytesOrPackets,Tool)\n",
    "victimStats = getVictimStats(victimFilenames,Protocol,useCachedBytes,BytesOrPackets,Tool)\n",
    "reflectorStats = getReflectorStats(reflectorFilenames,Protocol,useCachedBytes,BytesOrPackets,Tool)"
   ]
  },
  {
   "cell_type": "markdown",
   "metadata": {},
   "source": [
    "### Displaying the data in latex"
   ]
  },
  {
   "cell_type": "code",
   "execution_count": null,
   "metadata": {},
   "outputs": [],
   "source": [
    "#print(tabulate(StatDf,headers='keys',tablefmt='fancy_grid',showindex=False))\n",
    "StatDf = getStatDf(attackerStats,victimStats,reflectorStats)\n",
    "latexTableString = StatDf.to_latex(column_format='ccrrrcc',index=False,caption=Protocol + \" ARDoS test traffic in \" + BytesOrPackets + \" for \" + Tool + \" tool\",label=Protocol + \"_Test_Traffic_in_\" + BytesOrPackets + \"_\" + Tool,position='H') # For getting the table into the report\n",
    "latexTableString = refineLatexTableStringScientificPaper(latexTableString)\n",
    "print(latexTableString)"
   ]
  },
  {
   "cell_type": "markdown",
   "metadata": {},
   "source": [
    "### Plotting"
   ]
  },
  {
   "cell_type": "code",
   "execution_count": null,
   "metadata": {},
   "outputs": [],
   "source": [
    "PlotLevelAttackData(attackerStats,victimStats,reflectorStats,Protocol,BytesOrPackets)"
   ]
  }
 ],
 "metadata": {
  "interpreter": {
   "hash": "73bce13f8028dfd8341a3b2a55c69e4fac2a631d84fa7f8fd64bf1c4038b3a67"
  },
  "kernelspec": {
   "display_name": "Python 3.9.12 ('pcap-reading')",
   "language": "python",
   "name": "python3"
  },
  "language_info": {
   "codemirror_mode": {
    "name": "ipython",
    "version": 3
   },
   "file_extension": ".py",
   "mimetype": "text/x-python",
   "name": "python",
   "nbconvert_exporter": "python",
   "pygments_lexer": "ipython3",
   "version": "3.9.12"
  },
  "orig_nbformat": 4
 },
 "nbformat": 4,
 "nbformat_minor": 2
}
