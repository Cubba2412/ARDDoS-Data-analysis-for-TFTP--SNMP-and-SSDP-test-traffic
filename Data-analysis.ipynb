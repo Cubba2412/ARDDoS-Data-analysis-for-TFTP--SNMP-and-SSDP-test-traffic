{
 "cells": [
  {
   "cell_type": "code",
   "execution_count": 1,
   "metadata": {},
   "outputs": [],
   "source": [
    "from progressbar import Bar, ETA, \\\n",
    "    AdaptiveETA, Percentage, \\\n",
    "    ProgressBar \n",
    "widgets = [Percentage(),\n",
    "            ' ', Bar(),\n",
    "            ' ', ETA(),\n",
    "            ' ', AdaptiveETA()]\n",
    "pbar = ProgressBar(widgets=widgets)\n",
    "from pcapreader import PcapReader\n",
    "pcapToDf = PcapReader.pcapToDf\n",
    "import os\n",
    "import pandas as pd\n",
    "from tabulate import tabulate\n",
    "import warnings\n",
    "warnings.simplefilter(action='ignore', category=FutureWarning)\n",
    "\n",
    "\n"
   ]
  },
  {
   "cell_type": "code",
   "execution_count": 2,
   "metadata": {},
   "outputs": [],
   "source": [
    "def refineLatexTableStringScientificPaper(latexTableString):\n",
    "    # Hacks for multiindex dataframe\n",
    "    multiColFirst = latexTableString.find(\"\\multicolumn\")\n",
    "    latexTableString = latexTableString[:multiColFirst+16] + 'c' + latexTableString[multiColFirst+17:]\n",
    "    startRemove = latexTableString.find('\\multicolumn',multiColFirst+1)\n",
    "    latexTableString = latexTableString[:startRemove] + latexTableString[startRemove+18:]\n",
    "    # Adding a horizontal line for multindex table\n",
    "    latexTableString = latexTableString[:latexTableString.find('\\\\\\\\')+len('\\\\\\\\')] + '\\cline{2-5}' + latexTableString[latexTableString.find('\\\\\\\\')+len('\\\\\\\\'):]\n",
    "    # Find caption and put at the bottom\n",
    "    captionIndex = latexTableString.find(\"\\caption\")\n",
    "    captionEndIndex = latexTableString.find(\"}\",captionIndex+1)+1\n",
    "    endTableIndex = latexTableString.find(\"\\end{tabular}\")\n",
    "    endTableEndIndex = endTableIndex + len(\"\\end{tabular}\")\n",
    "    latexTableString[:endTableIndex] + latexTableString[endTableEndIndex:]\n",
    "    latexTableString = latexTableString[:endTableEndIndex] + latexTableString[captionIndex:captionEndIndex] + latexTableString[endTableEndIndex:]\n",
    "    latexTableString = latexTableString[:captionIndex] + latexTableString[captionEndIndex:]\n",
    "    return latexTableString"
   ]
  },
  {
   "cell_type": "code",
   "execution_count": 3,
   "metadata": {},
   "outputs": [],
   "source": [
    "## Get All pcap filenames:\n",
    "def getFiles(baseDir):\n",
    "    victimFilenames = []\n",
    "    attackerFilenames = []\n",
    "    reflectorFilenames = []\n",
    "    for root, dirs, files in os.walk(baseDir):\n",
    "        for file in files:\n",
    "            if file.endswith(\".pcapng\"):\n",
    "                if \"victim\" in file:\n",
    "                    victimFilenames.append(os.path.join(root, file))\n",
    "                if \"attacker\" in file:\n",
    "                    attackerFilenames.append(os.path.join(root, file))\n",
    "                if \"reflector\" in file:\n",
    "                    reflectorFilenames.append(os.path.join(root,file))\n",
    "    return attackerFilenames,victimFilenames,reflectorFilenames"
   ]
  },
  {
   "cell_type": "code",
   "execution_count": 4,
   "metadata": {},
   "outputs": [],
   "source": [
    "## Get attacker bytes sent\n",
    "def getAttackBytes(attackerFilenames,Protocol):\n",
    "    pbar = ProgressBar(widgets=widgets)\n",
    "    attackerBytes = []\n",
    "    for attackFile in pbar(attackerFilenames):\n",
    "        # Get attack level\n",
    "        start = attackFile.find('level')\n",
    "        end = start+len('level')+1\n",
    "        level = attackFile[start:end]\n",
    "        attackerDf = pcapToDf(attackFile,True)\n",
    "        # By finding the TFTP packets and summing the byte lengths we get the total number of bytes send by the attacker\n",
    "        attackerDf = attackerDf.loc[attackerDf['Protocol'].isin([Protocol])]\n",
    "        attackerBytesSent = attackerDf[\"Length\"].sum()\n",
    "        attackerBytes.append({'Level':level,'Attacker Outbound':attackerBytesSent})\n",
    "    attackerBytes = pd.DataFrame(attackerBytes).sort_values('Level')\n",
    "    return attackerBytes"
   ]
  },
  {
   "cell_type": "code",
   "execution_count": 5,
   "metadata": {},
   "outputs": [],
   "source": [
    "## Get Victim bytes received\n",
    "def getVictimBytes(victimFilenames):\n",
    "    pbar = ProgressBar(widgets=widgets)\n",
    "    victimBytes = []\n",
    "    for victimFile in pbar(victimFilenames):\n",
    "        # Get attack level\n",
    "        start = victimFile.find('level')\n",
    "        end = start+len('level')+1\n",
    "        level = victimFile[start:end]\n",
    "        victimDf = pcapToDf(victimFile,True)\n",
    "        # In the victim pcap filtering by destination port 50040 (the tftp servers source port) gives the tftp data transfered to the victim\n",
    "        victimBytesReceived = victimDf.loc[(victimDf['Protocol'] == \"UDP\") & (victimDf['UDP Destination Port'] == 50040)][\"Length\"].sum()\n",
    "        victimBytes.append({'Level':level,'Victim Inbound':victimBytesReceived}) \n",
    "    victimBytes = pd.DataFrame(victimBytes).sort_values('Level')\n",
    "    return victimBytes"
   ]
  },
  {
   "cell_type": "code",
   "execution_count": 6,
   "metadata": {},
   "outputs": [],
   "source": [
    "## Get Reflector bytes received and sent\n",
    "def getReflectorBytes(reflectorFilenames,Protocol):\n",
    "    pbar = ProgressBar(widgets=widgets)\n",
    "    reflectorBytes = []\n",
    "    for reflectorFile in pbar(reflectorFilenames):\n",
    "        # Get attack level\n",
    "        start = reflectorFile.find('level')\n",
    "        end = start+len('level')+1\n",
    "        level = reflectorFile[start:end]\n",
    "        reflectorDf = pcapToDf(reflectorFile,True)\n",
    "        # In the victim pcap filtering by destination port 50040 (the tftp servers source port) gives the tftp data transfered to the victim\n",
    "        reflectorBytesReceived = reflectorDf.loc[(reflectorDf['Protocol'] == Protocol) & (reflectorDf['UDP Source Port'] == 50040)][\"Length\"].sum()\n",
    "        reflectorBytesSent = reflectorDf.loc[(reflectorDf['Protocol'] == Protocol) & (reflectorDf['UDP Destination Port'] == 50040)][\"Length\"].sum()\n",
    "        reflectorBytes.append({'Level':level,'Reflector Inbound':reflectorBytesReceived,'Reflector Outbound':reflectorBytesSent})\n",
    "    reflectorBytes = pd.DataFrame(reflectorBytes).sort_values('Level')\n",
    "    return reflectorBytes"
   ]
  },
  {
   "cell_type": "code",
   "execution_count": 7,
   "metadata": {},
   "outputs": [],
   "source": [
    "## Data manipulation for presentation\n",
    "def getStatDf(attackerBytes,victimBytes,reflectorBytes):\n",
    "    StatDf = pd.DataFrame(columns=pd.MultiIndex.from_tuples([(\"Victim\", \"Inbound\"), (\"Reflector\", \"Inbound\"), (\"Reflector\", \"Outbound\"), (\"Attacker\", \"Outbound\")]))\n",
    "    StatDf[\"Level\"] = victimBytes['Level'].apply(lambda x: x.strip('level'))\n",
    "    StatDf[(\"Victim\",\"Inbound\")] = victimBytes['Victim Inbound']\n",
    "    StatDf[(\"Reflector\",\"Inbound\")] = reflectorBytes['Reflector Inbound']\n",
    "    StatDf[(\"Reflector\",\"Outbound\")] = reflectorBytes['Reflector Outbound']\n",
    "    StatDf[(\"Attacker\",\"Outbound\")] = attackerBytes['Attacker Outbound']\n",
    "    StatDf['Amplification factor'] = StatDf[(\"Victim\",\"Inbound\")] / StatDf[(\"Attacker\",\"Outbound\")]\n",
    "    column_to_move = StatDf.pop(\"Level\")\n",
    "    StatDf.insert(0, \"Level\", column_to_move)\n",
    "    return StatDf"
   ]
  },
  {
   "cell_type": "markdown",
   "metadata": {},
   "source": [
    "# TFTP DATA OWN TOOL"
   ]
  },
  {
   "cell_type": "code",
   "execution_count": 8,
   "metadata": {},
   "outputs": [],
   "source": [
    "# Get pcap files\n",
    "attackerFilenames,victimFilenames,reflectorFilenames = getFiles('./pcap_tftp_own_tool')"
   ]
  },
  {
   "cell_type": "code",
   "execution_count": 10,
   "metadata": {},
   "outputs": [
    {
     "name": "stderr",
     "output_type": "stream",
     "text": [
      "100% |############################################| Time: 0:02:31 Time: 0:02:31\n",
      "100% |############################################| Time: 0:00:03 Time: 0:00:03\n",
      "100% |############################################| Time: 0:00:55 Time: 0:00:55\n"
     ]
    }
   ],
   "source": [
    "# Read pcap files\n",
    "attackerBytes = getAttackBytes(attackerFilenames,Protocol=\"TFTP\")\n",
    "victimBytes = getVictimBytes(victimFilenames)\n",
    "reflectorBytes = getReflectorBytes(reflectorFilenames,Protocol=\"TFTP\")"
   ]
  },
  {
   "cell_type": "code",
   "execution_count": 11,
   "metadata": {},
   "outputs": [
    {
     "name": "stdout",
     "output_type": "stream",
     "text": [
      "\\begin{table}[H]\n",
      "\\centering\n",
      "\n",
      "\\label{TFTP_Test_Traffic}\n",
      "\\begin{tabular}{ccrrrc}\n",
      "\\toprule\n",
      "Level &  Victim & \\multicolumn{2}{c}{Reflector} &  Attacker & Amplification factor \\\\\\cline{2-5}\n",
      "      & Inbound &   Inbound & Outbound & {Outbound} \\\\\n",
      "\\midrule\n",
      "    0 &   48104 &     11160 &   639096 &       840 &            57.266667 \\\\\n",
      "    1 &  508528 &     17820 &   508528 &      8880 &            57.266667 \\\\\n",
      "    2 & 1813712 &     80640 &  1813712 &     80640 &            22.491468 \\\\\n",
      "    3 & 2701042 &    781080 &  2704888 &    781080 &             3.458086 \\\\\n",
      "    4 & 3171468 &  85571024 &  2925288 & 236692080 &             0.013399 \\\\\n",
      "    5 & 3096028 &  75819480 &  2696964 & 238204140 &             0.012997 \\\\\n",
      "\\bottomrule\n",
      "\\end{tabular}\\caption{TFTP DDoS test traffic}\n",
      "\\end{table}\n",
      "\n"
     ]
    }
   ],
   "source": [
    "#print(tabulate(StatDf,headers='keys',tablefmt='fancy_grid',showindex=False))\n",
    "StatDf = getStatDf(attackerBytes,victimBytes,reflectorBytes)\n",
    "latexTableString = StatDf.to_latex(column_format='ccrrrc',index=False,caption=\"TFTP DDoS test traffic\",label=\"TFTP_Test_Traffic\",position='H') # For getting the table into the report\n",
    "latexTableString = refineLatexTableStringScientificPaper(latexTableString)\n",
    "print(latexTableString)"
   ]
  },
  {
   "cell_type": "markdown",
   "metadata": {},
   "source": [
    "# SNMP DATA OWN TOOL"
   ]
  },
  {
   "cell_type": "code",
   "execution_count": null,
   "metadata": {},
   "outputs": [],
   "source": [
    "# Get pcap files\n",
    "attackerFilenames,victimFilenames,reflectorFilenames = getFiles('./pcap_snmp_own_tool')"
   ]
  },
  {
   "cell_type": "code",
   "execution_count": null,
   "metadata": {},
   "outputs": [],
   "source": [
    "# Read pcap files\n",
    "attackerBytes = getAttackBytes(attackerFilenames,Protocol=\"SNMP\")\n",
    "victimBytes = getAttackBytes(victimFilenames)\n",
    "reflectorBytes = getAttackBytes(reflectorFilenames,Protocol=\"SNMP\")"
   ]
  },
  {
   "cell_type": "code",
   "execution_count": null,
   "metadata": {},
   "outputs": [],
   "source": [
    "#print(tabulate(StatDf,headers='keys',tablefmt='fancy_grid',showindex=False))\n",
    "StatDf = getStatDf(attackerBytes,victimBytes,reflectorBytes)\n",
    "latexTableString = StatDf.to_latex(column_format='ccrrrc',index=False,caption=\"SNMP DDoS test traffic\",label=\"SNMP_Test_Traffic\",position='H') # For getting the table into the report\n",
    "latexTableString = refineLatexTableStringScientificPaper(latexTableString)\n",
    "print(latexTableString)"
   ]
  },
  {
   "cell_type": "markdown",
   "metadata": {},
   "source": [
    "# SSDP DATA OWN TOOL"
   ]
  },
  {
   "cell_type": "code",
   "execution_count": null,
   "metadata": {},
   "outputs": [],
   "source": [
    "# Get pcap files\n",
    "attackerFilenames,victimFilenames,reflectorFilenames = getFiles('./pcap_ssdp_own_tool')"
   ]
  },
  {
   "cell_type": "code",
   "execution_count": null,
   "metadata": {},
   "outputs": [],
   "source": [
    "# Read pcap files\n",
    "attackerBytes = getAttackBytes(attackerFilenames,Protocol=\"SSDP\")\n",
    "victimBytes = getAttackBytes(victimFilenames)\n",
    "reflectorBytes = getAttackBytes(reflectorFilenames,Protocol=\"SSDP\")"
   ]
  },
  {
   "cell_type": "code",
   "execution_count": null,
   "metadata": {},
   "outputs": [],
   "source": [
    "#print(tabulate(StatDf,headers='keys',tablefmt='fancy_grid',showindex=False))\n",
    "StatDf = getStatDf(attackerBytes,victimBytes,reflectorBytes)\n",
    "latexTableString = StatDf.to_latex(column_format='ccrrrc',index=False,caption=\"SSDP DDoS test traffic\",label=\"SNMP_Test_Traffic\",position='H') # For getting the table into the report\n",
    "latexTableString = refineLatexTableStringScientificPaper(latexTableString)\n",
    "print(latexTableString)"
   ]
  }
 ],
 "metadata": {
  "interpreter": {
   "hash": "73bce13f8028dfd8341a3b2a55c69e4fac2a631d84fa7f8fd64bf1c4038b3a67"
  },
  "kernelspec": {
   "display_name": "Python 3.9.12 ('pcap-reading')",
   "language": "python",
   "name": "python3"
  },
  "language_info": {
   "codemirror_mode": {
    "name": "ipython",
    "version": 3
   },
   "file_extension": ".py",
   "mimetype": "text/x-python",
   "name": "python",
   "nbconvert_exporter": "python",
   "pygments_lexer": "ipython3",
   "version": "3.9.12"
  },
  "orig_nbformat": 4
 },
 "nbformat": 4,
 "nbformat_minor": 2
}
