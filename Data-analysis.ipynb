{
 "cells": [
  {
   "cell_type": "code",
   "execution_count": 45,
   "metadata": {},
   "outputs": [
    {
     "name": "stdout",
     "output_type": "stream",
     "text": [
      "Starting 8 engines with <class 'ipyparallel.cluster.launcher.LocalEngineSetLauncher'>\n"
     ]
    },
    {
     "data": {
      "application/vnd.jupyter.widget-view+json": {
       "model_id": "eae339e6f1b34595a232eb4b169c1657",
       "version_major": 2,
       "version_minor": 0
      },
      "text/plain": [
       "  0%|          | 0/8 [00:00<?, ?engine/s]"
      ]
     },
     "metadata": {},
     "output_type": "display_data"
    }
   ],
   "source": [
    "from alive_progress import alive_it # For printing of progress in for loops\n",
    "from pcapreader import pcapToDf\n",
    "import os\n",
    "import pandas as pd\n",
    "from tabulate import tabulate\n",
    "# Running cells in parallel\n",
    "import ipyparallel as ipp\n",
    "# run:\n",
    "# ipcontroller --reuse \n",
    "# in the terminal first to start the cluster\n",
    "\n",
    "async def startCluster():\n",
    "    rc = await ipp.Cluster().start_and_connect(n=8, activate=True)\n",
    "await startCluster()\n",
    "\n"
   ]
  },
  {
   "cell_type": "code",
   "execution_count": 27,
   "metadata": {},
   "outputs": [],
   "source": [
    "def refineLatexTableString(latexTableString):\n",
    "    firstStart = latexTableString.find('{')\n",
    "    formatStart = latexTableString.find('{',firstStart+1)\n",
    "    firstEnd = latexTableString.find('}')\n",
    "    formatEnd = latexTableString.find('}',firstEnd+1)\n",
    "    replaceString = ''.join('|{}|'.format(x) for x in latexTableString[formatStart+1:formatEnd]).replace('||','|')\n",
    "    latexTableString = latexTableString.replace(latexTableString[formatStart+1:formatEnd],replaceString,len(replaceString))\n",
    "    newLineCounts = latexTableString.count(\"\\n\") - 1\n",
    "    latexTableString = latexTableString.replace('\\n','\\n \\hline ',newLineCounts)\n",
    "    return latexTableString"
   ]
  },
  {
   "cell_type": "code",
   "execution_count": 48,
   "metadata": {},
   "outputs": [],
   "source": [
    "## Get All pcap filenames:\n",
    "victimFilenames = []\n",
    "attackerFilenames = []\n",
    "reflectorFilenames = []\n",
    "for root, dirs, files in os.walk(\"./\"):\n",
    "    for file in files:\n",
    "        if file.endswith(\".pcapng\"):\n",
    "            if \"victim\" in file:\n",
    "                victimFilenames.append(os.path.join(root, file))\n",
    "            if \"attacker\" in file:\n",
    "                attackerFilenames.append(os.path.join(root, file))\n",
    "            if \"reflector\" in file:\n",
    "                reflectorFilenames.append(os.path.join(root,file))"
   ]
  },
  {
   "cell_type": "code",
   "execution_count": 49,
   "metadata": {},
   "outputs": [],
   "source": [
    "## Get attacker bytes sent\n",
    "attackerBytes = []\n",
    "for attackFile in alive_it(attackerFilenames):\n",
    "    # Get attack level\n",
    "    start = attackFile.find('level')\n",
    "    end = start+len('level')+1\n",
    "    level = attackFile[start:end]\n",
    "    attackerDf = pcapToDf(attackFile)\n",
    "    # By finding the TFTP packets and summing the byte lengths we get the total number of bytes send by the attacker\n",
    "    attackerDf = attackerDf.loc[attackerDf['Protocol'].isin([\"TFTP\"])]\n",
    "    attackerBytesSent = attackerDf[\"Length\"].sum()\n",
    "    attackerBytes.append({'Level':level,'Attacker Bytes Sent':attackerBytesSent},ignore_index=True)\n",
    "    attackerBytes = pd.DataFrame(attackerBytes).sort_values('Level')"
   ]
  },
  {
   "cell_type": "code",
   "execution_count": null,
   "metadata": {},
   "outputs": [],
   "source": [
    "## Get Victim bytes received\n",
    "victimBytes = []\n",
    "for victimFile in alive_it(victimFilenames):\n",
    "    # Get attack level\n",
    "    start = victimFile.find('level')\n",
    "    end = start+len('level')+1\n",
    "    level = victimFile[start:end]\n",
    "    victimDf = pcapToDf(victimFile)\n",
    "    # In the victim pcap filtering by destination port 50040 (the tftp servers source port) gives the tftp data transfered to the victim\n",
    "    victimBytesReceived = victimDf.loc[(victimDf['Protocol'] == \"UDP\") & (victimDf['UDP Destination Port'] == 50040)][\"Length\"].sum()\n",
    "    victimBytes.append({'Level':level,'Victim Bytes Received':victimBytesReceived},ignore_index=True) \n",
    "victimBytes = pd.DataFrame(victimBytes).sort_values('Level')"
   ]
  },
  {
   "cell_type": "code",
   "execution_count": 16,
   "metadata": {},
   "outputs": [
    {
     "name": "stdout",
     "output_type": "stream",
     "text": [
      "|████████████████████████████████⚠︎       | (!) 4/5 [80%] in 6:12.5 (0.01/s) \n"
     ]
    },
    {
     "ename": "ValueError",
     "evalue": "'192.168.69.10,192.168.69.1' does not appear to be an IPv4 or IPv6 address",
     "output_type": "error",
     "traceback": [
      "\u001b[0;31m---------------------------------------------------------------------------\u001b[0m",
      "\u001b[0;31mValueError\u001b[0m                                Traceback (most recent call last)",
      "\u001b[1;32m/Users/thomas/Library/CloudStorage/OneDrive-Personal/AAU/2. Semester/Secure Systems -  Attack and defence/Data and Data Analysis/Data-analysis.ipynb Cell 6'\u001b[0m in \u001b[0;36m<cell line: 3>\u001b[0;34m()\u001b[0m\n\u001b[1;32m      <a href='vscode-notebook-cell:/Users/thomas/Library/CloudStorage/OneDrive-Personal/AAU/2.%20Semester/Secure%20Systems%20-%20%20Attack%20and%20defence/Data%20and%20Data%20Analysis/Data-analysis.ipynb#ch0000001?line=5'>6</a>\u001b[0m end \u001b[39m=\u001b[39m start\u001b[39m+\u001b[39m\u001b[39mlen\u001b[39m(\u001b[39m'\u001b[39m\u001b[39mlevel\u001b[39m\u001b[39m'\u001b[39m)\u001b[39m+\u001b[39m\u001b[39m1\u001b[39m\n\u001b[1;32m      <a href='vscode-notebook-cell:/Users/thomas/Library/CloudStorage/OneDrive-Personal/AAU/2.%20Semester/Secure%20Systems%20-%20%20Attack%20and%20defence/Data%20and%20Data%20Analysis/Data-analysis.ipynb#ch0000001?line=6'>7</a>\u001b[0m level \u001b[39m=\u001b[39m reflectorFile[start:end]\n\u001b[0;32m----> <a href='vscode-notebook-cell:/Users/thomas/Library/CloudStorage/OneDrive-Personal/AAU/2.%20Semester/Secure%20Systems%20-%20%20Attack%20and%20defence/Data%20and%20Data%20Analysis/Data-analysis.ipynb#ch0000001?line=7'>8</a>\u001b[0m reflectorDf \u001b[39m=\u001b[39m pcapToDf(reflectorFile)\n\u001b[1;32m      <a href='vscode-notebook-cell:/Users/thomas/Library/CloudStorage/OneDrive-Personal/AAU/2.%20Semester/Secure%20Systems%20-%20%20Attack%20and%20defence/Data%20and%20Data%20Analysis/Data-analysis.ipynb#ch0000001?line=8'>9</a>\u001b[0m \u001b[39m# In the victim pcap filtering by destination port 50040 (the tftp servers source port) gives the tftp data transfered to the victim\u001b[39;00m\n\u001b[1;32m     <a href='vscode-notebook-cell:/Users/thomas/Library/CloudStorage/OneDrive-Personal/AAU/2.%20Semester/Secure%20Systems%20-%20%20Attack%20and%20defence/Data%20and%20Data%20Analysis/Data-analysis.ipynb#ch0000001?line=9'>10</a>\u001b[0m reflectorBytesReceived \u001b[39m=\u001b[39m reflectorDf\u001b[39m.\u001b[39mloc[(reflectorDf[\u001b[39m'\u001b[39m\u001b[39mProtocol\u001b[39m\u001b[39m'\u001b[39m] \u001b[39m==\u001b[39m \u001b[39m\"\u001b[39m\u001b[39mTFTP\u001b[39m\u001b[39m\"\u001b[39m) \u001b[39m&\u001b[39m (reflectorDf[\u001b[39m'\u001b[39m\u001b[39mUDP Source Port\u001b[39m\u001b[39m'\u001b[39m] \u001b[39m==\u001b[39m \u001b[39m50040\u001b[39m)][\u001b[39m\"\u001b[39m\u001b[39mLength\u001b[39m\u001b[39m\"\u001b[39m]\u001b[39m.\u001b[39msum()\n",
      "File \u001b[0;32m~/Library/CloudStorage/OneDrive-Personal/AAU/2. Semester/Secure Systems -  Attack and defence/Data and Data Analysis/pcapreader.py:28\u001b[0m, in \u001b[0;36mpcapToDf\u001b[0;34m(filename, RetainCSV)\u001b[0m\n\u001b[1;32m     <a href='file:///Users/thomas/Library/CloudStorage/OneDrive-Personal/AAU/2.%20Semester/Secure%20Systems%20-%20%20Attack%20and%20defence/Data%20and%20Data%20Analysis/pcapreader.py?line=25'>26</a>\u001b[0m df\u001b[39m.\u001b[39mSource \u001b[39m=\u001b[39m df\u001b[39m.\u001b[39mSource\u001b[39m.\u001b[39mfillna(\u001b[39m'\u001b[39m\u001b[39m0.0.0.0\u001b[39m\u001b[39m'\u001b[39m) \u001b[39m# 0.0.0.0 is used to represent missing data (In the case of ARP packets for example)\u001b[39;00m\n\u001b[1;32m     <a href='file:///Users/thomas/Library/CloudStorage/OneDrive-Personal/AAU/2.%20Semester/Secure%20Systems%20-%20%20Attack%20and%20defence/Data%20and%20Data%20Analysis/pcapreader.py?line=26'>27</a>\u001b[0m df\u001b[39m.\u001b[39mDestination \u001b[39m=\u001b[39m df\u001b[39m.\u001b[39mDestination\u001b[39m.\u001b[39mfillna(\u001b[39m'\u001b[39m\u001b[39m0.0.0.0\u001b[39m\u001b[39m'\u001b[39m) \u001b[39m# 0.0.0.0 is used to represent missing data (In the case of ARP packets for example)\u001b[39;00m\n\u001b[0;32m---> <a href='file:///Users/thomas/Library/CloudStorage/OneDrive-Personal/AAU/2.%20Semester/Secure%20Systems%20-%20%20Attack%20and%20defence/Data%20and%20Data%20Analysis/pcapreader.py?line=27'>28</a>\u001b[0m df\u001b[39m.\u001b[39mSource \u001b[39m=\u001b[39m df\u001b[39m.\u001b[39;49mSource\u001b[39m.\u001b[39;49mapply(\u001b[39mlambda\u001b[39;49;00m x: to_ipaddress(x))\n\u001b[1;32m     <a href='file:///Users/thomas/Library/CloudStorage/OneDrive-Personal/AAU/2.%20Semester/Secure%20Systems%20-%20%20Attack%20and%20defence/Data%20and%20Data%20Analysis/pcapreader.py?line=28'>29</a>\u001b[0m df\u001b[39m.\u001b[39mDestination \u001b[39m=\u001b[39m df\u001b[39m.\u001b[39mDestination\u001b[39m.\u001b[39mapply(\u001b[39mlambda\u001b[39;00m x: to_ipaddress(x))\n\u001b[1;32m     <a href='file:///Users/thomas/Library/CloudStorage/OneDrive-Personal/AAU/2.%20Semester/Secure%20Systems%20-%20%20Attack%20and%20defence/Data%20and%20Data%20Analysis/pcapreader.py?line=29'>30</a>\u001b[0m df \u001b[39m=\u001b[39m df\u001b[39m.\u001b[39mastype({\u001b[39m\"\u001b[39m\u001b[39mTCP Source Port\u001b[39m\u001b[39m\"\u001b[39m: \u001b[39m'\u001b[39m\u001b[39mInt64\u001b[39m\u001b[39m'\u001b[39m, \u001b[39m\"\u001b[39m\u001b[39mTCP Destination Port\u001b[39m\u001b[39m\"\u001b[39m: \u001b[39m'\u001b[39m\u001b[39mInt64\u001b[39m\u001b[39m'\u001b[39m, \u001b[39m\"\u001b[39m\u001b[39mUDP Source Port\u001b[39m\u001b[39m\"\u001b[39m: \u001b[39m'\u001b[39m\u001b[39mInt64\u001b[39m\u001b[39m'\u001b[39m, \u001b[39m\"\u001b[39m\u001b[39mUDP Destination Port\u001b[39m\u001b[39m\"\u001b[39m:\u001b[39m'\u001b[39m\u001b[39mInt64\u001b[39m\u001b[39m'\u001b[39m})\n",
      "File \u001b[0;32m/opt/homebrew/Caskroom/miniconda/base/envs/pcap-reading/lib/python3.9/site-packages/pandas/core/series.py:4433\u001b[0m, in \u001b[0;36mSeries.apply\u001b[0;34m(self, func, convert_dtype, args, **kwargs)\u001b[0m\n\u001b[1;32m   <a href='file:///opt/homebrew/Caskroom/miniconda/base/envs/pcap-reading/lib/python3.9/site-packages/pandas/core/series.py?line=4322'>4323</a>\u001b[0m \u001b[39mdef\u001b[39;00m \u001b[39mapply\u001b[39m(\n\u001b[1;32m   <a href='file:///opt/homebrew/Caskroom/miniconda/base/envs/pcap-reading/lib/python3.9/site-packages/pandas/core/series.py?line=4323'>4324</a>\u001b[0m     \u001b[39mself\u001b[39m,\n\u001b[1;32m   <a href='file:///opt/homebrew/Caskroom/miniconda/base/envs/pcap-reading/lib/python3.9/site-packages/pandas/core/series.py?line=4324'>4325</a>\u001b[0m     func: AggFuncType,\n\u001b[0;32m   (...)\u001b[0m\n\u001b[1;32m   <a href='file:///opt/homebrew/Caskroom/miniconda/base/envs/pcap-reading/lib/python3.9/site-packages/pandas/core/series.py?line=4327'>4328</a>\u001b[0m     \u001b[39m*\u001b[39m\u001b[39m*\u001b[39mkwargs,\n\u001b[1;32m   <a href='file:///opt/homebrew/Caskroom/miniconda/base/envs/pcap-reading/lib/python3.9/site-packages/pandas/core/series.py?line=4328'>4329</a>\u001b[0m ) \u001b[39m-\u001b[39m\u001b[39m>\u001b[39m DataFrame \u001b[39m|\u001b[39m Series:\n\u001b[1;32m   <a href='file:///opt/homebrew/Caskroom/miniconda/base/envs/pcap-reading/lib/python3.9/site-packages/pandas/core/series.py?line=4329'>4330</a>\u001b[0m     \u001b[39m\"\"\"\u001b[39;00m\n\u001b[1;32m   <a href='file:///opt/homebrew/Caskroom/miniconda/base/envs/pcap-reading/lib/python3.9/site-packages/pandas/core/series.py?line=4330'>4331</a>\u001b[0m \u001b[39m    Invoke function on values of Series.\u001b[39;00m\n\u001b[1;32m   <a href='file:///opt/homebrew/Caskroom/miniconda/base/envs/pcap-reading/lib/python3.9/site-packages/pandas/core/series.py?line=4331'>4332</a>\u001b[0m \n\u001b[0;32m   (...)\u001b[0m\n\u001b[1;32m   <a href='file:///opt/homebrew/Caskroom/miniconda/base/envs/pcap-reading/lib/python3.9/site-packages/pandas/core/series.py?line=4430'>4431</a>\u001b[0m \u001b[39m    dtype: float64\u001b[39;00m\n\u001b[1;32m   <a href='file:///opt/homebrew/Caskroom/miniconda/base/envs/pcap-reading/lib/python3.9/site-packages/pandas/core/series.py?line=4431'>4432</a>\u001b[0m \u001b[39m    \"\"\"\u001b[39;00m\n\u001b[0;32m-> <a href='file:///opt/homebrew/Caskroom/miniconda/base/envs/pcap-reading/lib/python3.9/site-packages/pandas/core/series.py?line=4432'>4433</a>\u001b[0m     \u001b[39mreturn\u001b[39;00m SeriesApply(\u001b[39mself\u001b[39;49m, func, convert_dtype, args, kwargs)\u001b[39m.\u001b[39;49mapply()\n",
      "File \u001b[0;32m/opt/homebrew/Caskroom/miniconda/base/envs/pcap-reading/lib/python3.9/site-packages/pandas/core/apply.py:1082\u001b[0m, in \u001b[0;36mSeriesApply.apply\u001b[0;34m(self)\u001b[0m\n\u001b[1;32m   <a href='file:///opt/homebrew/Caskroom/miniconda/base/envs/pcap-reading/lib/python3.9/site-packages/pandas/core/apply.py?line=1077'>1078</a>\u001b[0m \u001b[39mif\u001b[39;00m \u001b[39misinstance\u001b[39m(\u001b[39mself\u001b[39m\u001b[39m.\u001b[39mf, \u001b[39mstr\u001b[39m):\n\u001b[1;32m   <a href='file:///opt/homebrew/Caskroom/miniconda/base/envs/pcap-reading/lib/python3.9/site-packages/pandas/core/apply.py?line=1078'>1079</a>\u001b[0m     \u001b[39m# if we are a string, try to dispatch\u001b[39;00m\n\u001b[1;32m   <a href='file:///opt/homebrew/Caskroom/miniconda/base/envs/pcap-reading/lib/python3.9/site-packages/pandas/core/apply.py?line=1079'>1080</a>\u001b[0m     \u001b[39mreturn\u001b[39;00m \u001b[39mself\u001b[39m\u001b[39m.\u001b[39mapply_str()\n\u001b[0;32m-> <a href='file:///opt/homebrew/Caskroom/miniconda/base/envs/pcap-reading/lib/python3.9/site-packages/pandas/core/apply.py?line=1081'>1082</a>\u001b[0m \u001b[39mreturn\u001b[39;00m \u001b[39mself\u001b[39;49m\u001b[39m.\u001b[39;49mapply_standard()\n",
      "File \u001b[0;32m/opt/homebrew/Caskroom/miniconda/base/envs/pcap-reading/lib/python3.9/site-packages/pandas/core/apply.py:1137\u001b[0m, in \u001b[0;36mSeriesApply.apply_standard\u001b[0;34m(self)\u001b[0m\n\u001b[1;32m   <a href='file:///opt/homebrew/Caskroom/miniconda/base/envs/pcap-reading/lib/python3.9/site-packages/pandas/core/apply.py?line=1130'>1131</a>\u001b[0m         values \u001b[39m=\u001b[39m obj\u001b[39m.\u001b[39mastype(\u001b[39mobject\u001b[39m)\u001b[39m.\u001b[39m_values\n\u001b[1;32m   <a href='file:///opt/homebrew/Caskroom/miniconda/base/envs/pcap-reading/lib/python3.9/site-packages/pandas/core/apply.py?line=1131'>1132</a>\u001b[0m         \u001b[39m# error: Argument 2 to \"map_infer\" has incompatible type\u001b[39;00m\n\u001b[1;32m   <a href='file:///opt/homebrew/Caskroom/miniconda/base/envs/pcap-reading/lib/python3.9/site-packages/pandas/core/apply.py?line=1132'>1133</a>\u001b[0m         \u001b[39m# \"Union[Callable[..., Any], str, List[Union[Callable[..., Any], str]],\u001b[39;00m\n\u001b[1;32m   <a href='file:///opt/homebrew/Caskroom/miniconda/base/envs/pcap-reading/lib/python3.9/site-packages/pandas/core/apply.py?line=1133'>1134</a>\u001b[0m         \u001b[39m# Dict[Hashable, Union[Union[Callable[..., Any], str],\u001b[39;00m\n\u001b[1;32m   <a href='file:///opt/homebrew/Caskroom/miniconda/base/envs/pcap-reading/lib/python3.9/site-packages/pandas/core/apply.py?line=1134'>1135</a>\u001b[0m         \u001b[39m# List[Union[Callable[..., Any], str]]]]]\"; expected\u001b[39;00m\n\u001b[1;32m   <a href='file:///opt/homebrew/Caskroom/miniconda/base/envs/pcap-reading/lib/python3.9/site-packages/pandas/core/apply.py?line=1135'>1136</a>\u001b[0m         \u001b[39m# \"Callable[[Any], Any]\"\u001b[39;00m\n\u001b[0;32m-> <a href='file:///opt/homebrew/Caskroom/miniconda/base/envs/pcap-reading/lib/python3.9/site-packages/pandas/core/apply.py?line=1136'>1137</a>\u001b[0m         mapped \u001b[39m=\u001b[39m lib\u001b[39m.\u001b[39;49mmap_infer(\n\u001b[1;32m   <a href='file:///opt/homebrew/Caskroom/miniconda/base/envs/pcap-reading/lib/python3.9/site-packages/pandas/core/apply.py?line=1137'>1138</a>\u001b[0m             values,\n\u001b[1;32m   <a href='file:///opt/homebrew/Caskroom/miniconda/base/envs/pcap-reading/lib/python3.9/site-packages/pandas/core/apply.py?line=1138'>1139</a>\u001b[0m             f,  \u001b[39m# type: ignore[arg-type]\u001b[39;49;00m\n\u001b[1;32m   <a href='file:///opt/homebrew/Caskroom/miniconda/base/envs/pcap-reading/lib/python3.9/site-packages/pandas/core/apply.py?line=1139'>1140</a>\u001b[0m             convert\u001b[39m=\u001b[39;49m\u001b[39mself\u001b[39;49m\u001b[39m.\u001b[39;49mconvert_dtype,\n\u001b[1;32m   <a href='file:///opt/homebrew/Caskroom/miniconda/base/envs/pcap-reading/lib/python3.9/site-packages/pandas/core/apply.py?line=1140'>1141</a>\u001b[0m         )\n\u001b[1;32m   <a href='file:///opt/homebrew/Caskroom/miniconda/base/envs/pcap-reading/lib/python3.9/site-packages/pandas/core/apply.py?line=1142'>1143</a>\u001b[0m \u001b[39mif\u001b[39;00m \u001b[39mlen\u001b[39m(mapped) \u001b[39mand\u001b[39;00m \u001b[39misinstance\u001b[39m(mapped[\u001b[39m0\u001b[39m], ABCSeries):\n\u001b[1;32m   <a href='file:///opt/homebrew/Caskroom/miniconda/base/envs/pcap-reading/lib/python3.9/site-packages/pandas/core/apply.py?line=1143'>1144</a>\u001b[0m     \u001b[39m# GH#43986 Need to do list(mapped) in order to get treated as nested\u001b[39;00m\n\u001b[1;32m   <a href='file:///opt/homebrew/Caskroom/miniconda/base/envs/pcap-reading/lib/python3.9/site-packages/pandas/core/apply.py?line=1144'>1145</a>\u001b[0m     \u001b[39m#  See also GH#25959 regarding EA support\u001b[39;00m\n\u001b[1;32m   <a href='file:///opt/homebrew/Caskroom/miniconda/base/envs/pcap-reading/lib/python3.9/site-packages/pandas/core/apply.py?line=1145'>1146</a>\u001b[0m     \u001b[39mreturn\u001b[39;00m obj\u001b[39m.\u001b[39m_constructor_expanddim(\u001b[39mlist\u001b[39m(mapped), index\u001b[39m=\u001b[39mobj\u001b[39m.\u001b[39mindex)\n",
      "File \u001b[0;32mpandas/_libs/lib.pyx:2870\u001b[0m, in \u001b[0;36mpandas._libs.lib.map_infer\u001b[0;34m()\u001b[0m\n",
      "File \u001b[0;32m~/Library/CloudStorage/OneDrive-Personal/AAU/2. Semester/Secure Systems -  Attack and defence/Data and Data Analysis/pcapreader.py:28\u001b[0m, in \u001b[0;36mpcapToDf.<locals>.<lambda>\u001b[0;34m(x)\u001b[0m\n\u001b[1;32m     <a href='file:///Users/thomas/Library/CloudStorage/OneDrive-Personal/AAU/2.%20Semester/Secure%20Systems%20-%20%20Attack%20and%20defence/Data%20and%20Data%20Analysis/pcapreader.py?line=25'>26</a>\u001b[0m df\u001b[39m.\u001b[39mSource \u001b[39m=\u001b[39m df\u001b[39m.\u001b[39mSource\u001b[39m.\u001b[39mfillna(\u001b[39m'\u001b[39m\u001b[39m0.0.0.0\u001b[39m\u001b[39m'\u001b[39m) \u001b[39m# 0.0.0.0 is used to represent missing data (In the case of ARP packets for example)\u001b[39;00m\n\u001b[1;32m     <a href='file:///Users/thomas/Library/CloudStorage/OneDrive-Personal/AAU/2.%20Semester/Secure%20Systems%20-%20%20Attack%20and%20defence/Data%20and%20Data%20Analysis/pcapreader.py?line=26'>27</a>\u001b[0m df\u001b[39m.\u001b[39mDestination \u001b[39m=\u001b[39m df\u001b[39m.\u001b[39mDestination\u001b[39m.\u001b[39mfillna(\u001b[39m'\u001b[39m\u001b[39m0.0.0.0\u001b[39m\u001b[39m'\u001b[39m) \u001b[39m# 0.0.0.0 is used to represent missing data (In the case of ARP packets for example)\u001b[39;00m\n\u001b[0;32m---> <a href='file:///Users/thomas/Library/CloudStorage/OneDrive-Personal/AAU/2.%20Semester/Secure%20Systems%20-%20%20Attack%20and%20defence/Data%20and%20Data%20Analysis/pcapreader.py?line=27'>28</a>\u001b[0m df\u001b[39m.\u001b[39mSource \u001b[39m=\u001b[39m df\u001b[39m.\u001b[39mSource\u001b[39m.\u001b[39mapply(\u001b[39mlambda\u001b[39;00m x: to_ipaddress(x))\n\u001b[1;32m     <a href='file:///Users/thomas/Library/CloudStorage/OneDrive-Personal/AAU/2.%20Semester/Secure%20Systems%20-%20%20Attack%20and%20defence/Data%20and%20Data%20Analysis/pcapreader.py?line=28'>29</a>\u001b[0m df\u001b[39m.\u001b[39mDestination \u001b[39m=\u001b[39m df\u001b[39m.\u001b[39mDestination\u001b[39m.\u001b[39mapply(\u001b[39mlambda\u001b[39;00m x: to_ipaddress(x))\n\u001b[1;32m     <a href='file:///Users/thomas/Library/CloudStorage/OneDrive-Personal/AAU/2.%20Semester/Secure%20Systems%20-%20%20Attack%20and%20defence/Data%20and%20Data%20Analysis/pcapreader.py?line=29'>30</a>\u001b[0m df \u001b[39m=\u001b[39m df\u001b[39m.\u001b[39mastype({\u001b[39m\"\u001b[39m\u001b[39mTCP Source Port\u001b[39m\u001b[39m\"\u001b[39m: \u001b[39m'\u001b[39m\u001b[39mInt64\u001b[39m\u001b[39m'\u001b[39m, \u001b[39m\"\u001b[39m\u001b[39mTCP Destination Port\u001b[39m\u001b[39m\"\u001b[39m: \u001b[39m'\u001b[39m\u001b[39mInt64\u001b[39m\u001b[39m'\u001b[39m, \u001b[39m\"\u001b[39m\u001b[39mUDP Source Port\u001b[39m\u001b[39m\"\u001b[39m: \u001b[39m'\u001b[39m\u001b[39mInt64\u001b[39m\u001b[39m'\u001b[39m, \u001b[39m\"\u001b[39m\u001b[39mUDP Destination Port\u001b[39m\u001b[39m\"\u001b[39m:\u001b[39m'\u001b[39m\u001b[39mInt64\u001b[39m\u001b[39m'\u001b[39m})\n",
      "File \u001b[0;32m/opt/homebrew/Caskroom/miniconda/base/envs/pcap-reading/lib/python3.9/site-packages/cyberpandas/parser.py:42\u001b[0m, in \u001b[0;36mto_ipaddress\u001b[0;34m(values)\u001b[0m\n\u001b[1;32m     <a href='file:///opt/homebrew/Caskroom/miniconda/base/envs/pcap-reading/lib/python3.9/site-packages/cyberpandas/parser.py?line=38'>39</a>\u001b[0m \u001b[39mif\u001b[39;00m \u001b[39mnot\u001b[39;00m is_list_like(values):\n\u001b[1;32m     <a href='file:///opt/homebrew/Caskroom/miniconda/base/envs/pcap-reading/lib/python3.9/site-packages/cyberpandas/parser.py?line=39'>40</a>\u001b[0m     values \u001b[39m=\u001b[39m [values]\n\u001b[0;32m---> <a href='file:///opt/homebrew/Caskroom/miniconda/base/envs/pcap-reading/lib/python3.9/site-packages/cyberpandas/parser.py?line=41'>42</a>\u001b[0m \u001b[39mreturn\u001b[39;00m IPArray(_to_ip_array(values))\n",
      "File \u001b[0;32m/opt/homebrew/Caskroom/miniconda/base/envs/pcap-reading/lib/python3.9/site-packages/cyberpandas/parser.py:61\u001b[0m, in \u001b[0;36m_to_ip_array\u001b[0;34m(values)\u001b[0m\n\u001b[1;32m     <a href='file:///opt/homebrew/Caskroom/miniconda/base/envs/pcap-reading/lib/python3.9/site-packages/cyberpandas/parser.py?line=56'>57</a>\u001b[0m     values[\u001b[39m'\u001b[39m\u001b[39mhi\u001b[39m\u001b[39m'\u001b[39m] \u001b[39m=\u001b[39m \u001b[39m0\u001b[39m\n\u001b[1;32m     <a href='file:///opt/homebrew/Caskroom/miniconda/base/envs/pcap-reading/lib/python3.9/site-packages/cyberpandas/parser.py?line=58'>59</a>\u001b[0m \u001b[39melif\u001b[39;00m \u001b[39mnot\u001b[39;00m (\u001b[39misinstance\u001b[39m(values, np\u001b[39m.\u001b[39mndarray) \u001b[39mand\u001b[39;00m\n\u001b[1;32m     <a href='file:///opt/homebrew/Caskroom/miniconda/base/envs/pcap-reading/lib/python3.9/site-packages/cyberpandas/parser.py?line=59'>60</a>\u001b[0m           values\u001b[39m.\u001b[39mdtype \u001b[39m==\u001b[39m IPType\u001b[39m.\u001b[39m_record_type):\n\u001b[0;32m---> <a href='file:///opt/homebrew/Caskroom/miniconda/base/envs/pcap-reading/lib/python3.9/site-packages/cyberpandas/parser.py?line=60'>61</a>\u001b[0m     values \u001b[39m=\u001b[39m _to_int_pairs(values)\n\u001b[1;32m     <a href='file:///opt/homebrew/Caskroom/miniconda/base/envs/pcap-reading/lib/python3.9/site-packages/cyberpandas/parser.py?line=61'>62</a>\u001b[0m \u001b[39mreturn\u001b[39;00m np\u001b[39m.\u001b[39matleast_1d(np\u001b[39m.\u001b[39masarray(values, dtype\u001b[39m=\u001b[39mIPType\u001b[39m.\u001b[39m_record_type))\n",
      "File \u001b[0;32m/opt/homebrew/Caskroom/miniconda/base/envs/pcap-reading/lib/python3.9/site-packages/cyberpandas/parser.py:81\u001b[0m, in \u001b[0;36m_to_int_pairs\u001b[0;34m(values)\u001b[0m\n\u001b[1;32m     <a href='file:///opt/homebrew/Caskroom/miniconda/base/envs/pcap-reading/lib/python3.9/site-packages/cyberpandas/parser.py?line=78'>79</a>\u001b[0m     \u001b[39mpass\u001b[39;00m\n\u001b[1;32m     <a href='file:///opt/homebrew/Caskroom/miniconda/base/envs/pcap-reading/lib/python3.9/site-packages/cyberpandas/parser.py?line=79'>80</a>\u001b[0m \u001b[39melse\u001b[39;00m:\n\u001b[0;32m---> <a href='file:///opt/homebrew/Caskroom/miniconda/base/envs/pcap-reading/lib/python3.9/site-packages/cyberpandas/parser.py?line=80'>81</a>\u001b[0m     values \u001b[39m=\u001b[39m [ipaddress\u001b[39m.\u001b[39mip_address(v)\u001b[39m.\u001b[39m_ip \u001b[39mfor\u001b[39;00m v \u001b[39min\u001b[39;00m values]\n\u001b[1;32m     <a href='file:///opt/homebrew/Caskroom/miniconda/base/envs/pcap-reading/lib/python3.9/site-packages/cyberpandas/parser.py?line=81'>82</a>\u001b[0m     values \u001b[39m=\u001b[39m [unpack(pack(v)) \u001b[39mfor\u001b[39;00m v \u001b[39min\u001b[39;00m values]\n\u001b[1;32m     <a href='file:///opt/homebrew/Caskroom/miniconda/base/envs/pcap-reading/lib/python3.9/site-packages/cyberpandas/parser.py?line=82'>83</a>\u001b[0m \u001b[39mreturn\u001b[39;00m values\n",
      "File \u001b[0;32m/opt/homebrew/Caskroom/miniconda/base/envs/pcap-reading/lib/python3.9/site-packages/cyberpandas/parser.py:81\u001b[0m, in \u001b[0;36m<listcomp>\u001b[0;34m(.0)\u001b[0m\n\u001b[1;32m     <a href='file:///opt/homebrew/Caskroom/miniconda/base/envs/pcap-reading/lib/python3.9/site-packages/cyberpandas/parser.py?line=78'>79</a>\u001b[0m     \u001b[39mpass\u001b[39;00m\n\u001b[1;32m     <a href='file:///opt/homebrew/Caskroom/miniconda/base/envs/pcap-reading/lib/python3.9/site-packages/cyberpandas/parser.py?line=79'>80</a>\u001b[0m \u001b[39melse\u001b[39;00m:\n\u001b[0;32m---> <a href='file:///opt/homebrew/Caskroom/miniconda/base/envs/pcap-reading/lib/python3.9/site-packages/cyberpandas/parser.py?line=80'>81</a>\u001b[0m     values \u001b[39m=\u001b[39m [ipaddress\u001b[39m.\u001b[39;49mip_address(v)\u001b[39m.\u001b[39m_ip \u001b[39mfor\u001b[39;00m v \u001b[39min\u001b[39;00m values]\n\u001b[1;32m     <a href='file:///opt/homebrew/Caskroom/miniconda/base/envs/pcap-reading/lib/python3.9/site-packages/cyberpandas/parser.py?line=81'>82</a>\u001b[0m     values \u001b[39m=\u001b[39m [unpack(pack(v)) \u001b[39mfor\u001b[39;00m v \u001b[39min\u001b[39;00m values]\n\u001b[1;32m     <a href='file:///opt/homebrew/Caskroom/miniconda/base/envs/pcap-reading/lib/python3.9/site-packages/cyberpandas/parser.py?line=82'>83</a>\u001b[0m \u001b[39mreturn\u001b[39;00m values\n",
      "File \u001b[0;32m/opt/homebrew/Caskroom/miniconda/base/envs/pcap-reading/lib/python3.9/ipaddress.py:53\u001b[0m, in \u001b[0;36mip_address\u001b[0;34m(address)\u001b[0m\n\u001b[1;32m     <a href='file:///opt/homebrew/Caskroom/miniconda/base/envs/pcap-reading/lib/python3.9/ipaddress.py?line=49'>50</a>\u001b[0m \u001b[39mexcept\u001b[39;00m (AddressValueError, NetmaskValueError):\n\u001b[1;32m     <a href='file:///opt/homebrew/Caskroom/miniconda/base/envs/pcap-reading/lib/python3.9/ipaddress.py?line=50'>51</a>\u001b[0m     \u001b[39mpass\u001b[39;00m\n\u001b[0;32m---> <a href='file:///opt/homebrew/Caskroom/miniconda/base/envs/pcap-reading/lib/python3.9/ipaddress.py?line=52'>53</a>\u001b[0m \u001b[39mraise\u001b[39;00m \u001b[39mValueError\u001b[39;00m(\u001b[39m'\u001b[39m\u001b[39m%r\u001b[39;00m\u001b[39m does not appear to be an IPv4 or IPv6 address\u001b[39m\u001b[39m'\u001b[39m \u001b[39m%\u001b[39m\n\u001b[1;32m     <a href='file:///opt/homebrew/Caskroom/miniconda/base/envs/pcap-reading/lib/python3.9/ipaddress.py?line=53'>54</a>\u001b[0m                  address)\n",
      "\u001b[0;31mValueError\u001b[0m: '192.168.69.10,192.168.69.1' does not appear to be an IPv4 or IPv6 address"
     ]
    }
   ],
   "source": [
    "## Get Reflector bytes received and sent\n",
    "reflectorBytes = []\n",
    "for reflectorFile in alive_it(reflectorFilenames):\n",
    "    # Get attack level\n",
    "    start = reflectorFile.find('level')\n",
    "    end = start+len('level')+1\n",
    "    level = reflectorFile[start:end]\n",
    "    reflectorDf = pcapToDf(reflectorFile)\n",
    "    # In the victim pcap filtering by destination port 50040 (the tftp servers source port) gives the tftp data transfered to the victim\n",
    "    reflectorBytesReceived = reflectorDf.loc[(reflectorDf['Protocol'] == \"TFTP\") & (reflectorDf['UDP Source Port'] == 50040)][\"Length\"].sum()\n",
    "    reflectorBytesSent = reflectorDf.loc[(reflectorDf['Protocol'] == \"TFTP\") & (reflectorDf['UDP Destination Port'] == 50040)][\"Length\"].sum()\n",
    "    reflectorBytes.append({'Level':level,'Reflector Bytes Received':reflectorBytesReceived,'Reflector Bytes Sent':reflectorBytesSent},ignore_index=True)\n",
    "victreflectorBytesimBytes = pd.DataFrame(reflectorBytes).sort_values('Level')"
   ]
  },
  {
   "cell_type": "code",
   "execution_count": null,
   "metadata": {},
   "outputs": [],
   "source": [
    "## Data manipulation for presentation\n",
    "\n",
    "extracted_col = attackerBytes['Attacker Bytes Sent']\n",
    "byteStatisticTable = victimBytes.join(extracted_col)\n",
    "byteStatisticTable['Amplification factor'] = byteStatisticTable['Victim Bytes Received']/byteStatisticTable['Attacker Bytes Sent']"
   ]
  },
  {
   "cell_type": "code",
   "execution_count": 9,
   "metadata": {},
   "outputs": [
    {
     "name": "stdout",
     "output_type": "stream",
     "text": [
      "╒═════════╤═════════════════════════╤═══════════════════════╤════════════════════════╕\n",
      "│ Level   │   Victim Bytes Received │   Attacker Bytes Sent │   Amplification factor │\n",
      "╞═════════╪═════════════════════════╪═══════════════════════╪════════════════════════╡\n",
      "│ level0  │                   48104 │                   840 │             57.2667    │\n",
      "├─────────┼─────────────────────────┼───────────────────────┼────────────────────────┤\n",
      "│ level1  │                  508528 │                  8880 │             57.2667    │\n",
      "├─────────┼─────────────────────────┼───────────────────────┼────────────────────────┤\n",
      "│ level2  │                 1813712 │                 80640 │             22.4915    │\n",
      "├─────────┼─────────────────────────┼───────────────────────┼────────────────────────┤\n",
      "│ level3  │                 2701042 │                781080 │              3.45809   │\n",
      "├─────────┼─────────────────────────┼───────────────────────┼────────────────────────┤\n",
      "│ level4  │                 3171468 │             236692080 │              0.0133991 │\n",
      "├─────────┼─────────────────────────┼───────────────────────┼────────────────────────┤\n",
      "│ level5  │                 3096028 │             238204140 │              0.0129974 │\n",
      "╘═════════╧═════════════════════════╧═══════════════════════╧════════════════════════╛\n",
      "\\begin{tabular}{|l|l|r|r|r|}\n",
      " \\hline  & Level & Victim Bytes Received & Attacker Bytes Sent & Amplification factor \\\\\n",
      " \\hline 4 & level0 & 48104 & 840 & 57.266667 \\\\\n",
      " \\hline 5 & level1 & 508528 & 8880 & 57.266667 \\\\\n",
      " \\hline 2 & level2 & 1813712 & 80640 & 22.491468 \\\\\n",
      " \\hline 1 & level3 & 2701042 & 781080 & 3.458086 \\\\\n",
      " \\hline 0 & level4 & 3171468 & 236692080 & 0.013399 \\\\\n",
      " \\hline 3 & level5 & 3096028 & 238204140 & 0.012997 \\\\\n",
      " \\hline \\end{tabular}\n",
      "\n"
     ]
    }
   ],
   "source": [
    "print(tabulate(byteStatisticTable,headers='keys',tablefmt='fancy_grid',showindex=False))\n",
    "latexTableString = byteStatisticTable.style.to_latex() # For getting the table into the report\n",
    "latexTableString = refineLatexTableString(latexTableString)\n",
    "\n",
    "print(latexTableString)"
   ]
  }
 ],
 "metadata": {
  "interpreter": {
   "hash": "73bce13f8028dfd8341a3b2a55c69e4fac2a631d84fa7f8fd64bf1c4038b3a67"
  },
  "kernelspec": {
   "display_name": "Python 3.9.12 ('pcap-reading')",
   "language": "python",
   "name": "python3"
  },
  "language_info": {
   "codemirror_mode": {
    "name": "ipython",
    "version": 3
   },
   "file_extension": ".py",
   "mimetype": "text/x-python",
   "name": "python",
   "nbconvert_exporter": "python",
   "pygments_lexer": "ipython3",
   "version": "3.9.12"
  },
  "orig_nbformat": 4
 },
 "nbformat": 4,
 "nbformat_minor": 2
}
