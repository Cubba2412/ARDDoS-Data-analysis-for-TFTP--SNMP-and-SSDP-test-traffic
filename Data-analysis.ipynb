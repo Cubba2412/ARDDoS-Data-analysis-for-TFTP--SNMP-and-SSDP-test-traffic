{
 "cells": [
  {
   "cell_type": "markdown",
   "metadata": {},
   "source": [
    "# ARDDoS Data analysis for TFTP, SNMP and SSDP test traffic"
   ]
  },
  {
   "cell_type": "code",
   "execution_count": 25,
   "metadata": {},
   "outputs": [],
   "source": [
    "# Generic\n",
    "import os\n",
    "import pandas as pd\n",
    "import warnings\n",
    "warnings.simplefilter(action='ignore', category=FutureWarning)\n",
    "import numpy as np\n",
    "import math\n",
    "import re\n",
    "import ipaddress\n",
    "import kaleido\n",
    "\n",
    "# For showing progress bar of for loops\n",
    "from progressbar import Bar, ETA, \\\n",
    "    AdaptiveETA, Percentage, \\\n",
    "    ProgressBar \n",
    "widgets = [Percentage(),\n",
    "            ' ', Bar(),\n",
    "            ' ', ETA(),\n",
    "            ' ', AdaptiveETA()]\n",
    "pbar = ProgressBar(widgets=widgets)\n",
    "\n",
    "# Own functions\n",
    "from pcapreader import PcapReader\n",
    "pcapToDf = PcapReader.pcapToDf\n",
    "\n",
    "# For converting string to ip address in dataframe\n",
    "from cyberpandas import to_ipaddress \n",
    "# For pretty printing dataframes\n",
    "from tabulate import tabulate \n",
    "# For plotting\n",
    "import plotly.express as px"
   ]
  },
  {
   "cell_type": "markdown",
   "metadata": {},
   "source": [
    "# Functions"
   ]
  },
  {
   "cell_type": "code",
   "execution_count": 26,
   "metadata": {},
   "outputs": [],
   "source": [
    "def refineLatexTableStringScientificPaper(latexTableString):\n",
    "    # Hacks for multiindex dataframe\n",
    "    multiColFirst = latexTableString.find(\"\\multicolumn\")\n",
    "    latexTableString = latexTableString[:multiColFirst+16] + 'c' + latexTableString[multiColFirst+17:]\n",
    "    startRemove = latexTableString.find('\\multicolumn',multiColFirst+1)\n",
    "    latexTableString = latexTableString[:startRemove] + latexTableString[startRemove+18:]\n",
    "    # Convert Level and Amplification factor to multirow:\n",
    "    latexTableString = latexTableString[:latexTableString.find('Level')] + '\\\\multirow{2}{*}{Level}' +  latexTableString[latexTableString.find('Level')+len('Level'):]\n",
    "    latexTableString = latexTableString[:latexTableString.find('Amplification factor')] + '\\\\multirow{2}{*}{Amplification Factor}' +  latexTableString[latexTableString.find('Amplification factor')+len('Amplification factor'):]\n",
    "    # Adding a horizontal line for multindex table\n",
    "    latexTableString = latexTableString[:latexTableString.find('\\\\\\\\')+len('\\\\\\\\')] + '\\cline{2-5}' + latexTableString[latexTableString.find('\\\\\\\\')+len('\\\\\\\\'):]\n",
    "    # Add \"tab\" to label\n",
    "\n",
    "    # Find caption and label and put at the bottom\n",
    "    captionIndex = latexTableString.find(\"\\caption\")\n",
    "    labelIndex = latexTableString.find('\\label')\n",
    "    labelStart = latexTableString.find('{',labelIndex)\n",
    "    # Put 'tab' in label for figure\n",
    "    latexTableString = latexTableString[:labelStart+1] + 'tab:' + latexTableString[labelStart+1:]\n",
    "    captionEndIndex = latexTableString.find(\"}\",labelIndex+1)+1\n",
    "    endTableIndex = latexTableString.find(\"\\end{tabular}\")\n",
    "    endTableEndIndex = endTableIndex + len(\"\\end{tabular}\")\n",
    "    latexTableString = latexTableString[:captionIndex] + latexTableString[captionEndIndex:endTableEndIndex] + latexTableString[captionIndex:captionEndIndex] + latexTableString[endTableEndIndex:]\n",
    "    return latexTableString"
   ]
  },
  {
   "cell_type": "code",
   "execution_count": 27,
   "metadata": {},
   "outputs": [],
   "source": [
    "## Get All pcap filenames:\n",
    "def getFiles(baseDir):\n",
    "    victimFilenames = []\n",
    "    attackerFilenames = []\n",
    "    reflectorFilenames = []\n",
    "    for root, dirs, files in os.walk(baseDir):\n",
    "        for file in files:\n",
    "            if file.endswith(\".pcapng\"):\n",
    "                if \"victim\" in file:\n",
    "                    victimFilenames.append(os.path.join(root, file))\n",
    "                if \"attacker\" in file:\n",
    "                    attackerFilenames.append(os.path.join(root, file))\n",
    "                if \"reflector\" in file:\n",
    "                    reflectorFilenames.append(os.path.join(root,file))\n",
    "    return attackerFilenames,victimFilenames,reflectorFilenames"
   ]
  },
  {
   "cell_type": "code",
   "execution_count": 28,
   "metadata": {},
   "outputs": [],
   "source": [
    "## Get attacker bytes sent\n",
    "def getAttackBytes(attackerFilenames,Protocol,useCachedBytes):\n",
    "    print(\"Getting Attacker Bytes for \" + Protocol + \" from pcap files...\")\n",
    "    picklePath = os.path.dirname(os.path.dirname(reflectorFilenames[0])) + '/AttackerBytes_' + Protocol + '_' + '.pkl'\n",
    "    if not useCachedBytes:\n",
    "        pbar = ProgressBar(widgets=widgets)\n",
    "        attackerBytes = []\n",
    "        for attackFile in pbar(attackerFilenames):\n",
    "            # Get attack level\n",
    "            level = int(re.search(r'\\d+',attackFile).group(0)) # Find first number in string = level\n",
    "            attackerDf = pcapToDf(attackFile,True)\n",
    "            if Protocol == \"TFTP\" or Protocol == \"SSDP\" or Protocol == \"SNMP\":\n",
    "            # By finding the TFTP packets and summing the byte lengths we get the total number of bytes send by the attacker\n",
    "                attackerDf = attackerDf.loc[attackerDf['Protocol'].isin([Protocol])]\n",
    "            attackerBytesSent = attackerDf[\"Length\"].sum()\n",
    "            attackerBytes.append({'Level':level,'Attacker Outbound':attackerBytesSent})\n",
    "        attackerBytes = pd.DataFrame(attackerBytes).sort_values('Level')\n",
    "        # Save to pickle file for fast reloading\n",
    "        attackerBytes.to_pickle(picklePath)\n",
    "    else:\n",
    "        if os.path.exists(picklePath):\n",
    "            attackerBytes = pd.read_pickle(picklePath)\n",
    "        else:\n",
    "            raise Exception(\"Error no cached pickle file. Run the function with useCachedBytes=False to recalcuate the df, and create the pickle file '\" + os.path.basename(picklePath) + \"'\" )\n",
    " \n",
    "    return attackerBytes"
   ]
  },
  {
   "cell_type": "code",
   "execution_count": 29,
   "metadata": {},
   "outputs": [],
   "source": [
    "## Get Victim bytes received\n",
    "def getVictimBytes(victimFilenames,Protocol,useCachedBytes=False):\n",
    "    print(\"Getting Victim Bytes for \" + Protocol + \" from pcap files...\")\n",
    "    picklePath = os.path.dirname(os.path.dirname(reflectorFilenames[0])) + '/VictimBytes' + Protocol + '_' + '.pkl'\n",
    "    if not useCachedBytes:\n",
    "        pbar = ProgressBar(widgets=widgets)\n",
    "        victimBytes = []\n",
    "        for victimFile in pbar(victimFilenames):\n",
    "            # Get attack level\n",
    "            level = int(re.search(r'\\d+',victimFile).group(0)) # Find first number in string = level\n",
    "            victimDf = pcapToDf(victimFile,True)\n",
    "            if Protocol == \"TFTP\":\n",
    "                # In the victim pcap filtering by destination port 50040 (the tftp servers source port) gives the tftp data transfered to the victim\n",
    "                victimBytesReceived = victimDf.loc[(victimDf['UDP Destination Port'] == 50040)][\"Length\"].sum()\n",
    "            elif Protocol == \"SNMP\":\n",
    "                victimBytesReceived = victimDf.loc[victimDf['Protocol'].isin([Protocol])][\"Length\"].sum()\n",
    "            elif Protocol == \"SSDP\":\n",
    "                victimBytesReceived = victimDf.loc[(victimDf['Protocol'] == Protocol) & (victimDf['Destination'] != ipaddress.ip_address('239.255.255.250'))][\"Length\"].sum()\n",
    "            victimBytes.append({'Level':level,'Victim Inbound':victimBytesReceived}) \n",
    "        victimBytes = pd.DataFrame(victimBytes).sort_values('Level')\n",
    "        # Save to pickle file for fast reloading\n",
    "        victimBytes.to_pickle(picklePath)\n",
    "    else:\n",
    "        if os.path.exists(picklePath):\n",
    "            victimBytes = pd.read_pickle(picklePath)\n",
    "        else:\n",
    "            raise Exception(\"Error no cached pickle file. Run the function with useCachedBytes=False to recalcuate the df, and create the pickle file '\" + os.path.basename(picklePath) + \"'\" )\n",
    "    return victimBytes"
   ]
  },
  {
   "cell_type": "code",
   "execution_count": 30,
   "metadata": {},
   "outputs": [],
   "source": [
    "## Get Victim bytes received\n",
    "def getVictimBytes(victimFilenames,Protocol,useCachedBytes=False):\n",
    "    print(\"Getting Victim Bytes for \" + Protocol + \" from pcap files...\")\n",
    "    picklePath = os.path.dirname(os.path.dirname(reflectorFilenames[0])) + '/VictimBytes' + Protocol + '_' + '.pkl'\n",
    "    if not useCachedBytes:\n",
    "        pbar = ProgressBar(widgets=widgets)\n",
    "        victimBytes = []\n",
    "        for victimFile in pbar(victimFilenames):\n",
    "            # Get attack level\n",
    "            level = int(re.search(r'\\d+',victimFile).group(0)) # Find first number in string = level\n",
    "            victimDf = pcapToDf(victimFile,True)\n",
    "            if Protocol == \"TFTP\":\n",
    "                # In the victim pcap filtering by destination port 50040 (the tftp servers source port) gives the tftp data transfered to the victim\n",
    "                victimBytesReceived = victimDf.loc[(victimDf['UDP Destination Port'] == 50040)][\"Length\"].sum()\n",
    "            elif Protocol == \"SNMP\":\n",
    "                victimBytesReceived = victimDf.loc[victimDf['Protocol'].isin([Protocol])][\"Length\"].sum()\n",
    "            elif Protocol == \"SSDP\":\n",
    "                victimBytesReceived = victimDf.loc[(victimDf['Protocol'] == Protocol) & (victimDf['Destination'] != ipaddress.ip_address('239.255.255.250'))][\"Length\"].sum()\n",
    "            victimBytes.append({'Level':level,'Victim Inbound':victimBytesReceived}) \n",
    "        victimBytes = pd.DataFrame(victimBytes).sort_values('Level')\n",
    "        # Save to pickle file for fast reloading\n",
    "        victimBytes.to_pickle(picklePath)\n",
    "    else:\n",
    "        if os.path.exists(picklePath):\n",
    "            victimBytes = pd.read_pickle(picklePath)\n",
    "        else:\n",
    "            raise Exception(\"Error no cached pickle file. Run the function with useCachedBytes=False to recalcuate the df, and create the pickle file '\" + os.path.basename(picklePath) + \"'\" )\n",
    "    return victimBytes"
   ]
  },
  {
   "cell_type": "code",
   "execution_count": 31,
   "metadata": {},
   "outputs": [],
   "source": [
    "## Get Victim bytes received\n",
    "def getVictimBytes(victimFilenames,Protocol,useCachedBytes=False):\n",
    "    print(\"Getting Victim Bytes for \" + Protocol + \" from pcap files...\")\n",
    "    picklePath = os.path.dirname(os.path.dirname(reflectorFilenames[0])) + '/VictimBytes' + Protocol + '_' + '.pkl'\n",
    "    if not useCachedBytes:\n",
    "        pbar = ProgressBar(widgets=widgets)\n",
    "        victimBytes = []\n",
    "        for victimFile in pbar(victimFilenames):\n",
    "            # Get attack level\n",
    "            level = int(re.search(r'\\d+',victimFile).group(0)) # Find first number in string = level\n",
    "            victimDf = pcapToDf(victimFile,True)\n",
    "            if Protocol == \"TFTP\":\n",
    "                # In the victim pcap filtering by destination port 50040 (the tftp servers source port) gives the tftp data transfered to the victim\n",
    "                victimBytesReceived = victimDf.loc[(victimDf['UDP Destination Port'] == 50040)][\"Length\"].sum()\n",
    "            elif Protocol == \"SNMP\":\n",
    "                victimBytesReceived = victimDf.loc[victimDf['Protocol'].isin([Protocol])][\"Length\"].sum()\n",
    "            elif Protocol == \"SSDP\":\n",
    "                victimBytesReceived = victimDf.loc[(victimDf['Protocol'] == Protocol) & (victimDf['Destination'] != ipaddress.ip_address('239.255.255.250'))][\"Length\"].sum()\n",
    "            victimBytes.append({'Level':level,'Victim Inbound':victimBytesReceived}) \n",
    "        victimBytes = pd.DataFrame(victimBytes).sort_values('Level')\n",
    "        # Save to pickle file for fast reloading\n",
    "        victimBytes.to_pickle(picklePath)\n",
    "    else:\n",
    "        if os.path.exists(picklePath):\n",
    "            victimBytes = pd.read_pickle(picklePath)\n",
    "        else:\n",
    "            raise Exception(\"Error no cached pickle file. Run the function with useCachedBytes=False to recalcuate the df, and create the pickle file '\" + os.path.basename(picklePath) + \"'\" )\n",
    "    return victimBytes"
   ]
  },
  {
   "cell_type": "code",
   "execution_count": 32,
   "metadata": {},
   "outputs": [],
   "source": [
    "## Get Reflector bytes received and sent\n",
    "def getReflectorBytes(reflectorFilenames,Protocol,useCachedBytes=False):\n",
    "    print(\"Getting Reflector Bytes for \" + Protocol + \" from pcap files...\")\n",
    "    picklePath = os.path.dirname(os.path.dirname(reflectorFilenames[0])) + '/ReflectorBytes_' + Protocol + '_' + '.pkl'\n",
    "    if not useCachedBytes:\n",
    "        pbar = ProgressBar(widgets=widgets)\n",
    "        reflectorBytes = []\n",
    "        for reflectorFile in pbar(reflectorFilenames):\n",
    "            # Get attack level\n",
    "            level = int(re.search(r'\\d+',reflectorFile).group(0)) # Find first number in string = level\n",
    "            reflectorDf = pcapToDf(reflectorFile,True)\n",
    "            if Protocol == \"TFTP\":\n",
    "                # In the victim pcap filtering by destination port 50040 (the tftp servers source port) gives the tftp data transfered to the victim\n",
    "                reflectorBytesReceived = reflectorDf.loc[(reflectorDf['UDP Source Port'] == 50040)][\"Length\"].sum()\n",
    "                reflectorBytesSent = reflectorDf.loc[(reflectorDf['UDP Destination Port'] == 50040)][\"Length\"].sum()\n",
    "            elif Protocol == \"SNMP\":\n",
    "                reflectorBytesReceived = reflectorDf.loc[(reflectorDf['Protocol'] == Protocol) & (reflectorDf['Info'].str.contains(\"getBulkRequest\"))][\"Length\"].sum()\n",
    "                reflectorBytesSent = reflectorDf.loc[(reflectorDf['Protocol'] == Protocol) & (reflectorDf['Info'].str.contains(\"get-response\"))][\"Length\"].sum()\n",
    "            elif Protocol == \"SSDP\":\n",
    "                reflectorBytesReceived = reflectorDf.loc[(reflectorDf['Protocol'] == Protocol) & (reflectorDf['Destination'] != ipaddress.ip_address('239.255.255.250')) & (reflectorDf[\"Info\"].str.contains(\"M-SEARCH\"))][\"Length\"].sum()\n",
    "                reflectorBytesSent = reflectorDf.loc[(reflectorDf['Protocol'] == Protocol) & (reflectorDf['Destination'] != ipaddress.ip_address('239.255.255.250')) & (reflectorDf[\"UDP Destination Port\"] == 50040)][\"Length\"].sum()\n",
    "            reflectorBytes.append({'Level':level,'Reflector Inbound':reflectorBytesReceived,'Reflector Outbound':reflectorBytesSent})\n",
    "        reflectorBytes = pd.DataFrame(reflectorBytes).sort_values('Level')\n",
    "        # Save to pickle file for fast reloading\n",
    "        reflectorBytes.to_pickle(picklePath)\n",
    "    else:\n",
    "        if os.path.exists(picklePath):\n",
    "            reflectorBytes = pd.read_pickle(picklePath)\n",
    "        else:\n",
    "            raise Exception(\"Error no cached pickle file. Run the function with useCachedBytes=False to recalcuate the df, and create the pickle file '\" + os.path.basename(picklePath) + \"'\" )\n",
    "    return reflectorBytes"
   ]
  },
  {
   "cell_type": "code",
   "execution_count": 33,
   "metadata": {},
   "outputs": [],
   "source": [
    "## Data manipulation for presentation\n",
    "def getStatDf(attackerBytes,victimBytes,reflectorBytes):\n",
    "    StatDf = pd.DataFrame(columns=pd.MultiIndex.from_tuples([(\"Victim\", \"Inbound\"), (\"Reflector\", \"Inbound\"), (\"Reflector\", \"Outbound\"), (\"Attacker\", \"Outbound\")]))\n",
    "    StatDf[\"Level\"] = victimBytes['Level']\n",
    "    StatDf[(\"Victim\",\"Inbound\")] = victimBytes['Victim Inbound']\n",
    "    StatDf[(\"Reflector\",\"Inbound\")] = reflectorBytes['Reflector Inbound']\n",
    "    StatDf[(\"Reflector\",\"Outbound\")] = reflectorBytes['Reflector Outbound']\n",
    "    StatDf[(\"Attacker\",\"Outbound\")] = attackerBytes['Attacker Outbound']\n",
    "    StatDf['Amplification factor'] = StatDf[(\"Victim\",\"Inbound\")] / StatDf[(\"Attacker\",\"Outbound\")]\n",
    "    column_to_move = StatDf.pop(\"Level\")\n",
    "    StatDf.insert(0, \"Level\", column_to_move)\n",
    "    return StatDf"
   ]
  },
  {
   "cell_type": "code",
   "execution_count": 34,
   "metadata": {},
   "outputs": [],
   "source": [
    "## Plotting\n",
    "def PlotLevelAttackData(attackerBytes,victimBytes,reflectorBytes,Protocol):\n",
    "    # Get single index dataframe\n",
    "    df1 = pd.merge(attackerBytes,victimBytes,on=\"Level\")\n",
    "    df2 = pd.merge(df1,reflectorBytes,on='Level')\n",
    "    # Remove 'level' string in level column\n",
    "    df2[\"Level\"] = df2['Level']\n",
    "    # Get maximum value in dataframe rounded up to highest exponent (i.e. up to nearest 100M for example)\n",
    "    maxN = df2.select_dtypes(include=[np.number]).max().max()\n",
    "    c = 10 ** int(math.log10(maxN)) # Same number of digits as max number\n",
    "    yaxisRange = [10,math.ceil(maxN/c) * c]\n",
    "\n",
    "    # Plot data\n",
    "    fig = px.line(df2, \n",
    "                title=Protocol + \" Test Traffic\",\n",
    "                x='Level',\n",
    "                y=['Attacker Outbound','Victim Inbound', 'Reflector Inbound','Reflector Outbound'],\n",
    "                log_y=True,\n",
    "                range_y=yaxisRange,\n",
    "                markers=True)\n",
    "    fig.update_layout(\n",
    "        yaxis=dict(\n",
    "            tickfont=dict(size=16,color=\"black\"),\n",
    "            title_text=\"Bytes\",\n",
    "            titlefont=dict(size=24,color=\"black\")),\n",
    "        xaxis=dict(\n",
    "            tickfont=dict(size=16,color=\"black\"),\n",
    "            title_text=\"Level\",\n",
    "            titlefont=dict(size=24,color=\"black\")),\n",
    "        title={'font': {'size': 36,'color':\"black\"}},\n",
    "        legend = dict(font = dict(size = 20, color = \"black\",)),\n",
    "        legend_title = dict(text=\"Legend\",font = dict(size = 24,color=\"black\"))\n",
    "        )\n",
    "    fig.update_traces(line=dict(width=3),marker=dict(size=10))\n",
    "    fig.show()\n",
    "    fig.write_image(Protocol + \" Test Traffic.pdf\", width=1920/2, height=1080/2,scale=-2,engine='kaleido')"
   ]
  },
  {
   "cell_type": "markdown",
   "metadata": {},
   "source": [
    "# TFTP DATA OWN TOOL"
   ]
  },
  {
   "cell_type": "code",
   "execution_count": 35,
   "metadata": {},
   "outputs": [],
   "source": [
    "# Get pcap files\n",
    "attackerFilenames,victimFilenames,reflectorFilenames = getFiles('./pcap_tftp_own_tool')\n",
    "assert len(attackerFilenames) == len(victimFilenames) == len(reflectorFilenames)\n",
    "Protocol = \"TFTP\"\n",
    "useCachedBytes = True"
   ]
  },
  {
   "cell_type": "markdown",
   "metadata": {},
   "source": [
    "## Reading the data"
   ]
  },
  {
   "cell_type": "code",
   "execution_count": 36,
   "metadata": {},
   "outputs": [
    {
     "name": "stdout",
     "output_type": "stream",
     "text": [
      "Getting Attacker Bytes for TFTP from pcap files...\n",
      "Getting Victim Bytes for TFTP from pcap files...\n",
      "Getting Reflector Bytes for TFTP from pcap files...\n"
     ]
    }
   ],
   "source": [
    "# Read pcap \n",
    "attackerBytes = getAttackBytes(attackerFilenames,Protocol=Protocol,useCachedBytes=useCachedBytes)\n",
    "victimBytes = getVictimBytes(victimFilenames,Protocol=Protocol,useCachedBytes=useCachedBytes)\n",
    "reflectorBytes = getReflectorBytes(reflectorFilenames,Protocol=Protocol,useCachedBytes=useCachedBytes)"
   ]
  },
  {
   "cell_type": "markdown",
   "metadata": {},
   "source": [
    "## Displaying the data in latex"
   ]
  },
  {
   "cell_type": "code",
   "execution_count": 37,
   "metadata": {},
   "outputs": [
    {
     "name": "stdout",
     "output_type": "stream",
     "text": [
      "\\begin{table}[H]\n",
      "\\centering\n",
      "\n",
      "\\begin{tabular}{ccrrrc}\n",
      "\\toprule\n",
      "\\multirow{2}{*}{Level} &  Victim & \\multicolumn{2}{c}{Reflector} &  Attacker & \\multirow{2}{*}{Amplification Factor} \\\\\\cline{2-5}\n",
      "      & Inbound &   Inbound & Outbound & {Outbound} \\\\\n",
      "\\midrule\n",
      "    0 &   51540 &       900 &    51540 &       900 &            57.266667 \\\\\n",
      "    1 &  515400 &      9000 &   515400 &      9000 &            57.266667 \\\\\n",
      "    2 & 1823388 &     87600 &  1823388 &     87600 &            20.814932 \\\\\n",
      "    3 & 2489146 &    715882 &  2489146 &    715800 &             3.477432 \\\\\n",
      "    4 & 3998028 &   4201042 &  3998028 &   4200960 &             0.951694 \\\\\n",
      "    5 & 3769330 &  10570740 &  3769330 &  10570740 &             0.356581 \\\\\n",
      "    6 & 3181882 &  41926080 &  3082598 &  42887280 &             0.074192 \\\\\n",
      "    7 & 3324972 &  87821842 &  3087582 & 113922480 &             0.029186 \\\\\n",
      "    8 & 3164170 &  86906002 &  2908100 & 118607400 &             0.026678 \\\\\n",
      "    9 & 3061506 &  88363740 &  2885362 & 117188340 &             0.026125 \\\\\n",
      "   10 & 3306768 &  79580460 &  2530402 & 215641320 &             0.015335 \\\\\n",
      "\\bottomrule\n",
      "\\end{tabular}\\caption{TFTP DDoS test traffic}\n",
      "\\label{tab:TFTP_Test_Traffic}\n",
      "\\end{table}\n",
      "\n"
     ]
    }
   ],
   "source": [
    "#print(tabulate(StatDf,headers='keys',tablefmt='fancy_grid',showindex=False))\n",
    "StatDf = getStatDf(attackerBytes,victimBytes,reflectorBytes)\n",
    "latexTableString = StatDf.to_latex(column_format='ccrrrc',index=False,caption=\"TFTP DDoS test traffic\",label=\"TFTP_Test_Traffic\",position='H') # For getting the table into the report\n",
    "latexTableString = refineLatexTableStringScientificPaper(latexTableString)\n",
    "print(latexTableString)"
   ]
  },
  {
   "cell_type": "markdown",
   "metadata": {},
   "source": [
    "## Plotting"
   ]
  },
  {
   "cell_type": "code",
   "execution_count": 38,
   "metadata": {},
   "outputs": [
    {
     "data": {
      "application/vnd.plotly.v1+json": {
       "config": {
        "plotlyServerURL": "https://plot.ly"
       },
       "data": [
        {
         "hovertemplate": "variable=Attacker Outbound<br>Level=%{x}<br>value=%{y}<extra></extra>",
         "legendgroup": "Attacker Outbound",
         "line": {
          "color": "#636efa",
          "dash": "solid",
          "width": 3
         },
         "marker": {
          "size": 10,
          "symbol": "circle"
         },
         "mode": "markers+lines",
         "name": "Attacker Outbound",
         "orientation": "v",
         "showlegend": true,
         "type": "scatter",
         "x": [
          0,
          1,
          2,
          3,
          4,
          5,
          6,
          7,
          8,
          9,
          10
         ],
         "xaxis": "x",
         "y": [
          900,
          9000,
          87600,
          715800,
          4200960,
          10570740,
          42887280,
          113922480,
          118607400,
          117188340,
          215641320
         ],
         "yaxis": "y"
        },
        {
         "hovertemplate": "variable=Victim Inbound<br>Level=%{x}<br>value=%{y}<extra></extra>",
         "legendgroup": "Victim Inbound",
         "line": {
          "color": "#EF553B",
          "dash": "solid",
          "width": 3
         },
         "marker": {
          "size": 10,
          "symbol": "circle"
         },
         "mode": "markers+lines",
         "name": "Victim Inbound",
         "orientation": "v",
         "showlegend": true,
         "type": "scatter",
         "x": [
          0,
          1,
          2,
          3,
          4,
          5,
          6,
          7,
          8,
          9,
          10
         ],
         "xaxis": "x",
         "y": [
          51540,
          515400,
          1823388,
          2489146,
          3998028,
          3769330,
          3181882,
          3324972,
          3164170,
          3061506,
          3306768
         ],
         "yaxis": "y"
        },
        {
         "hovertemplate": "variable=Reflector Inbound<br>Level=%{x}<br>value=%{y}<extra></extra>",
         "legendgroup": "Reflector Inbound",
         "line": {
          "color": "#00cc96",
          "dash": "solid",
          "width": 3
         },
         "marker": {
          "size": 10,
          "symbol": "circle"
         },
         "mode": "markers+lines",
         "name": "Reflector Inbound",
         "orientation": "v",
         "showlegend": true,
         "type": "scatter",
         "x": [
          0,
          1,
          2,
          3,
          4,
          5,
          6,
          7,
          8,
          9,
          10
         ],
         "xaxis": "x",
         "y": [
          900,
          9000,
          87600,
          715882,
          4201042,
          10570740,
          41926080,
          87821842,
          86906002,
          88363740,
          79580460
         ],
         "yaxis": "y"
        },
        {
         "hovertemplate": "variable=Reflector Outbound<br>Level=%{x}<br>value=%{y}<extra></extra>",
         "legendgroup": "Reflector Outbound",
         "line": {
          "color": "#ab63fa",
          "dash": "solid",
          "width": 3
         },
         "marker": {
          "size": 10,
          "symbol": "circle"
         },
         "mode": "markers+lines",
         "name": "Reflector Outbound",
         "orientation": "v",
         "showlegend": true,
         "type": "scatter",
         "x": [
          0,
          1,
          2,
          3,
          4,
          5,
          6,
          7,
          8,
          9,
          10
         ],
         "xaxis": "x",
         "y": [
          51540,
          515400,
          1823388,
          2489146,
          3998028,
          3769330,
          3082598,
          3087582,
          2908100,
          2885362,
          2530402
         ],
         "yaxis": "y"
        }
       ],
       "layout": {
        "legend": {
         "font": {
          "color": "black",
          "size": 20
         },
         "title": {
          "font": {
           "color": "black",
           "size": 24
          },
          "text": "Legend"
         },
         "tracegroupgap": 0
        },
        "template": {
         "data": {
          "bar": [
           {
            "error_x": {
             "color": "#2a3f5f"
            },
            "error_y": {
             "color": "#2a3f5f"
            },
            "marker": {
             "line": {
              "color": "#E5ECF6",
              "width": 0.5
             },
             "pattern": {
              "fillmode": "overlay",
              "size": 10,
              "solidity": 0.2
             }
            },
            "type": "bar"
           }
          ],
          "barpolar": [
           {
            "marker": {
             "line": {
              "color": "#E5ECF6",
              "width": 0.5
             },
             "pattern": {
              "fillmode": "overlay",
              "size": 10,
              "solidity": 0.2
             }
            },
            "type": "barpolar"
           }
          ],
          "carpet": [
           {
            "aaxis": {
             "endlinecolor": "#2a3f5f",
             "gridcolor": "white",
             "linecolor": "white",
             "minorgridcolor": "white",
             "startlinecolor": "#2a3f5f"
            },
            "baxis": {
             "endlinecolor": "#2a3f5f",
             "gridcolor": "white",
             "linecolor": "white",
             "minorgridcolor": "white",
             "startlinecolor": "#2a3f5f"
            },
            "type": "carpet"
           }
          ],
          "choropleth": [
           {
            "colorbar": {
             "outlinewidth": 0,
             "ticks": ""
            },
            "type": "choropleth"
           }
          ],
          "contour": [
           {
            "colorbar": {
             "outlinewidth": 0,
             "ticks": ""
            },
            "colorscale": [
             [
              0,
              "#0d0887"
             ],
             [
              0.1111111111111111,
              "#46039f"
             ],
             [
              0.2222222222222222,
              "#7201a8"
             ],
             [
              0.3333333333333333,
              "#9c179e"
             ],
             [
              0.4444444444444444,
              "#bd3786"
             ],
             [
              0.5555555555555556,
              "#d8576b"
             ],
             [
              0.6666666666666666,
              "#ed7953"
             ],
             [
              0.7777777777777778,
              "#fb9f3a"
             ],
             [
              0.8888888888888888,
              "#fdca26"
             ],
             [
              1,
              "#f0f921"
             ]
            ],
            "type": "contour"
           }
          ],
          "contourcarpet": [
           {
            "colorbar": {
             "outlinewidth": 0,
             "ticks": ""
            },
            "type": "contourcarpet"
           }
          ],
          "heatmap": [
           {
            "colorbar": {
             "outlinewidth": 0,
             "ticks": ""
            },
            "colorscale": [
             [
              0,
              "#0d0887"
             ],
             [
              0.1111111111111111,
              "#46039f"
             ],
             [
              0.2222222222222222,
              "#7201a8"
             ],
             [
              0.3333333333333333,
              "#9c179e"
             ],
             [
              0.4444444444444444,
              "#bd3786"
             ],
             [
              0.5555555555555556,
              "#d8576b"
             ],
             [
              0.6666666666666666,
              "#ed7953"
             ],
             [
              0.7777777777777778,
              "#fb9f3a"
             ],
             [
              0.8888888888888888,
              "#fdca26"
             ],
             [
              1,
              "#f0f921"
             ]
            ],
            "type": "heatmap"
           }
          ],
          "heatmapgl": [
           {
            "colorbar": {
             "outlinewidth": 0,
             "ticks": ""
            },
            "colorscale": [
             [
              0,
              "#0d0887"
             ],
             [
              0.1111111111111111,
              "#46039f"
             ],
             [
              0.2222222222222222,
              "#7201a8"
             ],
             [
              0.3333333333333333,
              "#9c179e"
             ],
             [
              0.4444444444444444,
              "#bd3786"
             ],
             [
              0.5555555555555556,
              "#d8576b"
             ],
             [
              0.6666666666666666,
              "#ed7953"
             ],
             [
              0.7777777777777778,
              "#fb9f3a"
             ],
             [
              0.8888888888888888,
              "#fdca26"
             ],
             [
              1,
              "#f0f921"
             ]
            ],
            "type": "heatmapgl"
           }
          ],
          "histogram": [
           {
            "marker": {
             "pattern": {
              "fillmode": "overlay",
              "size": 10,
              "solidity": 0.2
             }
            },
            "type": "histogram"
           }
          ],
          "histogram2d": [
           {
            "colorbar": {
             "outlinewidth": 0,
             "ticks": ""
            },
            "colorscale": [
             [
              0,
              "#0d0887"
             ],
             [
              0.1111111111111111,
              "#46039f"
             ],
             [
              0.2222222222222222,
              "#7201a8"
             ],
             [
              0.3333333333333333,
              "#9c179e"
             ],
             [
              0.4444444444444444,
              "#bd3786"
             ],
             [
              0.5555555555555556,
              "#d8576b"
             ],
             [
              0.6666666666666666,
              "#ed7953"
             ],
             [
              0.7777777777777778,
              "#fb9f3a"
             ],
             [
              0.8888888888888888,
              "#fdca26"
             ],
             [
              1,
              "#f0f921"
             ]
            ],
            "type": "histogram2d"
           }
          ],
          "histogram2dcontour": [
           {
            "colorbar": {
             "outlinewidth": 0,
             "ticks": ""
            },
            "colorscale": [
             [
              0,
              "#0d0887"
             ],
             [
              0.1111111111111111,
              "#46039f"
             ],
             [
              0.2222222222222222,
              "#7201a8"
             ],
             [
              0.3333333333333333,
              "#9c179e"
             ],
             [
              0.4444444444444444,
              "#bd3786"
             ],
             [
              0.5555555555555556,
              "#d8576b"
             ],
             [
              0.6666666666666666,
              "#ed7953"
             ],
             [
              0.7777777777777778,
              "#fb9f3a"
             ],
             [
              0.8888888888888888,
              "#fdca26"
             ],
             [
              1,
              "#f0f921"
             ]
            ],
            "type": "histogram2dcontour"
           }
          ],
          "mesh3d": [
           {
            "colorbar": {
             "outlinewidth": 0,
             "ticks": ""
            },
            "type": "mesh3d"
           }
          ],
          "parcoords": [
           {
            "line": {
             "colorbar": {
              "outlinewidth": 0,
              "ticks": ""
             }
            },
            "type": "parcoords"
           }
          ],
          "pie": [
           {
            "automargin": true,
            "type": "pie"
           }
          ],
          "scatter": [
           {
            "fillpattern": {
             "fillmode": "overlay",
             "size": 10,
             "solidity": 0.2
            },
            "type": "scatter"
           }
          ],
          "scatter3d": [
           {
            "line": {
             "colorbar": {
              "outlinewidth": 0,
              "ticks": ""
             }
            },
            "marker": {
             "colorbar": {
              "outlinewidth": 0,
              "ticks": ""
             }
            },
            "type": "scatter3d"
           }
          ],
          "scattercarpet": [
           {
            "marker": {
             "colorbar": {
              "outlinewidth": 0,
              "ticks": ""
             }
            },
            "type": "scattercarpet"
           }
          ],
          "scattergeo": [
           {
            "marker": {
             "colorbar": {
              "outlinewidth": 0,
              "ticks": ""
             }
            },
            "type": "scattergeo"
           }
          ],
          "scattergl": [
           {
            "marker": {
             "colorbar": {
              "outlinewidth": 0,
              "ticks": ""
             }
            },
            "type": "scattergl"
           }
          ],
          "scattermapbox": [
           {
            "marker": {
             "colorbar": {
              "outlinewidth": 0,
              "ticks": ""
             }
            },
            "type": "scattermapbox"
           }
          ],
          "scatterpolar": [
           {
            "marker": {
             "colorbar": {
              "outlinewidth": 0,
              "ticks": ""
             }
            },
            "type": "scatterpolar"
           }
          ],
          "scatterpolargl": [
           {
            "marker": {
             "colorbar": {
              "outlinewidth": 0,
              "ticks": ""
             }
            },
            "type": "scatterpolargl"
           }
          ],
          "scatterternary": [
           {
            "marker": {
             "colorbar": {
              "outlinewidth": 0,
              "ticks": ""
             }
            },
            "type": "scatterternary"
           }
          ],
          "surface": [
           {
            "colorbar": {
             "outlinewidth": 0,
             "ticks": ""
            },
            "colorscale": [
             [
              0,
              "#0d0887"
             ],
             [
              0.1111111111111111,
              "#46039f"
             ],
             [
              0.2222222222222222,
              "#7201a8"
             ],
             [
              0.3333333333333333,
              "#9c179e"
             ],
             [
              0.4444444444444444,
              "#bd3786"
             ],
             [
              0.5555555555555556,
              "#d8576b"
             ],
             [
              0.6666666666666666,
              "#ed7953"
             ],
             [
              0.7777777777777778,
              "#fb9f3a"
             ],
             [
              0.8888888888888888,
              "#fdca26"
             ],
             [
              1,
              "#f0f921"
             ]
            ],
            "type": "surface"
           }
          ],
          "table": [
           {
            "cells": {
             "fill": {
              "color": "#EBF0F8"
             },
             "line": {
              "color": "white"
             }
            },
            "header": {
             "fill": {
              "color": "#C8D4E3"
             },
             "line": {
              "color": "white"
             }
            },
            "type": "table"
           }
          ]
         },
         "layout": {
          "annotationdefaults": {
           "arrowcolor": "#2a3f5f",
           "arrowhead": 0,
           "arrowwidth": 1
          },
          "autotypenumbers": "strict",
          "coloraxis": {
           "colorbar": {
            "outlinewidth": 0,
            "ticks": ""
           }
          },
          "colorscale": {
           "diverging": [
            [
             0,
             "#8e0152"
            ],
            [
             0.1,
             "#c51b7d"
            ],
            [
             0.2,
             "#de77ae"
            ],
            [
             0.3,
             "#f1b6da"
            ],
            [
             0.4,
             "#fde0ef"
            ],
            [
             0.5,
             "#f7f7f7"
            ],
            [
             0.6,
             "#e6f5d0"
            ],
            [
             0.7,
             "#b8e186"
            ],
            [
             0.8,
             "#7fbc41"
            ],
            [
             0.9,
             "#4d9221"
            ],
            [
             1,
             "#276419"
            ]
           ],
           "sequential": [
            [
             0,
             "#0d0887"
            ],
            [
             0.1111111111111111,
             "#46039f"
            ],
            [
             0.2222222222222222,
             "#7201a8"
            ],
            [
             0.3333333333333333,
             "#9c179e"
            ],
            [
             0.4444444444444444,
             "#bd3786"
            ],
            [
             0.5555555555555556,
             "#d8576b"
            ],
            [
             0.6666666666666666,
             "#ed7953"
            ],
            [
             0.7777777777777778,
             "#fb9f3a"
            ],
            [
             0.8888888888888888,
             "#fdca26"
            ],
            [
             1,
             "#f0f921"
            ]
           ],
           "sequentialminus": [
            [
             0,
             "#0d0887"
            ],
            [
             0.1111111111111111,
             "#46039f"
            ],
            [
             0.2222222222222222,
             "#7201a8"
            ],
            [
             0.3333333333333333,
             "#9c179e"
            ],
            [
             0.4444444444444444,
             "#bd3786"
            ],
            [
             0.5555555555555556,
             "#d8576b"
            ],
            [
             0.6666666666666666,
             "#ed7953"
            ],
            [
             0.7777777777777778,
             "#fb9f3a"
            ],
            [
             0.8888888888888888,
             "#fdca26"
            ],
            [
             1,
             "#f0f921"
            ]
           ]
          },
          "colorway": [
           "#636efa",
           "#EF553B",
           "#00cc96",
           "#ab63fa",
           "#FFA15A",
           "#19d3f3",
           "#FF6692",
           "#B6E880",
           "#FF97FF",
           "#FECB52"
          ],
          "font": {
           "color": "#2a3f5f"
          },
          "geo": {
           "bgcolor": "white",
           "lakecolor": "white",
           "landcolor": "#E5ECF6",
           "showlakes": true,
           "showland": true,
           "subunitcolor": "white"
          },
          "hoverlabel": {
           "align": "left"
          },
          "hovermode": "closest",
          "mapbox": {
           "style": "light"
          },
          "paper_bgcolor": "white",
          "plot_bgcolor": "#E5ECF6",
          "polar": {
           "angularaxis": {
            "gridcolor": "white",
            "linecolor": "white",
            "ticks": ""
           },
           "bgcolor": "#E5ECF6",
           "radialaxis": {
            "gridcolor": "white",
            "linecolor": "white",
            "ticks": ""
           }
          },
          "scene": {
           "xaxis": {
            "backgroundcolor": "#E5ECF6",
            "gridcolor": "white",
            "gridwidth": 2,
            "linecolor": "white",
            "showbackground": true,
            "ticks": "",
            "zerolinecolor": "white"
           },
           "yaxis": {
            "backgroundcolor": "#E5ECF6",
            "gridcolor": "white",
            "gridwidth": 2,
            "linecolor": "white",
            "showbackground": true,
            "ticks": "",
            "zerolinecolor": "white"
           },
           "zaxis": {
            "backgroundcolor": "#E5ECF6",
            "gridcolor": "white",
            "gridwidth": 2,
            "linecolor": "white",
            "showbackground": true,
            "ticks": "",
            "zerolinecolor": "white"
           }
          },
          "shapedefaults": {
           "line": {
            "color": "#2a3f5f"
           }
          },
          "ternary": {
           "aaxis": {
            "gridcolor": "white",
            "linecolor": "white",
            "ticks": ""
           },
           "baxis": {
            "gridcolor": "white",
            "linecolor": "white",
            "ticks": ""
           },
           "bgcolor": "#E5ECF6",
           "caxis": {
            "gridcolor": "white",
            "linecolor": "white",
            "ticks": ""
           }
          },
          "title": {
           "x": 0.05
          },
          "xaxis": {
           "automargin": true,
           "gridcolor": "white",
           "linecolor": "white",
           "ticks": "",
           "title": {
            "standoff": 15
           },
           "zerolinecolor": "white",
           "zerolinewidth": 2
          },
          "yaxis": {
           "automargin": true,
           "gridcolor": "white",
           "linecolor": "white",
           "ticks": "",
           "title": {
            "standoff": 15
           },
           "zerolinecolor": "white",
           "zerolinewidth": 2
          }
         }
        },
        "title": {
         "font": {
          "color": "black",
          "size": 36
         },
         "text": "TFTP Test Traffic"
        },
        "xaxis": {
         "anchor": "y",
         "domain": [
          0,
          1
         ],
         "tickfont": {
          "color": "black",
          "size": 16
         },
         "title": {
          "font": {
           "color": "black",
           "size": 24
          },
          "text": "Level"
         }
        },
        "yaxis": {
         "anchor": "x",
         "domain": [
          0,
          1
         ],
         "range": [
          1,
          8.47712125471966
         ],
         "tickfont": {
          "color": "black",
          "size": 16
         },
         "title": {
          "font": {
           "color": "black",
           "size": 24
          },
          "text": "Bytes"
         },
         "type": "log"
        }
       }
      }
     },
     "metadata": {},
     "output_type": "display_data"
    }
   ],
   "source": [
    "PlotLevelAttackData(attackerBytes,victimBytes,reflectorBytes,Protocol)"
   ]
  },
  {
   "cell_type": "markdown",
   "metadata": {},
   "source": [
    "# SNMP DATA OWN TOOL"
   ]
  },
  {
   "cell_type": "code",
   "execution_count": 39,
   "metadata": {},
   "outputs": [],
   "source": [
    "# Get pcap files\n",
    "attackerFilenames,victimFilenames,reflectorFilenames = getFiles('./pcap_snmp_own_tool')\n",
    "assert len(attackerFilenames) == len(victimFilenames) == len(reflectorFilenames)\n",
    "Protocol = \"SNMP\"\n",
    "useCachedBytes = True"
   ]
  },
  {
   "cell_type": "markdown",
   "metadata": {},
   "source": [
    "## Reading the data"
   ]
  },
  {
   "cell_type": "code",
   "execution_count": 40,
   "metadata": {},
   "outputs": [
    {
     "name": "stdout",
     "output_type": "stream",
     "text": [
      "Getting Attacker Bytes for SNMP from pcap files...\n",
      "Getting Victim Bytes for SNMP from pcap files...\n",
      "Getting Reflector Bytes for SNMP from pcap files...\n"
     ]
    }
   ],
   "source": [
    "# Read pcap \n",
    "attackerBytes = getAttackBytes(attackerFilenames,Protocol=Protocol,useCachedBytes=useCachedBytes)\n",
    "victimBytes = getVictimBytes(victimFilenames,Protocol=Protocol,useCachedBytes=useCachedBytes)\n",
    "reflectorBytes = getReflectorBytes(reflectorFilenames,Protocol=Protocol,useCachedBytes=useCachedBytes)"
   ]
  },
  {
   "cell_type": "markdown",
   "metadata": {},
   "source": [
    "## Displaying the data in latex"
   ]
  },
  {
   "cell_type": "code",
   "execution_count": 41,
   "metadata": {},
   "outputs": [
    {
     "name": "stdout",
     "output_type": "stream",
     "text": [
      "\\begin{table}[H]\n",
      "\\centering\n",
      "\n",
      "\\begin{tabular}{ccrrrc}\n",
      "\\toprule\n",
      "\\multirow{2}{*}{Level} &   Victim & \\multicolumn{2}{c}{Reflector} &  Attacker & \\multirow{2}{*}{Amplification Factor} \\\\\\cline{2-5}\n",
      "      &  Inbound &   Inbound & Outbound & {Outbound} \\\\\n",
      "\\midrule\n",
      "    0 &    21885 &      1140 &    21885 &      1140 &            19.197368 \\\\\n",
      "    1 &   218850 &     11400 &   218850 &     11400 &            19.197368 \\\\\n",
      "    2 &  2103878 &    109592 &  2103878 &    109592 &            19.197368 \\\\\n",
      "    3 & 16054836 &    943388 & 16054836 &    943388 &            17.018275 \\\\\n",
      "    4 & 15679873 &   6193392 & 15679873 &   6193392 &             2.531710 \\\\\n",
      "    5 & 15285943 &  13757292 & 15285943 &  13757292 &             1.111116 \\\\\n",
      "    6 & 14941619 &  61406936 & 14425133 &  63786952 &             0.234243 \\\\\n",
      "    7 & 14597295 & 127481032 & 12757496 & 178241888 &             0.081896 \\\\\n",
      "    8 & 14784047 & 129665424 & 13094525 & 177508260 &             0.083287 \\\\\n",
      "    9 & 14862833 & 119897980 & 12318337 & 178056144 &             0.083473 \\\\\n",
      "   10 & 14757785 & 127048744 & 12646612 & 365358524 &             0.040393 \\\\\n",
      "\\bottomrule\n",
      "\\end{tabular}\\caption{SNMP DDoS test traffic}\n",
      "\\label{tab:SNMP_Test_Traffic}\n",
      "\\end{table}\n",
      "\n"
     ]
    }
   ],
   "source": [
    "#print(tabulate(StatDf,headers='keys',tablefmt='fancy_grid',showindex=False))\n",
    "StatDf = getStatDf(attackerBytes,victimBytes,reflectorBytes)\n",
    "latexTableString = StatDf.to_latex(column_format='ccrrrc',index=False,caption=\"SNMP DDoS test traffic\",label=\"SNMP_Test_Traffic\",position='H') # For getting the table into the report\n",
    "latexTableString = refineLatexTableStringScientificPaper(latexTableString)\n",
    "print(latexTableString)"
   ]
  },
  {
   "cell_type": "markdown",
   "metadata": {},
   "source": [
    "## Plotting"
   ]
  },
  {
   "cell_type": "code",
   "execution_count": 42,
   "metadata": {},
   "outputs": [
    {
     "data": {
      "application/vnd.plotly.v1+json": {
       "config": {
        "plotlyServerURL": "https://plot.ly"
       },
       "data": [
        {
         "hovertemplate": "variable=Attacker Outbound<br>Level=%{x}<br>value=%{y}<extra></extra>",
         "legendgroup": "Attacker Outbound",
         "line": {
          "color": "#636efa",
          "dash": "solid",
          "width": 3
         },
         "marker": {
          "size": 10,
          "symbol": "circle"
         },
         "mode": "markers+lines",
         "name": "Attacker Outbound",
         "orientation": "v",
         "showlegend": true,
         "type": "scatter",
         "x": [
          0,
          1,
          2,
          3,
          4,
          5,
          6,
          7,
          8,
          9,
          10
         ],
         "xaxis": "x",
         "y": [
          1140,
          11400,
          109592,
          943388,
          6193392,
          13757292,
          63786952,
          178241888,
          177508260,
          178056144,
          365358524
         ],
         "yaxis": "y"
        },
        {
         "hovertemplate": "variable=Victim Inbound<br>Level=%{x}<br>value=%{y}<extra></extra>",
         "legendgroup": "Victim Inbound",
         "line": {
          "color": "#EF553B",
          "dash": "solid",
          "width": 3
         },
         "marker": {
          "size": 10,
          "symbol": "circle"
         },
         "mode": "markers+lines",
         "name": "Victim Inbound",
         "orientation": "v",
         "showlegend": true,
         "type": "scatter",
         "x": [
          0,
          1,
          2,
          3,
          4,
          5,
          6,
          7,
          8,
          9,
          10
         ],
         "xaxis": "x",
         "y": [
          21885,
          218850,
          2103878,
          16054836,
          15679873,
          15285943,
          14941619,
          14597295,
          14784047,
          14862833,
          14757785
         ],
         "yaxis": "y"
        },
        {
         "hovertemplate": "variable=Reflector Inbound<br>Level=%{x}<br>value=%{y}<extra></extra>",
         "legendgroup": "Reflector Inbound",
         "line": {
          "color": "#00cc96",
          "dash": "solid",
          "width": 3
         },
         "marker": {
          "size": 10,
          "symbol": "circle"
         },
         "mode": "markers+lines",
         "name": "Reflector Inbound",
         "orientation": "v",
         "showlegend": true,
         "type": "scatter",
         "x": [
          0,
          1,
          2,
          3,
          4,
          5,
          6,
          7,
          8,
          9,
          10
         ],
         "xaxis": "x",
         "y": [
          1140,
          11400,
          109592,
          943388,
          6193392,
          13757292,
          61406936,
          127481032,
          129665424,
          119897980,
          127048744
         ],
         "yaxis": "y"
        },
        {
         "hovertemplate": "variable=Reflector Outbound<br>Level=%{x}<br>value=%{y}<extra></extra>",
         "legendgroup": "Reflector Outbound",
         "line": {
          "color": "#ab63fa",
          "dash": "solid",
          "width": 3
         },
         "marker": {
          "size": 10,
          "symbol": "circle"
         },
         "mode": "markers+lines",
         "name": "Reflector Outbound",
         "orientation": "v",
         "showlegend": true,
         "type": "scatter",
         "x": [
          0,
          1,
          2,
          3,
          4,
          5,
          6,
          7,
          8,
          9,
          10
         ],
         "xaxis": "x",
         "y": [
          21885,
          218850,
          2103878,
          16054836,
          15679873,
          15285943,
          14425133,
          12757496,
          13094525,
          12318337,
          12646612
         ],
         "yaxis": "y"
        }
       ],
       "layout": {
        "legend": {
         "font": {
          "color": "black",
          "size": 20
         },
         "title": {
          "font": {
           "color": "black",
           "size": 24
          },
          "text": "Legend"
         },
         "tracegroupgap": 0
        },
        "template": {
         "data": {
          "bar": [
           {
            "error_x": {
             "color": "#2a3f5f"
            },
            "error_y": {
             "color": "#2a3f5f"
            },
            "marker": {
             "line": {
              "color": "#E5ECF6",
              "width": 0.5
             },
             "pattern": {
              "fillmode": "overlay",
              "size": 10,
              "solidity": 0.2
             }
            },
            "type": "bar"
           }
          ],
          "barpolar": [
           {
            "marker": {
             "line": {
              "color": "#E5ECF6",
              "width": 0.5
             },
             "pattern": {
              "fillmode": "overlay",
              "size": 10,
              "solidity": 0.2
             }
            },
            "type": "barpolar"
           }
          ],
          "carpet": [
           {
            "aaxis": {
             "endlinecolor": "#2a3f5f",
             "gridcolor": "white",
             "linecolor": "white",
             "minorgridcolor": "white",
             "startlinecolor": "#2a3f5f"
            },
            "baxis": {
             "endlinecolor": "#2a3f5f",
             "gridcolor": "white",
             "linecolor": "white",
             "minorgridcolor": "white",
             "startlinecolor": "#2a3f5f"
            },
            "type": "carpet"
           }
          ],
          "choropleth": [
           {
            "colorbar": {
             "outlinewidth": 0,
             "ticks": ""
            },
            "type": "choropleth"
           }
          ],
          "contour": [
           {
            "colorbar": {
             "outlinewidth": 0,
             "ticks": ""
            },
            "colorscale": [
             [
              0,
              "#0d0887"
             ],
             [
              0.1111111111111111,
              "#46039f"
             ],
             [
              0.2222222222222222,
              "#7201a8"
             ],
             [
              0.3333333333333333,
              "#9c179e"
             ],
             [
              0.4444444444444444,
              "#bd3786"
             ],
             [
              0.5555555555555556,
              "#d8576b"
             ],
             [
              0.6666666666666666,
              "#ed7953"
             ],
             [
              0.7777777777777778,
              "#fb9f3a"
             ],
             [
              0.8888888888888888,
              "#fdca26"
             ],
             [
              1,
              "#f0f921"
             ]
            ],
            "type": "contour"
           }
          ],
          "contourcarpet": [
           {
            "colorbar": {
             "outlinewidth": 0,
             "ticks": ""
            },
            "type": "contourcarpet"
           }
          ],
          "heatmap": [
           {
            "colorbar": {
             "outlinewidth": 0,
             "ticks": ""
            },
            "colorscale": [
             [
              0,
              "#0d0887"
             ],
             [
              0.1111111111111111,
              "#46039f"
             ],
             [
              0.2222222222222222,
              "#7201a8"
             ],
             [
              0.3333333333333333,
              "#9c179e"
             ],
             [
              0.4444444444444444,
              "#bd3786"
             ],
             [
              0.5555555555555556,
              "#d8576b"
             ],
             [
              0.6666666666666666,
              "#ed7953"
             ],
             [
              0.7777777777777778,
              "#fb9f3a"
             ],
             [
              0.8888888888888888,
              "#fdca26"
             ],
             [
              1,
              "#f0f921"
             ]
            ],
            "type": "heatmap"
           }
          ],
          "heatmapgl": [
           {
            "colorbar": {
             "outlinewidth": 0,
             "ticks": ""
            },
            "colorscale": [
             [
              0,
              "#0d0887"
             ],
             [
              0.1111111111111111,
              "#46039f"
             ],
             [
              0.2222222222222222,
              "#7201a8"
             ],
             [
              0.3333333333333333,
              "#9c179e"
             ],
             [
              0.4444444444444444,
              "#bd3786"
             ],
             [
              0.5555555555555556,
              "#d8576b"
             ],
             [
              0.6666666666666666,
              "#ed7953"
             ],
             [
              0.7777777777777778,
              "#fb9f3a"
             ],
             [
              0.8888888888888888,
              "#fdca26"
             ],
             [
              1,
              "#f0f921"
             ]
            ],
            "type": "heatmapgl"
           }
          ],
          "histogram": [
           {
            "marker": {
             "pattern": {
              "fillmode": "overlay",
              "size": 10,
              "solidity": 0.2
             }
            },
            "type": "histogram"
           }
          ],
          "histogram2d": [
           {
            "colorbar": {
             "outlinewidth": 0,
             "ticks": ""
            },
            "colorscale": [
             [
              0,
              "#0d0887"
             ],
             [
              0.1111111111111111,
              "#46039f"
             ],
             [
              0.2222222222222222,
              "#7201a8"
             ],
             [
              0.3333333333333333,
              "#9c179e"
             ],
             [
              0.4444444444444444,
              "#bd3786"
             ],
             [
              0.5555555555555556,
              "#d8576b"
             ],
             [
              0.6666666666666666,
              "#ed7953"
             ],
             [
              0.7777777777777778,
              "#fb9f3a"
             ],
             [
              0.8888888888888888,
              "#fdca26"
             ],
             [
              1,
              "#f0f921"
             ]
            ],
            "type": "histogram2d"
           }
          ],
          "histogram2dcontour": [
           {
            "colorbar": {
             "outlinewidth": 0,
             "ticks": ""
            },
            "colorscale": [
             [
              0,
              "#0d0887"
             ],
             [
              0.1111111111111111,
              "#46039f"
             ],
             [
              0.2222222222222222,
              "#7201a8"
             ],
             [
              0.3333333333333333,
              "#9c179e"
             ],
             [
              0.4444444444444444,
              "#bd3786"
             ],
             [
              0.5555555555555556,
              "#d8576b"
             ],
             [
              0.6666666666666666,
              "#ed7953"
             ],
             [
              0.7777777777777778,
              "#fb9f3a"
             ],
             [
              0.8888888888888888,
              "#fdca26"
             ],
             [
              1,
              "#f0f921"
             ]
            ],
            "type": "histogram2dcontour"
           }
          ],
          "mesh3d": [
           {
            "colorbar": {
             "outlinewidth": 0,
             "ticks": ""
            },
            "type": "mesh3d"
           }
          ],
          "parcoords": [
           {
            "line": {
             "colorbar": {
              "outlinewidth": 0,
              "ticks": ""
             }
            },
            "type": "parcoords"
           }
          ],
          "pie": [
           {
            "automargin": true,
            "type": "pie"
           }
          ],
          "scatter": [
           {
            "fillpattern": {
             "fillmode": "overlay",
             "size": 10,
             "solidity": 0.2
            },
            "type": "scatter"
           }
          ],
          "scatter3d": [
           {
            "line": {
             "colorbar": {
              "outlinewidth": 0,
              "ticks": ""
             }
            },
            "marker": {
             "colorbar": {
              "outlinewidth": 0,
              "ticks": ""
             }
            },
            "type": "scatter3d"
           }
          ],
          "scattercarpet": [
           {
            "marker": {
             "colorbar": {
              "outlinewidth": 0,
              "ticks": ""
             }
            },
            "type": "scattercarpet"
           }
          ],
          "scattergeo": [
           {
            "marker": {
             "colorbar": {
              "outlinewidth": 0,
              "ticks": ""
             }
            },
            "type": "scattergeo"
           }
          ],
          "scattergl": [
           {
            "marker": {
             "colorbar": {
              "outlinewidth": 0,
              "ticks": ""
             }
            },
            "type": "scattergl"
           }
          ],
          "scattermapbox": [
           {
            "marker": {
             "colorbar": {
              "outlinewidth": 0,
              "ticks": ""
             }
            },
            "type": "scattermapbox"
           }
          ],
          "scatterpolar": [
           {
            "marker": {
             "colorbar": {
              "outlinewidth": 0,
              "ticks": ""
             }
            },
            "type": "scatterpolar"
           }
          ],
          "scatterpolargl": [
           {
            "marker": {
             "colorbar": {
              "outlinewidth": 0,
              "ticks": ""
             }
            },
            "type": "scatterpolargl"
           }
          ],
          "scatterternary": [
           {
            "marker": {
             "colorbar": {
              "outlinewidth": 0,
              "ticks": ""
             }
            },
            "type": "scatterternary"
           }
          ],
          "surface": [
           {
            "colorbar": {
             "outlinewidth": 0,
             "ticks": ""
            },
            "colorscale": [
             [
              0,
              "#0d0887"
             ],
             [
              0.1111111111111111,
              "#46039f"
             ],
             [
              0.2222222222222222,
              "#7201a8"
             ],
             [
              0.3333333333333333,
              "#9c179e"
             ],
             [
              0.4444444444444444,
              "#bd3786"
             ],
             [
              0.5555555555555556,
              "#d8576b"
             ],
             [
              0.6666666666666666,
              "#ed7953"
             ],
             [
              0.7777777777777778,
              "#fb9f3a"
             ],
             [
              0.8888888888888888,
              "#fdca26"
             ],
             [
              1,
              "#f0f921"
             ]
            ],
            "type": "surface"
           }
          ],
          "table": [
           {
            "cells": {
             "fill": {
              "color": "#EBF0F8"
             },
             "line": {
              "color": "white"
             }
            },
            "header": {
             "fill": {
              "color": "#C8D4E3"
             },
             "line": {
              "color": "white"
             }
            },
            "type": "table"
           }
          ]
         },
         "layout": {
          "annotationdefaults": {
           "arrowcolor": "#2a3f5f",
           "arrowhead": 0,
           "arrowwidth": 1
          },
          "autotypenumbers": "strict",
          "coloraxis": {
           "colorbar": {
            "outlinewidth": 0,
            "ticks": ""
           }
          },
          "colorscale": {
           "diverging": [
            [
             0,
             "#8e0152"
            ],
            [
             0.1,
             "#c51b7d"
            ],
            [
             0.2,
             "#de77ae"
            ],
            [
             0.3,
             "#f1b6da"
            ],
            [
             0.4,
             "#fde0ef"
            ],
            [
             0.5,
             "#f7f7f7"
            ],
            [
             0.6,
             "#e6f5d0"
            ],
            [
             0.7,
             "#b8e186"
            ],
            [
             0.8,
             "#7fbc41"
            ],
            [
             0.9,
             "#4d9221"
            ],
            [
             1,
             "#276419"
            ]
           ],
           "sequential": [
            [
             0,
             "#0d0887"
            ],
            [
             0.1111111111111111,
             "#46039f"
            ],
            [
             0.2222222222222222,
             "#7201a8"
            ],
            [
             0.3333333333333333,
             "#9c179e"
            ],
            [
             0.4444444444444444,
             "#bd3786"
            ],
            [
             0.5555555555555556,
             "#d8576b"
            ],
            [
             0.6666666666666666,
             "#ed7953"
            ],
            [
             0.7777777777777778,
             "#fb9f3a"
            ],
            [
             0.8888888888888888,
             "#fdca26"
            ],
            [
             1,
             "#f0f921"
            ]
           ],
           "sequentialminus": [
            [
             0,
             "#0d0887"
            ],
            [
             0.1111111111111111,
             "#46039f"
            ],
            [
             0.2222222222222222,
             "#7201a8"
            ],
            [
             0.3333333333333333,
             "#9c179e"
            ],
            [
             0.4444444444444444,
             "#bd3786"
            ],
            [
             0.5555555555555556,
             "#d8576b"
            ],
            [
             0.6666666666666666,
             "#ed7953"
            ],
            [
             0.7777777777777778,
             "#fb9f3a"
            ],
            [
             0.8888888888888888,
             "#fdca26"
            ],
            [
             1,
             "#f0f921"
            ]
           ]
          },
          "colorway": [
           "#636efa",
           "#EF553B",
           "#00cc96",
           "#ab63fa",
           "#FFA15A",
           "#19d3f3",
           "#FF6692",
           "#B6E880",
           "#FF97FF",
           "#FECB52"
          ],
          "font": {
           "color": "#2a3f5f"
          },
          "geo": {
           "bgcolor": "white",
           "lakecolor": "white",
           "landcolor": "#E5ECF6",
           "showlakes": true,
           "showland": true,
           "subunitcolor": "white"
          },
          "hoverlabel": {
           "align": "left"
          },
          "hovermode": "closest",
          "mapbox": {
           "style": "light"
          },
          "paper_bgcolor": "white",
          "plot_bgcolor": "#E5ECF6",
          "polar": {
           "angularaxis": {
            "gridcolor": "white",
            "linecolor": "white",
            "ticks": ""
           },
           "bgcolor": "#E5ECF6",
           "radialaxis": {
            "gridcolor": "white",
            "linecolor": "white",
            "ticks": ""
           }
          },
          "scene": {
           "xaxis": {
            "backgroundcolor": "#E5ECF6",
            "gridcolor": "white",
            "gridwidth": 2,
            "linecolor": "white",
            "showbackground": true,
            "ticks": "",
            "zerolinecolor": "white"
           },
           "yaxis": {
            "backgroundcolor": "#E5ECF6",
            "gridcolor": "white",
            "gridwidth": 2,
            "linecolor": "white",
            "showbackground": true,
            "ticks": "",
            "zerolinecolor": "white"
           },
           "zaxis": {
            "backgroundcolor": "#E5ECF6",
            "gridcolor": "white",
            "gridwidth": 2,
            "linecolor": "white",
            "showbackground": true,
            "ticks": "",
            "zerolinecolor": "white"
           }
          },
          "shapedefaults": {
           "line": {
            "color": "#2a3f5f"
           }
          },
          "ternary": {
           "aaxis": {
            "gridcolor": "white",
            "linecolor": "white",
            "ticks": ""
           },
           "baxis": {
            "gridcolor": "white",
            "linecolor": "white",
            "ticks": ""
           },
           "bgcolor": "#E5ECF6",
           "caxis": {
            "gridcolor": "white",
            "linecolor": "white",
            "ticks": ""
           }
          },
          "title": {
           "x": 0.05
          },
          "xaxis": {
           "automargin": true,
           "gridcolor": "white",
           "linecolor": "white",
           "ticks": "",
           "title": {
            "standoff": 15
           },
           "zerolinecolor": "white",
           "zerolinewidth": 2
          },
          "yaxis": {
           "automargin": true,
           "gridcolor": "white",
           "linecolor": "white",
           "ticks": "",
           "title": {
            "standoff": 15
           },
           "zerolinecolor": "white",
           "zerolinewidth": 2
          }
         }
        },
        "title": {
         "font": {
          "color": "black",
          "size": 36
         },
         "text": "SNMP Test Traffic"
        },
        "xaxis": {
         "anchor": "y",
         "domain": [
          0,
          1
         ],
         "tickfont": {
          "color": "black",
          "size": 16
         },
         "title": {
          "font": {
           "color": "black",
           "size": 24
          },
          "text": "Level"
         }
        },
        "yaxis": {
         "anchor": "x",
         "domain": [
          0,
          1
         ],
         "range": [
          1,
          8.60205999132796
         ],
         "tickfont": {
          "color": "black",
          "size": 16
         },
         "title": {
          "font": {
           "color": "black",
           "size": 24
          },
          "text": "Bytes"
         },
         "type": "log"
        }
       }
      }
     },
     "metadata": {},
     "output_type": "display_data"
    }
   ],
   "source": [
    "PlotLevelAttackData(attackerBytes,victimBytes,reflectorBytes,Protocol)"
   ]
  },
  {
   "cell_type": "markdown",
   "metadata": {},
   "source": [
    "# SSDP DATA OWN TOOL"
   ]
  },
  {
   "cell_type": "code",
   "execution_count": 19,
   "metadata": {},
   "outputs": [],
   "source": [
    "# Get pcap files\n",
    "attackerFilenames,victimFilenames,reflectorFilenames = getFiles('./pcap_ssdp_own_tool')\n",
    "assert len(attackerFilenames) == len(victimFilenames) == len(reflectorFilenames)\n",
    "Protocol = \"SSDP\"\n",
    "useCachedBytes = True"
   ]
  },
  {
   "cell_type": "markdown",
   "metadata": {},
   "source": [
    "## Reading the data"
   ]
  },
  {
   "cell_type": "code",
   "execution_count": 20,
   "metadata": {},
   "outputs": [
    {
     "name": "stdout",
     "output_type": "stream",
     "text": [
      "Getting Attacker Bytes for SSDP from pcap files...\n",
      "Getting Victim Bytes for SSDP from pcap files...\n",
      "Getting Reflector Bytes for SSDP from pcap files...\n"
     ]
    }
   ],
   "source": [
    "# Read pcap \n",
    "attackerBytes = getAttackBytes(attackerFilenames,Protocol=Protocol,useCachedBytes=useCachedBytes)\n",
    "victimBytes = getVictimBytes(victimFilenames,Protocol=Protocol,useCachedBytes=useCachedBytes)\n",
    "reflectorBytes = getReflectorBytes(reflectorFilenames,Protocol=Protocol,useCachedBytes=useCachedBytes)"
   ]
  },
  {
   "cell_type": "markdown",
   "metadata": {},
   "source": [
    "## Displaying the data in latex"
   ]
  },
  {
   "cell_type": "code",
   "execution_count": 23,
   "metadata": {},
   "outputs": [
    {
     "name": "stdout",
     "output_type": "stream",
     "text": [
      "\\begin{table}[H]\n",
      "\\centering\n",
      "\n",
      "\\begin{tabular}{ccrrrc}\n",
      "\\toprule\n",
      "\\multirow{2}{*}{Level} &    Victim & \\multicolumn{2}{c}{Reflector} &  Attacker & \\multirow{2}{*}{Amplification Factor} \\\\\\cline{2-5}\n",
      "      &   Inbound &   Inbound & Outbound & {Outbound} \\\\\n",
      "\\midrule\n",
      "    0 &      4305 &      2040 &     4305 &      2040 &             2.110294 \\\\\n",
      "    1 &     43050 &     20400 &    43050 &     20400 &             2.110294 \\\\\n",
      "    2 &    419307 &    198696 &   419307 &    198696 &             2.110294 \\\\\n",
      "    3 &   3401237 &   1611736 &  3401237 &   1611736 &             2.110294 \\\\\n",
      "    4 &  21642670 &  10255760 & 21642670 &  10255760 &             2.110294 \\\\\n",
      "    5 &  50067724 &  22827056 & 48068195 &  23774432 &             2.105948 \\\\\n",
      "    6 & 101404275 &  80468344 & 85919764 &  95273848 &             1.064345 \\\\\n",
      "    7 & 104109537 & 118981640 & 53743907 & 266397072 &             0.390806 \\\\\n",
      "    8 & 106204924 & 131557152 & 54328526 & 321798712 &             0.330035 \\\\\n",
      "    9 & 105126378 & 144814840 & 62381746 & 333780584 &             0.314957 \\\\\n",
      "   10 & 105498043 & 112598072 & 47210926 & 582204032 &             0.181205 \\\\\n",
      "\\bottomrule\n",
      "\\end{tabular}\\caption{SSDP DDoS test traffic}\n",
      "\\label{tab:SSDP_Test_Traffic}\n",
      "\\end{table}\n",
      "\n"
     ]
    }
   ],
   "source": [
    "#print(tabulate(StatDf,headers='keys',tablefmt='fancy_grid',showindex=False))\n",
    "StatDf = getStatDf(attackerBytes,victimBytes,reflectorBytes)\n",
    "latexTableString = StatDf.to_latex(column_format='ccrrrc',index=False,caption=\"SSDP DDoS test traffic\",label=\"SSDP_Test_Traffic\",position='H') # For getting the table into the report\n",
    "latexTableString = refineLatexTableStringScientificPaper(latexTableString)\n",
    "print(latexTableString)"
   ]
  },
  {
   "cell_type": "markdown",
   "metadata": {},
   "source": [
    "## Plotting"
   ]
  },
  {
   "cell_type": "code",
   "execution_count": 24,
   "metadata": {},
   "outputs": [
    {
     "data": {
      "application/vnd.plotly.v1+json": {
       "config": {
        "plotlyServerURL": "https://plot.ly"
       },
       "data": [
        {
         "hovertemplate": "variable=Attacker Outbound<br>Level=%{x}<br>value=%{y}<extra></extra>",
         "legendgroup": "Attacker Outbound",
         "line": {
          "color": "#636efa",
          "dash": "solid",
          "width": 3
         },
         "marker": {
          "size": 10,
          "symbol": "circle"
         },
         "mode": "markers+lines",
         "name": "Attacker Outbound",
         "orientation": "v",
         "showlegend": true,
         "type": "scatter",
         "x": [
          0,
          1,
          2,
          3,
          4,
          5,
          6,
          7,
          8,
          9,
          10
         ],
         "xaxis": "x",
         "y": [
          2040,
          20400,
          198696,
          1611736,
          10255760,
          23774432,
          95273848,
          266397072,
          321798712,
          333780584,
          582204032
         ],
         "yaxis": "y"
        },
        {
         "hovertemplate": "variable=Victim Inbound<br>Level=%{x}<br>value=%{y}<extra></extra>",
         "legendgroup": "Victim Inbound",
         "line": {
          "color": "#EF553B",
          "dash": "solid",
          "width": 3
         },
         "marker": {
          "size": 10,
          "symbol": "circle"
         },
         "mode": "markers+lines",
         "name": "Victim Inbound",
         "orientation": "v",
         "showlegend": true,
         "type": "scatter",
         "x": [
          0,
          1,
          2,
          3,
          4,
          5,
          6,
          7,
          8,
          9,
          10
         ],
         "xaxis": "x",
         "y": [
          4305,
          43050,
          419307,
          3401237,
          21642670,
          50067724,
          101404275,
          104109537,
          106204924,
          105126378,
          105498043
         ],
         "yaxis": "y"
        },
        {
         "hovertemplate": "variable=Reflector Inbound<br>Level=%{x}<br>value=%{y}<extra></extra>",
         "legendgroup": "Reflector Inbound",
         "line": {
          "color": "#00cc96",
          "dash": "solid",
          "width": 3
         },
         "marker": {
          "size": 10,
          "symbol": "circle"
         },
         "mode": "markers+lines",
         "name": "Reflector Inbound",
         "orientation": "v",
         "showlegend": true,
         "type": "scatter",
         "x": [
          0,
          1,
          2,
          3,
          4,
          5,
          6,
          7,
          8,
          9,
          10
         ],
         "xaxis": "x",
         "y": [
          2040,
          20400,
          198696,
          1611736,
          10255760,
          22827056,
          80468344,
          118981640,
          131557152,
          144814840,
          112598072
         ],
         "yaxis": "y"
        },
        {
         "hovertemplate": "variable=Reflector Outbound<br>Level=%{x}<br>value=%{y}<extra></extra>",
         "legendgroup": "Reflector Outbound",
         "line": {
          "color": "#ab63fa",
          "dash": "solid",
          "width": 3
         },
         "marker": {
          "size": 10,
          "symbol": "circle"
         },
         "mode": "markers+lines",
         "name": "Reflector Outbound",
         "orientation": "v",
         "showlegend": true,
         "type": "scatter",
         "x": [
          0,
          1,
          2,
          3,
          4,
          5,
          6,
          7,
          8,
          9,
          10
         ],
         "xaxis": "x",
         "y": [
          4305,
          43050,
          419307,
          3401237,
          21642670,
          48068195,
          85919764,
          53743907,
          54328526,
          62381746,
          47210926
         ],
         "yaxis": "y"
        }
       ],
       "layout": {
        "legend": {
         "font": {
          "color": "black",
          "size": 20
         },
         "title": {
          "font": {
           "color": "black",
           "size": 24
          },
          "text": "Legend"
         },
         "tracegroupgap": 0
        },
        "template": {
         "data": {
          "bar": [
           {
            "error_x": {
             "color": "#2a3f5f"
            },
            "error_y": {
             "color": "#2a3f5f"
            },
            "marker": {
             "line": {
              "color": "#E5ECF6",
              "width": 0.5
             },
             "pattern": {
              "fillmode": "overlay",
              "size": 10,
              "solidity": 0.2
             }
            },
            "type": "bar"
           }
          ],
          "barpolar": [
           {
            "marker": {
             "line": {
              "color": "#E5ECF6",
              "width": 0.5
             },
             "pattern": {
              "fillmode": "overlay",
              "size": 10,
              "solidity": 0.2
             }
            },
            "type": "barpolar"
           }
          ],
          "carpet": [
           {
            "aaxis": {
             "endlinecolor": "#2a3f5f",
             "gridcolor": "white",
             "linecolor": "white",
             "minorgridcolor": "white",
             "startlinecolor": "#2a3f5f"
            },
            "baxis": {
             "endlinecolor": "#2a3f5f",
             "gridcolor": "white",
             "linecolor": "white",
             "minorgridcolor": "white",
             "startlinecolor": "#2a3f5f"
            },
            "type": "carpet"
           }
          ],
          "choropleth": [
           {
            "colorbar": {
             "outlinewidth": 0,
             "ticks": ""
            },
            "type": "choropleth"
           }
          ],
          "contour": [
           {
            "colorbar": {
             "outlinewidth": 0,
             "ticks": ""
            },
            "colorscale": [
             [
              0,
              "#0d0887"
             ],
             [
              0.1111111111111111,
              "#46039f"
             ],
             [
              0.2222222222222222,
              "#7201a8"
             ],
             [
              0.3333333333333333,
              "#9c179e"
             ],
             [
              0.4444444444444444,
              "#bd3786"
             ],
             [
              0.5555555555555556,
              "#d8576b"
             ],
             [
              0.6666666666666666,
              "#ed7953"
             ],
             [
              0.7777777777777778,
              "#fb9f3a"
             ],
             [
              0.8888888888888888,
              "#fdca26"
             ],
             [
              1,
              "#f0f921"
             ]
            ],
            "type": "contour"
           }
          ],
          "contourcarpet": [
           {
            "colorbar": {
             "outlinewidth": 0,
             "ticks": ""
            },
            "type": "contourcarpet"
           }
          ],
          "heatmap": [
           {
            "colorbar": {
             "outlinewidth": 0,
             "ticks": ""
            },
            "colorscale": [
             [
              0,
              "#0d0887"
             ],
             [
              0.1111111111111111,
              "#46039f"
             ],
             [
              0.2222222222222222,
              "#7201a8"
             ],
             [
              0.3333333333333333,
              "#9c179e"
             ],
             [
              0.4444444444444444,
              "#bd3786"
             ],
             [
              0.5555555555555556,
              "#d8576b"
             ],
             [
              0.6666666666666666,
              "#ed7953"
             ],
             [
              0.7777777777777778,
              "#fb9f3a"
             ],
             [
              0.8888888888888888,
              "#fdca26"
             ],
             [
              1,
              "#f0f921"
             ]
            ],
            "type": "heatmap"
           }
          ],
          "heatmapgl": [
           {
            "colorbar": {
             "outlinewidth": 0,
             "ticks": ""
            },
            "colorscale": [
             [
              0,
              "#0d0887"
             ],
             [
              0.1111111111111111,
              "#46039f"
             ],
             [
              0.2222222222222222,
              "#7201a8"
             ],
             [
              0.3333333333333333,
              "#9c179e"
             ],
             [
              0.4444444444444444,
              "#bd3786"
             ],
             [
              0.5555555555555556,
              "#d8576b"
             ],
             [
              0.6666666666666666,
              "#ed7953"
             ],
             [
              0.7777777777777778,
              "#fb9f3a"
             ],
             [
              0.8888888888888888,
              "#fdca26"
             ],
             [
              1,
              "#f0f921"
             ]
            ],
            "type": "heatmapgl"
           }
          ],
          "histogram": [
           {
            "marker": {
             "pattern": {
              "fillmode": "overlay",
              "size": 10,
              "solidity": 0.2
             }
            },
            "type": "histogram"
           }
          ],
          "histogram2d": [
           {
            "colorbar": {
             "outlinewidth": 0,
             "ticks": ""
            },
            "colorscale": [
             [
              0,
              "#0d0887"
             ],
             [
              0.1111111111111111,
              "#46039f"
             ],
             [
              0.2222222222222222,
              "#7201a8"
             ],
             [
              0.3333333333333333,
              "#9c179e"
             ],
             [
              0.4444444444444444,
              "#bd3786"
             ],
             [
              0.5555555555555556,
              "#d8576b"
             ],
             [
              0.6666666666666666,
              "#ed7953"
             ],
             [
              0.7777777777777778,
              "#fb9f3a"
             ],
             [
              0.8888888888888888,
              "#fdca26"
             ],
             [
              1,
              "#f0f921"
             ]
            ],
            "type": "histogram2d"
           }
          ],
          "histogram2dcontour": [
           {
            "colorbar": {
             "outlinewidth": 0,
             "ticks": ""
            },
            "colorscale": [
             [
              0,
              "#0d0887"
             ],
             [
              0.1111111111111111,
              "#46039f"
             ],
             [
              0.2222222222222222,
              "#7201a8"
             ],
             [
              0.3333333333333333,
              "#9c179e"
             ],
             [
              0.4444444444444444,
              "#bd3786"
             ],
             [
              0.5555555555555556,
              "#d8576b"
             ],
             [
              0.6666666666666666,
              "#ed7953"
             ],
             [
              0.7777777777777778,
              "#fb9f3a"
             ],
             [
              0.8888888888888888,
              "#fdca26"
             ],
             [
              1,
              "#f0f921"
             ]
            ],
            "type": "histogram2dcontour"
           }
          ],
          "mesh3d": [
           {
            "colorbar": {
             "outlinewidth": 0,
             "ticks": ""
            },
            "type": "mesh3d"
           }
          ],
          "parcoords": [
           {
            "line": {
             "colorbar": {
              "outlinewidth": 0,
              "ticks": ""
             }
            },
            "type": "parcoords"
           }
          ],
          "pie": [
           {
            "automargin": true,
            "type": "pie"
           }
          ],
          "scatter": [
           {
            "fillpattern": {
             "fillmode": "overlay",
             "size": 10,
             "solidity": 0.2
            },
            "type": "scatter"
           }
          ],
          "scatter3d": [
           {
            "line": {
             "colorbar": {
              "outlinewidth": 0,
              "ticks": ""
             }
            },
            "marker": {
             "colorbar": {
              "outlinewidth": 0,
              "ticks": ""
             }
            },
            "type": "scatter3d"
           }
          ],
          "scattercarpet": [
           {
            "marker": {
             "colorbar": {
              "outlinewidth": 0,
              "ticks": ""
             }
            },
            "type": "scattercarpet"
           }
          ],
          "scattergeo": [
           {
            "marker": {
             "colorbar": {
              "outlinewidth": 0,
              "ticks": ""
             }
            },
            "type": "scattergeo"
           }
          ],
          "scattergl": [
           {
            "marker": {
             "colorbar": {
              "outlinewidth": 0,
              "ticks": ""
             }
            },
            "type": "scattergl"
           }
          ],
          "scattermapbox": [
           {
            "marker": {
             "colorbar": {
              "outlinewidth": 0,
              "ticks": ""
             }
            },
            "type": "scattermapbox"
           }
          ],
          "scatterpolar": [
           {
            "marker": {
             "colorbar": {
              "outlinewidth": 0,
              "ticks": ""
             }
            },
            "type": "scatterpolar"
           }
          ],
          "scatterpolargl": [
           {
            "marker": {
             "colorbar": {
              "outlinewidth": 0,
              "ticks": ""
             }
            },
            "type": "scatterpolargl"
           }
          ],
          "scatterternary": [
           {
            "marker": {
             "colorbar": {
              "outlinewidth": 0,
              "ticks": ""
             }
            },
            "type": "scatterternary"
           }
          ],
          "surface": [
           {
            "colorbar": {
             "outlinewidth": 0,
             "ticks": ""
            },
            "colorscale": [
             [
              0,
              "#0d0887"
             ],
             [
              0.1111111111111111,
              "#46039f"
             ],
             [
              0.2222222222222222,
              "#7201a8"
             ],
             [
              0.3333333333333333,
              "#9c179e"
             ],
             [
              0.4444444444444444,
              "#bd3786"
             ],
             [
              0.5555555555555556,
              "#d8576b"
             ],
             [
              0.6666666666666666,
              "#ed7953"
             ],
             [
              0.7777777777777778,
              "#fb9f3a"
             ],
             [
              0.8888888888888888,
              "#fdca26"
             ],
             [
              1,
              "#f0f921"
             ]
            ],
            "type": "surface"
           }
          ],
          "table": [
           {
            "cells": {
             "fill": {
              "color": "#EBF0F8"
             },
             "line": {
              "color": "white"
             }
            },
            "header": {
             "fill": {
              "color": "#C8D4E3"
             },
             "line": {
              "color": "white"
             }
            },
            "type": "table"
           }
          ]
         },
         "layout": {
          "annotationdefaults": {
           "arrowcolor": "#2a3f5f",
           "arrowhead": 0,
           "arrowwidth": 1
          },
          "autotypenumbers": "strict",
          "coloraxis": {
           "colorbar": {
            "outlinewidth": 0,
            "ticks": ""
           }
          },
          "colorscale": {
           "diverging": [
            [
             0,
             "#8e0152"
            ],
            [
             0.1,
             "#c51b7d"
            ],
            [
             0.2,
             "#de77ae"
            ],
            [
             0.3,
             "#f1b6da"
            ],
            [
             0.4,
             "#fde0ef"
            ],
            [
             0.5,
             "#f7f7f7"
            ],
            [
             0.6,
             "#e6f5d0"
            ],
            [
             0.7,
             "#b8e186"
            ],
            [
             0.8,
             "#7fbc41"
            ],
            [
             0.9,
             "#4d9221"
            ],
            [
             1,
             "#276419"
            ]
           ],
           "sequential": [
            [
             0,
             "#0d0887"
            ],
            [
             0.1111111111111111,
             "#46039f"
            ],
            [
             0.2222222222222222,
             "#7201a8"
            ],
            [
             0.3333333333333333,
             "#9c179e"
            ],
            [
             0.4444444444444444,
             "#bd3786"
            ],
            [
             0.5555555555555556,
             "#d8576b"
            ],
            [
             0.6666666666666666,
             "#ed7953"
            ],
            [
             0.7777777777777778,
             "#fb9f3a"
            ],
            [
             0.8888888888888888,
             "#fdca26"
            ],
            [
             1,
             "#f0f921"
            ]
           ],
           "sequentialminus": [
            [
             0,
             "#0d0887"
            ],
            [
             0.1111111111111111,
             "#46039f"
            ],
            [
             0.2222222222222222,
             "#7201a8"
            ],
            [
             0.3333333333333333,
             "#9c179e"
            ],
            [
             0.4444444444444444,
             "#bd3786"
            ],
            [
             0.5555555555555556,
             "#d8576b"
            ],
            [
             0.6666666666666666,
             "#ed7953"
            ],
            [
             0.7777777777777778,
             "#fb9f3a"
            ],
            [
             0.8888888888888888,
             "#fdca26"
            ],
            [
             1,
             "#f0f921"
            ]
           ]
          },
          "colorway": [
           "#636efa",
           "#EF553B",
           "#00cc96",
           "#ab63fa",
           "#FFA15A",
           "#19d3f3",
           "#FF6692",
           "#B6E880",
           "#FF97FF",
           "#FECB52"
          ],
          "font": {
           "color": "#2a3f5f"
          },
          "geo": {
           "bgcolor": "white",
           "lakecolor": "white",
           "landcolor": "#E5ECF6",
           "showlakes": true,
           "showland": true,
           "subunitcolor": "white"
          },
          "hoverlabel": {
           "align": "left"
          },
          "hovermode": "closest",
          "mapbox": {
           "style": "light"
          },
          "paper_bgcolor": "white",
          "plot_bgcolor": "#E5ECF6",
          "polar": {
           "angularaxis": {
            "gridcolor": "white",
            "linecolor": "white",
            "ticks": ""
           },
           "bgcolor": "#E5ECF6",
           "radialaxis": {
            "gridcolor": "white",
            "linecolor": "white",
            "ticks": ""
           }
          },
          "scene": {
           "xaxis": {
            "backgroundcolor": "#E5ECF6",
            "gridcolor": "white",
            "gridwidth": 2,
            "linecolor": "white",
            "showbackground": true,
            "ticks": "",
            "zerolinecolor": "white"
           },
           "yaxis": {
            "backgroundcolor": "#E5ECF6",
            "gridcolor": "white",
            "gridwidth": 2,
            "linecolor": "white",
            "showbackground": true,
            "ticks": "",
            "zerolinecolor": "white"
           },
           "zaxis": {
            "backgroundcolor": "#E5ECF6",
            "gridcolor": "white",
            "gridwidth": 2,
            "linecolor": "white",
            "showbackground": true,
            "ticks": "",
            "zerolinecolor": "white"
           }
          },
          "shapedefaults": {
           "line": {
            "color": "#2a3f5f"
           }
          },
          "ternary": {
           "aaxis": {
            "gridcolor": "white",
            "linecolor": "white",
            "ticks": ""
           },
           "baxis": {
            "gridcolor": "white",
            "linecolor": "white",
            "ticks": ""
           },
           "bgcolor": "#E5ECF6",
           "caxis": {
            "gridcolor": "white",
            "linecolor": "white",
            "ticks": ""
           }
          },
          "title": {
           "x": 0.05
          },
          "xaxis": {
           "automargin": true,
           "gridcolor": "white",
           "linecolor": "white",
           "ticks": "",
           "title": {
            "standoff": 15
           },
           "zerolinecolor": "white",
           "zerolinewidth": 2
          },
          "yaxis": {
           "automargin": true,
           "gridcolor": "white",
           "linecolor": "white",
           "ticks": "",
           "title": {
            "standoff": 15
           },
           "zerolinecolor": "white",
           "zerolinewidth": 2
          }
         }
        },
        "title": {
         "font": {
          "color": "black",
          "size": 36
         },
         "text": "SSDP Test Traffic"
        },
        "xaxis": {
         "anchor": "y",
         "domain": [
          0,
          1
         ],
         "tickfont": {
          "color": "black",
          "size": 16
         },
         "title": {
          "font": {
           "color": "black",
           "size": 24
          },
          "text": "Level"
         }
        },
        "yaxis": {
         "anchor": "x",
         "domain": [
          0,
          1
         ],
         "range": [
          1,
          8.778151250383644
         ],
         "tickfont": {
          "color": "black",
          "size": 16
         },
         "title": {
          "font": {
           "color": "black",
           "size": 24
          },
          "text": "Bytes"
         },
         "type": "log"
        }
       }
      }
     },
     "metadata": {},
     "output_type": "display_data"
    }
   ],
   "source": [
    "PlotLevelAttackData(attackerBytes,victimBytes,reflectorBytes,Protocol)"
   ]
  }
 ],
 "metadata": {
  "interpreter": {
   "hash": "73bce13f8028dfd8341a3b2a55c69e4fac2a631d84fa7f8fd64bf1c4038b3a67"
  },
  "kernelspec": {
   "display_name": "Python 3.9.12 ('pcap-reading')",
   "language": "python",
   "name": "python3"
  },
  "language_info": {
   "codemirror_mode": {
    "name": "ipython",
    "version": 3
   },
   "file_extension": ".py",
   "mimetype": "text/x-python",
   "name": "python",
   "nbconvert_exporter": "python",
   "pygments_lexer": "ipython3",
   "version": "3.9.12"
  },
  "orig_nbformat": 4
 },
 "nbformat": 4,
 "nbformat_minor": 2
}
