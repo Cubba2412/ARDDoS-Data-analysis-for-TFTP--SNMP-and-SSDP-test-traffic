{
 "cells": [
  {
   "cell_type": "code",
   "execution_count": 21,
   "metadata": {},
   "outputs": [],
   "source": [
    "from progressbar import Bar, ETA, \\\n",
    "    AdaptiveETA, Percentage, \\\n",
    "    ProgressBar \n",
    "widgets = [Percentage(),\n",
    "            ' ', Bar(),\n",
    "            ' ', ETA(),\n",
    "            ' ', AdaptiveETA()]\n",
    "pbar = ProgressBar(widgets=widgets)\n",
    "from pcapreader import pcapToDf\n",
    "import os\n",
    "import pandas as pd\n",
    "from tqdm.notebook import tqdm\n",
    "from tabulate import tabulate\n",
    "# Running cells in parallel\n",
    "import ipyparallel as ipp\n",
    "# run:\n",
    "# ipcontroller --reuse \n",
    "# in the terminal first to start the cluster\n",
    "\n",
    "# async def startCluster():\n",
    "#     rc = await ipp.Cluster().start_and_connect(n=8, activate=True)\n",
    "# await startCluster()\n",
    "\n"
   ]
  },
  {
   "cell_type": "code",
   "execution_count": 2,
   "metadata": {},
   "outputs": [],
   "source": [
    "def refineLatexTableString(latexTableString):\n",
    "    firstStart = latexTableString.find('{')\n",
    "    formatStart = latexTableString.find('{',firstStart+1)\n",
    "    firstEnd = latexTableString.find('}')\n",
    "    formatEnd = latexTableString.find('}',firstEnd+1)\n",
    "    replaceString = ''.join('|{}|'.format(x) for x in latexTableString[formatStart+1:formatEnd]).replace('||','|')\n",
    "    latexTableString = latexTableString.replace(latexTableString[formatStart+1:formatEnd],replaceString,len(replaceString))\n",
    "    newLineCounts = latexTableString.count(\"\\n\") - 1\n",
    "    latexTableString = latexTableString.replace('\\n','\\n \\hline ',newLineCounts)\n",
    "    return latexTableString"
   ]
  },
  {
   "cell_type": "code",
   "execution_count": 3,
   "metadata": {},
   "outputs": [],
   "source": [
    "## Get All pcap filenames:\n",
    "victimFilenames = []\n",
    "attackerFilenames = []\n",
    "reflectorFilenames = []\n",
    "for root, dirs, files in os.walk(\"./\"):\n",
    "    for file in files:\n",
    "        if file.endswith(\".pcapng\"):\n",
    "            if \"victim\" in file:\n",
    "                victimFilenames.append(os.path.join(root, file))\n",
    "            if \"attacker\" in file:\n",
    "                attackerFilenames.append(os.path.join(root, file))\n",
    "            if \"reflector\" in file:\n",
    "                reflectorFilenames.append(os.path.join(root,file))"
   ]
  },
  {
   "cell_type": "code",
   "execution_count": 60,
   "metadata": {},
   "outputs": [
    {
     "name": "stdout",
     "output_type": "stream",
     "text": [
      "|████████████████████████████████████████| 6/6 [100%] in 13:26.5 (0.01/s) \n"
     ]
    }
   ],
   "source": [
    "## Get attacker bytes sent\n",
    "attackerBytes = []\n",
    "for attackFile in pbar(attackerFilenames):\n",
    "    # Get attack level\n",
    "    start = attackFile.find('level')\n",
    "    end = start+len('level')+1\n",
    "    level = attackFile[start:end]\n",
    "    attackerDf = pcapToDf(attackFile)\n",
    "    # By finding the TFTP packets and summing the byte lengths we get the total number of bytes send by the attacker\n",
    "    attackerDf = attackerDf.loc[attackerDf['Protocol'].isin([\"TFTP\"])]\n",
    "    attackerBytesSent = attackerDf[\"Length\"].sum()\n",
    "    attackerBytes.append({'Level':level,'Attacker Bytes Sent':attackerBytesSent})\n",
    "attackerBytes = pd.DataFrame(attackerBytes).sort_values('Level')"
   ]
  },
  {
   "cell_type": "code",
   "execution_count": 22,
   "metadata": {},
   "outputs": [
    {
     "name": "stderr",
     "output_type": "stream",
     "text": [
      "100% |############################################| Time: 0:00:10 Time: 0:00:10\n"
     ]
    }
   ],
   "source": [
    "## Get Victim bytes received\n",
    "victimBytes = []\n",
    "for victimFile in pbar(victimFilenames):\n",
    "    # Get attack level\n",
    "    start = victimFile.find('level')\n",
    "    end = start+len('level')+1\n",
    "    level = victimFile[start:end]\n",
    "    victimDf = pcapToDf(victimFile)\n",
    "    # In the victim pcap filtering by destination port 50040 (the tftp servers source port) gives the tftp data transfered to the victim\n",
    "    victimBytesReceived = victimDf.loc[(victimDf['Protocol'] == \"UDP\") & (victimDf['UDP Destination Port'] == 50040)][\"Length\"].sum()\n",
    "    victimBytes.append({'Level':level,'Victim Bytes Received':victimBytesReceived}) \n",
    "victimBytes = pd.DataFrame(victimBytes).sort_values('Level')"
   ]
  },
  {
   "cell_type": "code",
   "execution_count": null,
   "metadata": {},
   "outputs": [],
   "source": [
    "## Get Reflector bytes received and sent\n",
    "reflectorBytes = []\n",
    "for reflectorFile in pbar(reflectorFilenames):\n",
    "    # Get attack level\n",
    "    start = reflectorFile.find('level')\n",
    "    end = start+len('level')+1\n",
    "    level = reflectorFile[start:end]\n",
    "    reflectorDf = pcapToDf(reflectorFile)\n",
    "    # In the victim pcap filtering by destination port 50040 (the tftp servers source port) gives the tftp data transfered to the victim\n",
    "    reflectorBytesReceived = reflectorDf.loc[(reflectorDf['Protocol'] == \"TFTP\") & (reflectorDf['UDP Source Port'] == 50040)][\"Length\"].sum()\n",
    "    reflectorBytesSent = reflectorDf.loc[(reflectorDf['Protocol'] == \"TFTP\") & (reflectorDf['UDP Destination Port'] == 50040)][\"Length\"].sum()\n",
    "    reflectorBytes.append({'Level':level,'Reflector Bytes Received':reflectorBytesReceived,'Reflector Bytes Sent':reflectorBytesSent},ignore_index=True)\n",
    "victreflectorBytesimBytes = pd.DataFrame(reflectorBytes).sort_values('Level')"
   ]
  },
  {
   "cell_type": "code",
   "execution_count": null,
   "metadata": {},
   "outputs": [],
   "source": [
    "## Data manipulation for presentation\n",
    "\n",
    "extracted_col = attackerBytes['Attacker Bytes Sent']\n",
    "byteStatisticTable = victimBytes.join(extracted_col)\n",
    "byteStatisticTable['Amplification factor'] = byteStatisticTable['Victim Bytes Received']/byteStatisticTable['Attacker Bytes Sent']"
   ]
  },
  {
   "cell_type": "code",
   "execution_count": 9,
   "metadata": {},
   "outputs": [
    {
     "name": "stdout",
     "output_type": "stream",
     "text": [
      "╒═════════╤═════════════════════════╤═══════════════════════╤════════════════════════╕\n",
      "│ Level   │   Victim Bytes Received │   Attacker Bytes Sent │   Amplification factor │\n",
      "╞═════════╪═════════════════════════╪═══════════════════════╪════════════════════════╡\n",
      "│ level0  │                   48104 │                   840 │             57.2667    │\n",
      "├─────────┼─────────────────────────┼───────────────────────┼────────────────────────┤\n",
      "│ level1  │                  508528 │                  8880 │             57.2667    │\n",
      "├─────────┼─────────────────────────┼───────────────────────┼────────────────────────┤\n",
      "│ level2  │                 1813712 │                 80640 │             22.4915    │\n",
      "├─────────┼─────────────────────────┼───────────────────────┼────────────────────────┤\n",
      "│ level3  │                 2701042 │                781080 │              3.45809   │\n",
      "├─────────┼─────────────────────────┼───────────────────────┼────────────────────────┤\n",
      "│ level4  │                 3171468 │             236692080 │              0.0133991 │\n",
      "├─────────┼─────────────────────────┼───────────────────────┼────────────────────────┤\n",
      "│ level5  │                 3096028 │             238204140 │              0.0129974 │\n",
      "╘═════════╧═════════════════════════╧═══════════════════════╧════════════════════════╛\n",
      "\\begin{tabular}{|l|l|r|r|r|}\n",
      " \\hline  & Level & Victim Bytes Received & Attacker Bytes Sent & Amplification factor \\\\\n",
      " \\hline 4 & level0 & 48104 & 840 & 57.266667 \\\\\n",
      " \\hline 5 & level1 & 508528 & 8880 & 57.266667 \\\\\n",
      " \\hline 2 & level2 & 1813712 & 80640 & 22.491468 \\\\\n",
      " \\hline 1 & level3 & 2701042 & 781080 & 3.458086 \\\\\n",
      " \\hline 0 & level4 & 3171468 & 236692080 & 0.013399 \\\\\n",
      " \\hline 3 & level5 & 3096028 & 238204140 & 0.012997 \\\\\n",
      " \\hline \\end{tabular}\n",
      "\n"
     ]
    }
   ],
   "source": [
    "print(tabulate(byteStatisticTable,headers='keys',tablefmt='fancy_grid',showindex=False))\n",
    "latexTableString = byteStatisticTable.style.to_latex() # For getting the table into the report\n",
    "latexTableString = refineLatexTableString(latexTableString)\n",
    "\n",
    "print(latexTableString)"
   ]
  }
 ],
 "metadata": {
  "interpreter": {
   "hash": "73bce13f8028dfd8341a3b2a55c69e4fac2a631d84fa7f8fd64bf1c4038b3a67"
  },
  "kernelspec": {
   "display_name": "Python 3.9.12 ('pcap-reading')",
   "language": "python",
   "name": "python3"
  },
  "language_info": {
   "codemirror_mode": {
    "name": "ipython",
    "version": 3
   },
   "file_extension": ".py",
   "mimetype": "text/x-python",
   "name": "python",
   "nbconvert_exporter": "python",
   "pygments_lexer": "ipython3",
   "version": "3.9.12"
  },
  "orig_nbformat": 4
 },
 "nbformat": 4,
 "nbformat_minor": 2
}
