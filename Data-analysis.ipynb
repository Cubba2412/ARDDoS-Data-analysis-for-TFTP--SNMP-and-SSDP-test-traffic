{
 "cells": [
  {
   "cell_type": "markdown",
   "metadata": {},
   "source": [
    "# ARDDoS Data analysis for TFTP, SNMP and SSDP test traffic"
   ]
  },
  {
   "cell_type": "code",
   "execution_count": 1,
   "metadata": {},
   "outputs": [],
   "source": [
    "# Generic\n",
    "import os\n",
    "import pandas as pd\n",
    "import warnings\n",
    "warnings.simplefilter(action='ignore', category=FutureWarning)\n",
    "import numpy as np\n",
    "import math\n",
    "import re\n",
    "import ipaddress\n",
    "import kaleido\n",
    "\n",
    "# For showing progress bar of for loops\n",
    "from progressbar import Bar, ETA, \\\n",
    "    AdaptiveETA, Percentage, \\\n",
    "    ProgressBar \n",
    "widgets = [Percentage(),\n",
    "            ' ', Bar(),\n",
    "            ' ', ETA(),\n",
    "            ' ', AdaptiveETA()]\n",
    "pbar = ProgressBar(widgets=widgets)\n",
    "\n",
    "# Own functions\n",
    "from pcapreader import PcapReader\n",
    "pcapToDf = PcapReader.pcapToDf\n",
    "\n",
    "# For converting string to ip address in dataframe\n",
    "from cyberpandas import to_ipaddress \n",
    "# For pretty printing dataframes\n",
    "from tabulate import tabulate \n",
    "# For plotting\n",
    "import plotly.express as px"
   ]
  },
  {
   "cell_type": "markdown",
   "metadata": {},
   "source": [
    "# Functions"
   ]
  },
  {
   "cell_type": "code",
   "execution_count": 2,
   "metadata": {},
   "outputs": [],
   "source": [
    "def refineLatexTableStringScientificPaper(latexTableString):\n",
    "    # Hacks for multiindex dataframe\n",
    "    multiColFirst = latexTableString.find(\"\\multicolumn\")\n",
    "    latexTableString = latexTableString[:multiColFirst+16] + 'c' + latexTableString[multiColFirst+17:]\n",
    "    startRemove = latexTableString.find('\\multicolumn',multiColFirst+1)\n",
    "    latexTableString = latexTableString[:startRemove] + latexTableString[startRemove+18:]\n",
    "    # Convert Level, Amplification factor and packets per sec to multirow:\n",
    "    latexTableString = latexTableString[:latexTableString.find('Level')] + '\\\\multirow{2}{*}{Level}' +  latexTableString[latexTableString.find('Level')+len('Level'):]\n",
    "    latexTableString = latexTableString[:latexTableString.find('Amplification factor')] + '\\\\multirow{2}{*}{\\parbox{2.4cm}{\\centering Amplification \\\\\\\\ Factor}}' +  latexTableString[latexTableString.find('Amplification factor')+len('Amplification factor'):]\n",
    "    latexTableString = latexTableString[:latexTableString.find('Packets Per Second')] + '\\\\multirow{2}{*}{\\parbox{3.4cm}{\\centering Attacker Packets \\\\\\\\ Per Second}}' +  latexTableString[latexTableString.find('Packets Per Second')+len('Packets Per Second'):]\n",
    "    # Adding a horizontal line for multindex table\n",
    "    ## Find first \\\\ after the last column (packets per second)\n",
    "    columnHeaderEndIndex = latexTableString.find('Second')\n",
    "    latexTableString = latexTableString[:latexTableString.find('\\\\\\\\',columnHeaderEndIndex)+len('\\\\\\\\')] + '\\cline{2-5}' + latexTableString[latexTableString.find('\\\\\\\\',columnHeaderEndIndex)+len('\\\\\\\\'):]\n",
    "    # Add \"tab\" to label\n",
    "\n",
    "    # Find caption and label and put at the bottom\n",
    "    captionIndex = latexTableString.find(\"\\caption\")\n",
    "    labelIndex = latexTableString.find('\\label')\n",
    "    labelStart = latexTableString.find('{',labelIndex)\n",
    "    # Put 'tab' in label for figure\n",
    "    latexTableString = latexTableString[:labelStart+1] + 'tab:' + latexTableString[labelStart+1:]\n",
    "    captionEndIndex = latexTableString.find(\"}\",labelIndex+1)+1\n",
    "    endTableIndex = latexTableString.find(\"\\end{tabular}\")\n",
    "    endTableEndIndex = endTableIndex + len(\"\\end{tabular}\")\n",
    "    latexTableString = latexTableString[:captionIndex] + latexTableString[captionEndIndex:endTableEndIndex] + latexTableString[captionIndex:captionEndIndex] + latexTableString[endTableEndIndex:]\n",
    "    return latexTableString"
   ]
  },
  {
   "cell_type": "code",
   "execution_count": 3,
   "metadata": {},
   "outputs": [],
   "source": [
    "## Get All pcap filenames:\n",
    "def getFiles(baseDir):\n",
    "    victimFilenames = []\n",
    "    attackerFilenames = []\n",
    "    reflectorFilenames = []\n",
    "    for root, dirs, files in os.walk(baseDir):\n",
    "        for file in files:\n",
    "            if file.endswith(\".pcapng\"):\n",
    "                if \"victim\" in file:\n",
    "                    victimFilenames.append(os.path.join(root, file))\n",
    "                if \"attacker\" in file:\n",
    "                    attackerFilenames.append(os.path.join(root, file))\n",
    "                if \"reflector\" in file:\n",
    "                    reflectorFilenames.append(os.path.join(root,file))\n",
    "    return attackerFilenames,victimFilenames,reflectorFilenames"
   ]
  },
  {
   "cell_type": "code",
   "execution_count": 4,
   "metadata": {},
   "outputs": [],
   "source": [
    "## Get attacker bytes sent\n",
    "def getAttackStats(attackerFilenames,Protocol,useCachedBytes=False,BytesOrPackets=\"bytes\",Tool=\"Own\"):\n",
    "    print(\"Getting Attacker bytes for \" + Protocol + \" from pcap files...\")\n",
    "    picklePath = os.path.dirname(os.path.dirname(attackerFilenames[0])) + '/AttackerBytes_' + Protocol + '_' + BytesOrPackets + '_' + Tool + '.pkl'\n",
    "    if not useCachedBytes:\n",
    "        pbar = ProgressBar(widgets=widgets)\n",
    "        attackerStats = []\n",
    "        for attackFile in pbar(attackerFilenames):\n",
    "            # Get attack level\n",
    "            level = int(re.search(r'\\d+',attackFile).group(0)) # Find first number in string = level\n",
    "            attackerDf = pcapToDf(attackFile,True,Tool) \n",
    "            if Protocol == \"TFTP\" or Protocol == \"SSDP\" or Protocol == \"SNMP\":\n",
    "            # By finding the TFTP packets and summing the byte lengths we get the total number of bytes send by the attacker\n",
    "                attackerDf = attackerDf.loc[attackerDf['Protocol'].isin([Protocol])]\n",
    "            if BytesOrPackets == \"bytes\":\n",
    "                attackerSent = attackerDf[\"Length\"].sum()\n",
    "            else:\n",
    "                attackerSent = len(attackerDf)\n",
    "            pktPerSec = len(attackerDf)/15 # All attacks are 15 sec\n",
    "            attackerStats.append({'Level':level,'Attacker Outbound':attackerSent,'Packets Per Second':pktPerSec})\n",
    "        attackerStats = pd.DataFrame(attackerStats).sort_values('Level')\n",
    "        # Save to pickle file for fast reloading\n",
    "        attackerStats.to_pickle(picklePath)\n",
    "    else:\n",
    "        if os.path.exists(picklePath):\n",
    "            attackerStats = pd.read_pickle(picklePath)\n",
    "        else:\n",
    "            raise Exception(\"Error no cached pickle file. Run the function with useCachedBytes=False to recalcuate the df, and create the pickle file '\" + os.path.basename(picklePath) + \"'\" )\n",
    " \n",
    "    return attackerStats"
   ]
  },
  {
   "cell_type": "code",
   "execution_count": 5,
   "metadata": {},
   "outputs": [],
   "source": [
    "## Get Victim bytes received\n",
    "def getVictimStats(victimFilenames,Protocol,useCachedBytes=False,BytesOrPackets=\"bytes\",Tool=\"Own\"):\n",
    "    print(\"Getting Victim bytes for \" + Protocol + \" from pcap files...\")\n",
    "    picklePath = os.path.dirname(os.path.dirname(victimFilenames[0])) + '/VictimBytes' + Protocol + '_' + BytesOrPackets + '_' + Tool + '.pkl'\n",
    "    if not useCachedBytes:\n",
    "        pbar = ProgressBar(widgets=widgets)\n",
    "        victimStats = []\n",
    "        for victimFile in pbar(victimFilenames):\n",
    "            # Get attack level\n",
    "            level = int(re.search(r'\\d+',victimFile).group(0)) # Find first number in string = level\n",
    "            victimDf = pcapToDf(victimFile,True,Tool)\n",
    "            if Protocol == \"TFTP\":\n",
    "                # In the victim pcap filtering by destination port 50040 (the tftp servers source port) gives the tftp data transfered to the victim\n",
    "                victimDf = victimDf.loc[(victimDf['UDP Destination Port'] == 50040)]\n",
    "            elif Protocol == \"SNMP\":\n",
    "                victimDf = victimDf.loc[victimDf['Protocol'].isin([Protocol])]\n",
    "            elif Protocol == \"SSDP\":\n",
    "                victimDf = victimDf.loc[(victimDf['Protocol'] == Protocol) & (victimDf['Destination'] != ipaddress.ip_address('239.255.255.250'))]\n",
    "            if BytesOrPackets == \"bytes\":\n",
    "                victimReceived = victimDf[\"Length\"].sum()\n",
    "            else:\n",
    "                victimReceived = len(victimDf)\n",
    "            victimStats.append({'Level':level,'Victim Inbound':victimReceived}) \n",
    "        victimStats = pd.DataFrame(victimStats).sort_values('Level')\n",
    "        # Save to pickle file for fast reloading\n",
    "        victimStats.to_pickle(picklePath)\n",
    "    else:\n",
    "        if os.path.exists(picklePath):\n",
    "            victimStats = pd.read_pickle(picklePath)\n",
    "        else:\n",
    "            raise Exception(\"Error no cached pickle file. Run the function with useCachedBytes=False to recalcuate the df, and create the pickle file '\" + os.path.basename(picklePath) + \"'\" )\n",
    "    return victimStats"
   ]
  },
  {
   "cell_type": "code",
   "execution_count": 6,
   "metadata": {},
   "outputs": [],
   "source": [
    "## Get Reflector bytes received and sent\n",
    "def getReflectorStats(reflectorFilenames,Protocol,useCachedBytes=False,BytesOrPackets=\"bytes\",Tool=\"Own\"):\n",
    "    print(\"Getting Reflector bytes for \" + Protocol + \" from pcap files...\")\n",
    "    picklePath = os.path.dirname(os.path.dirname(reflectorFilenames[0])) + '/ReflectorBytes_' + Protocol + '_' + BytesOrPackets + '_' + Tool + '.pkl'\n",
    "    if not useCachedBytes:\n",
    "        pbar = ProgressBar(widgets=widgets)\n",
    "        reflectorStats = []\n",
    "        for reflectorFile in pbar(reflectorFilenames):\n",
    "            # Get attack level\n",
    "            level = int(re.search(r'\\d+',reflectorFile).group(0)) # Find first number in string = level\n",
    "            reflectorDf = pcapToDf(reflectorFile,True,Tool)\n",
    "            if Protocol == \"TFTP\":\n",
    "                # In the victim pcap filtering by destination port 50040 (the tftp servers source port) gives the tftp data transfered to the victim\n",
    "                reflectorDfReceived = reflectorDf.loc[(reflectorDf['UDP Source Port'] == 50040)]\n",
    "                reflectorDfSent = reflectorDf.loc[(reflectorDf['UDP Destination Port'] == 50040)]\n",
    "            elif Protocol == \"SNMP\":\n",
    "                reflectorDfReceived = reflectorDf.loc[(reflectorDf['Protocol'] == Protocol) & (reflectorDf['Info'].str.contains(\"getBulkRequest\"))]\n",
    "                reflectorDfSent = reflectorDf.loc[(reflectorDf['Protocol'] == Protocol) & (reflectorDf['Info'].str.contains(\"get-response\"))]\n",
    "            elif Protocol == \"SSDP\":\n",
    "                reflectorDfReceived = reflectorDf.loc[(reflectorDf['Protocol'] == Protocol) & (reflectorDf['Destination'] != ipaddress.ip_address('239.255.255.250')) & (reflectorDf[\"Info\"].str.contains(\"M-SEARCH\"))]\n",
    "                reflectorDfSent = reflectorDf.loc[(reflectorDf['Protocol'] == Protocol) & (reflectorDf['Destination'] != ipaddress.ip_address('239.255.255.250')) & (reflectorDf[\"UDP Destination Port\"] == 50040)]\n",
    "            if BytesOrPackets == \"bytes\":\n",
    "                reflectorReceived = reflectorDfReceived[\"Length\"].sum()\n",
    "                reflectorSent = reflectorDfSent[\"Length\"].sum()\n",
    "            else:\n",
    "                reflectorReceived = len(reflectorDfReceived)\n",
    "                reflectorSent = len(reflectorDfSent)\n",
    "            reflectorStats.append({'Level':level,'Reflector Inbound':reflectorReceived,'Reflector Outbound':reflectorSent})\n",
    "        reflectorStats = pd.DataFrame(reflectorStats).sort_values('Level')\n",
    "        # Save to pickle file for fast reloading\n",
    "        reflectorStats.to_pickle(picklePath)\n",
    "    else:\n",
    "        if os.path.exists(picklePath):\n",
    "            reflectorStats = pd.read_pickle(picklePath)\n",
    "        else:\n",
    "            raise Exception(\"Error no cached pickle file. Run the function with useCachedBytes=False to recalcuate the df, and create the pickle file '\" + os.path.basename(picklePath) + \"'\" )\n",
    "    return reflectorStats"
   ]
  },
  {
   "cell_type": "code",
   "execution_count": 7,
   "metadata": {},
   "outputs": [],
   "source": [
    "## Data manipulation for presentation\n",
    "def getStatDf(attackerStats,victimStats,reflectorStats):\n",
    "    StatDf = pd.DataFrame(columns=pd.MultiIndex.from_tuples([(\"Victim\", \"Inbound\"), (\"Reflector\", \"Inbound\"), (\"Reflector\", \"Outbound\"), (\"Attacker\", \"Outbound\")]))\n",
    "    StatDf[\"Level\"] = victimStats['Level']\n",
    "    StatDf[(\"Victim\",\"Inbound\")] = victimStats['Victim Inbound']\n",
    "    StatDf[(\"Reflector\",\"Inbound\")] = reflectorStats['Reflector Inbound']\n",
    "    StatDf[(\"Reflector\",\"Outbound\")] = reflectorStats['Reflector Outbound']\n",
    "    StatDf[(\"Attacker\",\"Outbound\")] = attackerStats['Attacker Outbound']\n",
    "    StatDf['Amplification factor'] = StatDf[(\"Victim\",\"Inbound\")] / StatDf[(\"Attacker\",\"Outbound\")]\n",
    "    StatDf['Packets Per Second'] = attackerStats['Packets Per Second']\n",
    "    column_to_move = StatDf.pop(\"Level\")\n",
    "    StatDf.insert(0, \"Level\", column_to_move)\n",
    "    return StatDf"
   ]
  },
  {
   "cell_type": "code",
   "execution_count": 8,
   "metadata": {},
   "outputs": [],
   "source": [
    "## Plotting\n",
    "def PlotLevelAttackData(attackerStats,victimStats,reflectorStats,Protocol,BytesOrPackets):\n",
    "    # Get single index dataframe\n",
    "    if \"Packets Per Second\" in attackerStats.columns.to_list():\n",
    "        attackerStats.pop(\"Packets Per Second\")\n",
    "    df1 = pd.merge(attackerStats,victimStats,on=\"Level\")\n",
    "    df2 = pd.merge(df1,reflectorStats,on='Level')\n",
    "    # Remove 'level' string in level column\n",
    "    df2[\"Level\"] = df2['Level']\n",
    "    # Get maximum value in dataframe rounded up to highest exponent (i.e. up to nearest 100M for example)\n",
    "    maxN = df2.select_dtypes(include=[np.number]).max().max()\n",
    "    c = 10 ** int(math.log10(maxN)) # Same number of digits as max number\n",
    "    yaxisRange = [10,math.ceil(maxN/c) * c]\n",
    "\n",
    "    # Plot data\n",
    "    fig = px.line(df2, \n",
    "                title=Protocol + \" Test traffic in \" + BytesOrPackets,\n",
    "                x='Level',\n",
    "                y=['Attacker Outbound','Victim Inbound', 'Reflector Inbound','Reflector Outbound'],\n",
    "                log_y=True,\n",
    "                range_y=yaxisRange,\n",
    "                markers=True,\n",
    "                color_discrete_map={\n",
    "                 \"Attacker Outbound\": \"#ED2939\",\n",
    "                 \"Victim Inbound\": \"#007FFF\",\n",
    "                 \"Reflector Inbound\":\"#00A86B\",\n",
    "                 \"Reflector Outbound\":\"orange\" \n",
    "             })\n",
    "    fig.update_layout(\n",
    "        yaxis=dict(\n",
    "            tickfont=dict(size=16,color=\"black\"),\n",
    "            title_text=BytesOrPackets.capitalize(),\n",
    "            titlefont=dict(size=24,color=\"black\")),\n",
    "        xaxis=dict(\n",
    "            tickfont=dict(size=16,color=\"black\"),\n",
    "            title_text=\"Level\",\n",
    "            titlefont=dict(size=24,color=\"black\")),\n",
    "        title={'font': {'size': 36,'color':\"black\"}},\n",
    "        legend = dict(font = dict(size = 20, color = \"black\",)),\n",
    "        legend_title = dict(text=\"Legend\",font = dict(size = 24,color=\"black\"))\n",
    "        )\n",
    "    fig.update_traces(line=dict(width=3),marker=dict(size=10))\n",
    "    fig.show()\n",
    "    fig.write_image(Protocol + \" Test traffic in \" + BytesOrPackets + \".pdf\", width=1920/2.4, height=1080/2.4,scale=-2 ,engine='kaleido')"
   ]
  },
  {
   "cell_type": "markdown",
   "metadata": {},
   "source": [
    "# Bytes"
   ]
  },
  {
   "cell_type": "markdown",
   "metadata": {},
   "source": [
    "## TFTP DATA OWN TOOL"
   ]
  },
  {
   "cell_type": "code",
   "execution_count": 9,
   "metadata": {},
   "outputs": [],
   "source": [
    "# Get pcap files\n",
    "attackerFilenames,victimFilenames,reflectorFilenames = getFiles('./pcap_tftp_own_tool')\n",
    "assert len(attackerFilenames) == len(victimFilenames) == len(reflectorFilenames)\n",
    "Protocol = \"TFTP\"\n",
    "useCachedBytes = True\n",
    "BytesOrPackets=\"bytes\"\n",
    "Tool=\"own\""
   ]
  },
  {
   "cell_type": "markdown",
   "metadata": {},
   "source": [
    "### Reading the data"
   ]
  },
  {
   "cell_type": "code",
   "execution_count": 10,
   "metadata": {},
   "outputs": [
    {
     "name": "stdout",
     "output_type": "stream",
     "text": [
      "Getting Attacker bytes for TFTP from pcap files...\n",
      "Getting Victim bytes for TFTP from pcap files...\n",
      "Getting Reflector bytes for TFTP from pcap files...\n"
     ]
    }
   ],
   "source": [
    "# Read pcap \n",
    "attackerStats = getAttackStats(attackerFilenames,Protocol,useCachedBytes,BytesOrPackets,Tool)\n",
    "victimStats = getVictimStats(victimFilenames,Protocol,useCachedBytes,BytesOrPackets,Tool)\n",
    "reflectorStats = getReflectorStats(reflectorFilenames,Protocol,useCachedBytes,BytesOrPackets,Tool)"
   ]
  },
  {
   "cell_type": "markdown",
   "metadata": {},
   "source": [
    "### Displaying the data in latex"
   ]
  },
  {
   "cell_type": "code",
   "execution_count": 11,
   "metadata": {},
   "outputs": [
    {
     "name": "stdout",
     "output_type": "stream",
     "text": [
      "\\begin{table}[H]\n",
      "\\centering\n",
      "\n",
      "\\begin{tabular}{ccrrrcc}\n",
      "\\toprule\n",
      "\\multirow{2}{*}{Level} &  Victim & \\multicolumn{2}{c}{Reflector} &  Attacker & \\multirow{2}{*}{\\parbox{2.4cm}{\\centering Amplification \\\\ Factor}} & \\multirow{2}{*}{\\parbox{3.4cm}{\\centering Attacker Packets \\\\ Per Second}} \\\\\\cline{2-5}\n",
      "      & Inbound &   Inbound & Outbound & {Outbound} \\\\\n",
      "\\midrule\n",
      "    0 &   51540 &       900 &    51540 &       900 &            57.266667 &           1.000000 \\\\\n",
      "    1 &  515400 &      9000 &   515400 &      9000 &            57.266667 &          10.000000 \\\\\n",
      "    2 & 1823388 &     87600 &  1823388 &     87600 &            20.814932 &          97.333333 \\\\\n",
      "    3 & 2489146 &    715882 &  2489146 &    715800 &             3.477432 &         795.333333 \\\\\n",
      "    4 & 3998028 &   4201042 &  3998028 &   4200960 &             0.951694 &        4667.733333 \\\\\n",
      "    5 & 3769330 &  10570740 &  3769330 &  10570740 &             0.356581 &       11745.266667 \\\\\n",
      "    6 & 3181882 &  41926080 &  3082598 &  42887280 &             0.074192 &       47652.533333 \\\\\n",
      "    7 & 3324972 &  87821842 &  3087582 & 113922480 &             0.029186 &      126580.533333 \\\\\n",
      "    8 & 3164170 &  86906002 &  2908100 & 118607400 &             0.026678 &      131786.000000 \\\\\n",
      "    9 & 3061506 &  88363740 &  2885362 & 117188340 &             0.026125 &      130209.266667 \\\\\n",
      "   10 & 3306768 &  79580460 &  2530402 & 215641320 &             0.015335 &      239601.466667 \\\\\n",
      "\\bottomrule\n",
      "\\end{tabular}\\caption{TFTP ARDoS test traffic in bytes for own tool}\n",
      "\\label{tab:TFTP_Test_Traffic_in_bytes_own}\n",
      "\\end{table}\n",
      "\n"
     ]
    }
   ],
   "source": [
    "#print(tabulate(StatDf,headers='keys',tablefmt='fancy_grid',showindex=False))\n",
    "StatDf = getStatDf(attackerStats,victimStats,reflectorStats)\n",
    "latexTableString = StatDf.to_latex(column_format='ccrrrcc',index=False,caption=Protocol + \" ARDoS test traffic in \" + BytesOrPackets + \" for \" + Tool + \" tool\",label=Protocol + \"_Test_Traffic_in_\" + BytesOrPackets + \"_\" + Tool,position='H') # For getting the table into the report\n",
    "latexTableString = refineLatexTableStringScientificPaper(latexTableString)\n",
    "print(latexTableString)"
   ]
  },
  {
   "cell_type": "markdown",
   "metadata": {},
   "source": [
    "### Plotting"
   ]
  },
  {
   "cell_type": "code",
   "execution_count": 12,
   "metadata": {},
   "outputs": [
    {
     "data": {
      "application/vnd.plotly.v1+json": {
       "config": {
        "plotlyServerURL": "https://plot.ly"
       },
       "data": [
        {
         "hovertemplate": "variable=Attacker Outbound<br>Level=%{x}<br>value=%{y}<extra></extra>",
         "legendgroup": "Attacker Outbound",
         "line": {
          "color": "#ED2939",
          "dash": "solid",
          "width": 3
         },
         "marker": {
          "size": 10,
          "symbol": "circle"
         },
         "mode": "lines+markers",
         "name": "Attacker Outbound",
         "orientation": "v",
         "showlegend": true,
         "type": "scatter",
         "x": [
          0,
          1,
          2,
          3,
          4,
          5,
          6,
          7,
          8,
          9,
          10
         ],
         "xaxis": "x",
         "y": [
          900,
          9000,
          87600,
          715800,
          4200960,
          10570740,
          42887280,
          113922480,
          118607400,
          117188340,
          215641320
         ],
         "yaxis": "y"
        },
        {
         "hovertemplate": "variable=Victim Inbound<br>Level=%{x}<br>value=%{y}<extra></extra>",
         "legendgroup": "Victim Inbound",
         "line": {
          "color": "#007FFF",
          "dash": "solid",
          "width": 3
         },
         "marker": {
          "size": 10,
          "symbol": "circle"
         },
         "mode": "lines+markers",
         "name": "Victim Inbound",
         "orientation": "v",
         "showlegend": true,
         "type": "scatter",
         "x": [
          0,
          1,
          2,
          3,
          4,
          5,
          6,
          7,
          8,
          9,
          10
         ],
         "xaxis": "x",
         "y": [
          51540,
          515400,
          1823388,
          2489146,
          3998028,
          3769330,
          3181882,
          3324972,
          3164170,
          3061506,
          3306768
         ],
         "yaxis": "y"
        },
        {
         "hovertemplate": "variable=Reflector Inbound<br>Level=%{x}<br>value=%{y}<extra></extra>",
         "legendgroup": "Reflector Inbound",
         "line": {
          "color": "#00A86B",
          "dash": "solid",
          "width": 3
         },
         "marker": {
          "size": 10,
          "symbol": "circle"
         },
         "mode": "lines+markers",
         "name": "Reflector Inbound",
         "orientation": "v",
         "showlegend": true,
         "type": "scatter",
         "x": [
          0,
          1,
          2,
          3,
          4,
          5,
          6,
          7,
          8,
          9,
          10
         ],
         "xaxis": "x",
         "y": [
          900,
          9000,
          87600,
          715882,
          4201042,
          10570740,
          41926080,
          87821842,
          86906002,
          88363740,
          79580460
         ],
         "yaxis": "y"
        },
        {
         "hovertemplate": "variable=Reflector Outbound<br>Level=%{x}<br>value=%{y}<extra></extra>",
         "legendgroup": "Reflector Outbound",
         "line": {
          "color": "orange",
          "dash": "solid",
          "width": 3
         },
         "marker": {
          "size": 10,
          "symbol": "circle"
         },
         "mode": "lines+markers",
         "name": "Reflector Outbound",
         "orientation": "v",
         "showlegend": true,
         "type": "scatter",
         "x": [
          0,
          1,
          2,
          3,
          4,
          5,
          6,
          7,
          8,
          9,
          10
         ],
         "xaxis": "x",
         "y": [
          51540,
          515400,
          1823388,
          2489146,
          3998028,
          3769330,
          3082598,
          3087582,
          2908100,
          2885362,
          2530402
         ],
         "yaxis": "y"
        }
       ],
       "layout": {
        "legend": {
         "font": {
          "color": "black",
          "size": 20
         },
         "title": {
          "font": {
           "color": "black",
           "size": 24
          },
          "text": "Legend"
         },
         "tracegroupgap": 0
        },
        "template": {
         "data": {
          "bar": [
           {
            "error_x": {
             "color": "#2a3f5f"
            },
            "error_y": {
             "color": "#2a3f5f"
            },
            "marker": {
             "line": {
              "color": "#E5ECF6",
              "width": 0.5
             },
             "pattern": {
              "fillmode": "overlay",
              "size": 10,
              "solidity": 0.2
             }
            },
            "type": "bar"
           }
          ],
          "barpolar": [
           {
            "marker": {
             "line": {
              "color": "#E5ECF6",
              "width": 0.5
             },
             "pattern": {
              "fillmode": "overlay",
              "size": 10,
              "solidity": 0.2
             }
            },
            "type": "barpolar"
           }
          ],
          "carpet": [
           {
            "aaxis": {
             "endlinecolor": "#2a3f5f",
             "gridcolor": "white",
             "linecolor": "white",
             "minorgridcolor": "white",
             "startlinecolor": "#2a3f5f"
            },
            "baxis": {
             "endlinecolor": "#2a3f5f",
             "gridcolor": "white",
             "linecolor": "white",
             "minorgridcolor": "white",
             "startlinecolor": "#2a3f5f"
            },
            "type": "carpet"
           }
          ],
          "choropleth": [
           {
            "colorbar": {
             "outlinewidth": 0,
             "ticks": ""
            },
            "type": "choropleth"
           }
          ],
          "contour": [
           {
            "colorbar": {
             "outlinewidth": 0,
             "ticks": ""
            },
            "colorscale": [
             [
              0,
              "#0d0887"
             ],
             [
              0.1111111111111111,
              "#46039f"
             ],
             [
              0.2222222222222222,
              "#7201a8"
             ],
             [
              0.3333333333333333,
              "#9c179e"
             ],
             [
              0.4444444444444444,
              "#bd3786"
             ],
             [
              0.5555555555555556,
              "#d8576b"
             ],
             [
              0.6666666666666666,
              "#ed7953"
             ],
             [
              0.7777777777777778,
              "#fb9f3a"
             ],
             [
              0.8888888888888888,
              "#fdca26"
             ],
             [
              1,
              "#f0f921"
             ]
            ],
            "type": "contour"
           }
          ],
          "contourcarpet": [
           {
            "colorbar": {
             "outlinewidth": 0,
             "ticks": ""
            },
            "type": "contourcarpet"
           }
          ],
          "heatmap": [
           {
            "colorbar": {
             "outlinewidth": 0,
             "ticks": ""
            },
            "colorscale": [
             [
              0,
              "#0d0887"
             ],
             [
              0.1111111111111111,
              "#46039f"
             ],
             [
              0.2222222222222222,
              "#7201a8"
             ],
             [
              0.3333333333333333,
              "#9c179e"
             ],
             [
              0.4444444444444444,
              "#bd3786"
             ],
             [
              0.5555555555555556,
              "#d8576b"
             ],
             [
              0.6666666666666666,
              "#ed7953"
             ],
             [
              0.7777777777777778,
              "#fb9f3a"
             ],
             [
              0.8888888888888888,
              "#fdca26"
             ],
             [
              1,
              "#f0f921"
             ]
            ],
            "type": "heatmap"
           }
          ],
          "heatmapgl": [
           {
            "colorbar": {
             "outlinewidth": 0,
             "ticks": ""
            },
            "colorscale": [
             [
              0,
              "#0d0887"
             ],
             [
              0.1111111111111111,
              "#46039f"
             ],
             [
              0.2222222222222222,
              "#7201a8"
             ],
             [
              0.3333333333333333,
              "#9c179e"
             ],
             [
              0.4444444444444444,
              "#bd3786"
             ],
             [
              0.5555555555555556,
              "#d8576b"
             ],
             [
              0.6666666666666666,
              "#ed7953"
             ],
             [
              0.7777777777777778,
              "#fb9f3a"
             ],
             [
              0.8888888888888888,
              "#fdca26"
             ],
             [
              1,
              "#f0f921"
             ]
            ],
            "type": "heatmapgl"
           }
          ],
          "histogram": [
           {
            "marker": {
             "pattern": {
              "fillmode": "overlay",
              "size": 10,
              "solidity": 0.2
             }
            },
            "type": "histogram"
           }
          ],
          "histogram2d": [
           {
            "colorbar": {
             "outlinewidth": 0,
             "ticks": ""
            },
            "colorscale": [
             [
              0,
              "#0d0887"
             ],
             [
              0.1111111111111111,
              "#46039f"
             ],
             [
              0.2222222222222222,
              "#7201a8"
             ],
             [
              0.3333333333333333,
              "#9c179e"
             ],
             [
              0.4444444444444444,
              "#bd3786"
             ],
             [
              0.5555555555555556,
              "#d8576b"
             ],
             [
              0.6666666666666666,
              "#ed7953"
             ],
             [
              0.7777777777777778,
              "#fb9f3a"
             ],
             [
              0.8888888888888888,
              "#fdca26"
             ],
             [
              1,
              "#f0f921"
             ]
            ],
            "type": "histogram2d"
           }
          ],
          "histogram2dcontour": [
           {
            "colorbar": {
             "outlinewidth": 0,
             "ticks": ""
            },
            "colorscale": [
             [
              0,
              "#0d0887"
             ],
             [
              0.1111111111111111,
              "#46039f"
             ],
             [
              0.2222222222222222,
              "#7201a8"
             ],
             [
              0.3333333333333333,
              "#9c179e"
             ],
             [
              0.4444444444444444,
              "#bd3786"
             ],
             [
              0.5555555555555556,
              "#d8576b"
             ],
             [
              0.6666666666666666,
              "#ed7953"
             ],
             [
              0.7777777777777778,
              "#fb9f3a"
             ],
             [
              0.8888888888888888,
              "#fdca26"
             ],
             [
              1,
              "#f0f921"
             ]
            ],
            "type": "histogram2dcontour"
           }
          ],
          "mesh3d": [
           {
            "colorbar": {
             "outlinewidth": 0,
             "ticks": ""
            },
            "type": "mesh3d"
           }
          ],
          "parcoords": [
           {
            "line": {
             "colorbar": {
              "outlinewidth": 0,
              "ticks": ""
             }
            },
            "type": "parcoords"
           }
          ],
          "pie": [
           {
            "automargin": true,
            "type": "pie"
           }
          ],
          "scatter": [
           {
            "fillpattern": {
             "fillmode": "overlay",
             "size": 10,
             "solidity": 0.2
            },
            "type": "scatter"
           }
          ],
          "scatter3d": [
           {
            "line": {
             "colorbar": {
              "outlinewidth": 0,
              "ticks": ""
             }
            },
            "marker": {
             "colorbar": {
              "outlinewidth": 0,
              "ticks": ""
             }
            },
            "type": "scatter3d"
           }
          ],
          "scattercarpet": [
           {
            "marker": {
             "colorbar": {
              "outlinewidth": 0,
              "ticks": ""
             }
            },
            "type": "scattercarpet"
           }
          ],
          "scattergeo": [
           {
            "marker": {
             "colorbar": {
              "outlinewidth": 0,
              "ticks": ""
             }
            },
            "type": "scattergeo"
           }
          ],
          "scattergl": [
           {
            "marker": {
             "colorbar": {
              "outlinewidth": 0,
              "ticks": ""
             }
            },
            "type": "scattergl"
           }
          ],
          "scattermapbox": [
           {
            "marker": {
             "colorbar": {
              "outlinewidth": 0,
              "ticks": ""
             }
            },
            "type": "scattermapbox"
           }
          ],
          "scatterpolar": [
           {
            "marker": {
             "colorbar": {
              "outlinewidth": 0,
              "ticks": ""
             }
            },
            "type": "scatterpolar"
           }
          ],
          "scatterpolargl": [
           {
            "marker": {
             "colorbar": {
              "outlinewidth": 0,
              "ticks": ""
             }
            },
            "type": "scatterpolargl"
           }
          ],
          "scatterternary": [
           {
            "marker": {
             "colorbar": {
              "outlinewidth": 0,
              "ticks": ""
             }
            },
            "type": "scatterternary"
           }
          ],
          "surface": [
           {
            "colorbar": {
             "outlinewidth": 0,
             "ticks": ""
            },
            "colorscale": [
             [
              0,
              "#0d0887"
             ],
             [
              0.1111111111111111,
              "#46039f"
             ],
             [
              0.2222222222222222,
              "#7201a8"
             ],
             [
              0.3333333333333333,
              "#9c179e"
             ],
             [
              0.4444444444444444,
              "#bd3786"
             ],
             [
              0.5555555555555556,
              "#d8576b"
             ],
             [
              0.6666666666666666,
              "#ed7953"
             ],
             [
              0.7777777777777778,
              "#fb9f3a"
             ],
             [
              0.8888888888888888,
              "#fdca26"
             ],
             [
              1,
              "#f0f921"
             ]
            ],
            "type": "surface"
           }
          ],
          "table": [
           {
            "cells": {
             "fill": {
              "color": "#EBF0F8"
             },
             "line": {
              "color": "white"
             }
            },
            "header": {
             "fill": {
              "color": "#C8D4E3"
             },
             "line": {
              "color": "white"
             }
            },
            "type": "table"
           }
          ]
         },
         "layout": {
          "annotationdefaults": {
           "arrowcolor": "#2a3f5f",
           "arrowhead": 0,
           "arrowwidth": 1
          },
          "autotypenumbers": "strict",
          "coloraxis": {
           "colorbar": {
            "outlinewidth": 0,
            "ticks": ""
           }
          },
          "colorscale": {
           "diverging": [
            [
             0,
             "#8e0152"
            ],
            [
             0.1,
             "#c51b7d"
            ],
            [
             0.2,
             "#de77ae"
            ],
            [
             0.3,
             "#f1b6da"
            ],
            [
             0.4,
             "#fde0ef"
            ],
            [
             0.5,
             "#f7f7f7"
            ],
            [
             0.6,
             "#e6f5d0"
            ],
            [
             0.7,
             "#b8e186"
            ],
            [
             0.8,
             "#7fbc41"
            ],
            [
             0.9,
             "#4d9221"
            ],
            [
             1,
             "#276419"
            ]
           ],
           "sequential": [
            [
             0,
             "#0d0887"
            ],
            [
             0.1111111111111111,
             "#46039f"
            ],
            [
             0.2222222222222222,
             "#7201a8"
            ],
            [
             0.3333333333333333,
             "#9c179e"
            ],
            [
             0.4444444444444444,
             "#bd3786"
            ],
            [
             0.5555555555555556,
             "#d8576b"
            ],
            [
             0.6666666666666666,
             "#ed7953"
            ],
            [
             0.7777777777777778,
             "#fb9f3a"
            ],
            [
             0.8888888888888888,
             "#fdca26"
            ],
            [
             1,
             "#f0f921"
            ]
           ],
           "sequentialminus": [
            [
             0,
             "#0d0887"
            ],
            [
             0.1111111111111111,
             "#46039f"
            ],
            [
             0.2222222222222222,
             "#7201a8"
            ],
            [
             0.3333333333333333,
             "#9c179e"
            ],
            [
             0.4444444444444444,
             "#bd3786"
            ],
            [
             0.5555555555555556,
             "#d8576b"
            ],
            [
             0.6666666666666666,
             "#ed7953"
            ],
            [
             0.7777777777777778,
             "#fb9f3a"
            ],
            [
             0.8888888888888888,
             "#fdca26"
            ],
            [
             1,
             "#f0f921"
            ]
           ]
          },
          "colorway": [
           "#636efa",
           "#EF553B",
           "#00cc96",
           "#ab63fa",
           "#FFA15A",
           "#19d3f3",
           "#FF6692",
           "#B6E880",
           "#FF97FF",
           "#FECB52"
          ],
          "font": {
           "color": "#2a3f5f"
          },
          "geo": {
           "bgcolor": "white",
           "lakecolor": "white",
           "landcolor": "#E5ECF6",
           "showlakes": true,
           "showland": true,
           "subunitcolor": "white"
          },
          "hoverlabel": {
           "align": "left"
          },
          "hovermode": "closest",
          "mapbox": {
           "style": "light"
          },
          "paper_bgcolor": "white",
          "plot_bgcolor": "#E5ECF6",
          "polar": {
           "angularaxis": {
            "gridcolor": "white",
            "linecolor": "white",
            "ticks": ""
           },
           "bgcolor": "#E5ECF6",
           "radialaxis": {
            "gridcolor": "white",
            "linecolor": "white",
            "ticks": ""
           }
          },
          "scene": {
           "xaxis": {
            "backgroundcolor": "#E5ECF6",
            "gridcolor": "white",
            "gridwidth": 2,
            "linecolor": "white",
            "showbackground": true,
            "ticks": "",
            "zerolinecolor": "white"
           },
           "yaxis": {
            "backgroundcolor": "#E5ECF6",
            "gridcolor": "white",
            "gridwidth": 2,
            "linecolor": "white",
            "showbackground": true,
            "ticks": "",
            "zerolinecolor": "white"
           },
           "zaxis": {
            "backgroundcolor": "#E5ECF6",
            "gridcolor": "white",
            "gridwidth": 2,
            "linecolor": "white",
            "showbackground": true,
            "ticks": "",
            "zerolinecolor": "white"
           }
          },
          "shapedefaults": {
           "line": {
            "color": "#2a3f5f"
           }
          },
          "ternary": {
           "aaxis": {
            "gridcolor": "white",
            "linecolor": "white",
            "ticks": ""
           },
           "baxis": {
            "gridcolor": "white",
            "linecolor": "white",
            "ticks": ""
           },
           "bgcolor": "#E5ECF6",
           "caxis": {
            "gridcolor": "white",
            "linecolor": "white",
            "ticks": ""
           }
          },
          "title": {
           "x": 0.05
          },
          "xaxis": {
           "automargin": true,
           "gridcolor": "white",
           "linecolor": "white",
           "ticks": "",
           "title": {
            "standoff": 15
           },
           "zerolinecolor": "white",
           "zerolinewidth": 2
          },
          "yaxis": {
           "automargin": true,
           "gridcolor": "white",
           "linecolor": "white",
           "ticks": "",
           "title": {
            "standoff": 15
           },
           "zerolinecolor": "white",
           "zerolinewidth": 2
          }
         }
        },
        "title": {
         "font": {
          "color": "black",
          "size": 36
         },
         "text": "TFTP Test traffic in bytes"
        },
        "xaxis": {
         "anchor": "y",
         "domain": [
          0,
          1
         ],
         "tickfont": {
          "color": "black",
          "size": 16
         },
         "title": {
          "font": {
           "color": "black",
           "size": 24
          },
          "text": "Level"
         }
        },
        "yaxis": {
         "anchor": "x",
         "domain": [
          0,
          1
         ],
         "range": [
          1,
          8.47712125471966
         ],
         "tickfont": {
          "color": "black",
          "size": 16
         },
         "title": {
          "font": {
           "color": "black",
           "size": 24
          },
          "text": "Bytes"
         },
         "type": "log"
        }
       }
      }
     },
     "metadata": {},
     "output_type": "display_data"
    }
   ],
   "source": [
    "PlotLevelAttackData(attackerStats,victimStats,reflectorStats,Protocol,BytesOrPackets)"
   ]
  },
  {
   "cell_type": "markdown",
   "metadata": {},
   "source": [
    "## SNMP DATA OWN TOOL"
   ]
  },
  {
   "cell_type": "code",
   "execution_count": 13,
   "metadata": {},
   "outputs": [],
   "source": [
    "# Get pcap files\n",
    "attackerFilenames,victimFilenames,reflectorFilenames = getFiles('./pcap_snmp_own_tool')\n",
    "assert len(attackerFilenames) == len(victimFilenames) == len(reflectorFilenames)\n",
    "Protocol = \"SNMP\"\n",
    "useCachedBytes = True\n",
    "BytesOrPackets = \"bytes\"\n",
    "Tool=\"own\""
   ]
  },
  {
   "cell_type": "markdown",
   "metadata": {},
   "source": [
    "### Reading the data"
   ]
  },
  {
   "cell_type": "code",
   "execution_count": 14,
   "metadata": {},
   "outputs": [
    {
     "name": "stdout",
     "output_type": "stream",
     "text": [
      "Getting Attacker bytes for SNMP from pcap files...\n",
      "Getting Victim bytes for SNMP from pcap files...\n",
      "Getting Reflector bytes for SNMP from pcap files...\n"
     ]
    }
   ],
   "source": [
    "# Read pcap \n",
    "attackerStats = getAttackStats(attackerFilenames,Protocol,useCachedBytes,BytesOrPackets,Tool)\n",
    "victimStats = getVictimStats(victimFilenames,Protocol,useCachedBytes,BytesOrPackets,Tool)\n",
    "reflectorStats = getReflectorStats(reflectorFilenames,Protocol,useCachedBytes,BytesOrPackets,Tool)"
   ]
  },
  {
   "cell_type": "markdown",
   "metadata": {},
   "source": [
    "### Displaying the data in latex"
   ]
  },
  {
   "cell_type": "code",
   "execution_count": 15,
   "metadata": {},
   "outputs": [
    {
     "name": "stdout",
     "output_type": "stream",
     "text": [
      "\\begin{table}[H]\n",
      "\\centering\n",
      "\n",
      "\\begin{tabular}{ccrrrcc}\n",
      "\\toprule\n",
      "\\multirow{2}{*}{Level} &   Victim & \\multicolumn{2}{c}{Reflector} &  Attacker & \\multirow{2}{*}{\\parbox{2.4cm}{\\centering Amplification \\\\ Factor}} & \\multirow{2}{*}{\\parbox{3.4cm}{\\centering Attacker Packets \\\\ Per Second}} \\\\\\cline{2-5}\n",
      "      &  Inbound &   Inbound & Outbound & {Outbound} \\\\\n",
      "\\midrule\n",
      "    0 &    21885 &      1140 &    21885 &      1140 &            19.197368 &           1.000000 \\\\\n",
      "    1 &   218850 &     11400 &   218850 &     11400 &            19.197368 &          10.000000 \\\\\n",
      "    2 &  2103878 &    109592 &  2103878 &    109592 &            19.197368 &          96.133333 \\\\\n",
      "    3 & 16054836 &    943388 & 16054836 &    943388 &            17.018275 &         827.533333 \\\\\n",
      "    4 & 15679873 &   6193392 & 15679873 &   6193392 &             2.531710 &        5432.800000 \\\\\n",
      "    5 & 15285943 &  13757292 & 15285943 &  13757292 &             1.111116 &       12067.800000 \\\\\n",
      "    6 & 14941619 &  61406936 & 14425133 &  63786952 &             0.234243 &       55953.466667 \\\\\n",
      "    7 & 14597295 & 127481032 & 12757496 & 178241888 &             0.081896 &      156352.533333 \\\\\n",
      "    8 & 14784047 & 129665424 & 13094525 & 177508260 &             0.083287 &      155709.000000 \\\\\n",
      "    9 & 14862833 & 119897980 & 12318337 & 178056144 &             0.083473 &      156189.600000 \\\\\n",
      "   10 & 14757785 & 127048744 & 12646612 & 365358524 &             0.040393 &      320489.933333 \\\\\n",
      "\\bottomrule\n",
      "\\end{tabular}\\caption{SNMP ARDoS test traffic in bytes for own tool}\n",
      "\\label{tab:SNMP_Test_Traffic_in_bytes_own}\n",
      "\\end{table}\n",
      "\n"
     ]
    }
   ],
   "source": [
    "#print(tabulate(StatDf,headers='keys',tablefmt='fancy_grid',showindex=False))\n",
    "StatDf = getStatDf(attackerStats,victimStats,reflectorStats)\n",
    "latexTableString = StatDf.to_latex(column_format='ccrrrcc',index=False,caption=Protocol + \" ARDoS test traffic in \" + BytesOrPackets + \" for \" + Tool + \" tool\",label=Protocol + \"_Test_Traffic_in_\" + BytesOrPackets + \"_\" + Tool,position='H') # For getting the table into the report\n",
    "latexTableString = refineLatexTableStringScientificPaper(latexTableString)\n",
    "print(latexTableString)"
   ]
  },
  {
   "cell_type": "markdown",
   "metadata": {},
   "source": [
    "### Plotting"
   ]
  },
  {
   "cell_type": "code",
   "execution_count": 16,
   "metadata": {},
   "outputs": [
    {
     "data": {
      "application/vnd.plotly.v1+json": {
       "config": {
        "plotlyServerURL": "https://plot.ly"
       },
       "data": [
        {
         "hovertemplate": "variable=Attacker Outbound<br>Level=%{x}<br>value=%{y}<extra></extra>",
         "legendgroup": "Attacker Outbound",
         "line": {
          "color": "#ED2939",
          "dash": "solid",
          "width": 3
         },
         "marker": {
          "size": 10,
          "symbol": "circle"
         },
         "mode": "lines+markers",
         "name": "Attacker Outbound",
         "orientation": "v",
         "showlegend": true,
         "type": "scatter",
         "x": [
          0,
          1,
          2,
          3,
          4,
          5,
          6,
          7,
          8,
          9,
          10
         ],
         "xaxis": "x",
         "y": [
          1140,
          11400,
          109592,
          943388,
          6193392,
          13757292,
          63786952,
          178241888,
          177508260,
          178056144,
          365358524
         ],
         "yaxis": "y"
        },
        {
         "hovertemplate": "variable=Victim Inbound<br>Level=%{x}<br>value=%{y}<extra></extra>",
         "legendgroup": "Victim Inbound",
         "line": {
          "color": "#007FFF",
          "dash": "solid",
          "width": 3
         },
         "marker": {
          "size": 10,
          "symbol": "circle"
         },
         "mode": "lines+markers",
         "name": "Victim Inbound",
         "orientation": "v",
         "showlegend": true,
         "type": "scatter",
         "x": [
          0,
          1,
          2,
          3,
          4,
          5,
          6,
          7,
          8,
          9,
          10
         ],
         "xaxis": "x",
         "y": [
          21885,
          218850,
          2103878,
          16054836,
          15679873,
          15285943,
          14941619,
          14597295,
          14784047,
          14862833,
          14757785
         ],
         "yaxis": "y"
        },
        {
         "hovertemplate": "variable=Reflector Inbound<br>Level=%{x}<br>value=%{y}<extra></extra>",
         "legendgroup": "Reflector Inbound",
         "line": {
          "color": "#00A86B",
          "dash": "solid",
          "width": 3
         },
         "marker": {
          "size": 10,
          "symbol": "circle"
         },
         "mode": "lines+markers",
         "name": "Reflector Inbound",
         "orientation": "v",
         "showlegend": true,
         "type": "scatter",
         "x": [
          0,
          1,
          2,
          3,
          4,
          5,
          6,
          7,
          8,
          9,
          10
         ],
         "xaxis": "x",
         "y": [
          1140,
          11400,
          109592,
          943388,
          6193392,
          13757292,
          61406936,
          127481032,
          129665424,
          119897980,
          127048744
         ],
         "yaxis": "y"
        },
        {
         "hovertemplate": "variable=Reflector Outbound<br>Level=%{x}<br>value=%{y}<extra></extra>",
         "legendgroup": "Reflector Outbound",
         "line": {
          "color": "orange",
          "dash": "solid",
          "width": 3
         },
         "marker": {
          "size": 10,
          "symbol": "circle"
         },
         "mode": "lines+markers",
         "name": "Reflector Outbound",
         "orientation": "v",
         "showlegend": true,
         "type": "scatter",
         "x": [
          0,
          1,
          2,
          3,
          4,
          5,
          6,
          7,
          8,
          9,
          10
         ],
         "xaxis": "x",
         "y": [
          21885,
          218850,
          2103878,
          16054836,
          15679873,
          15285943,
          14425133,
          12757496,
          13094525,
          12318337,
          12646612
         ],
         "yaxis": "y"
        }
       ],
       "layout": {
        "legend": {
         "font": {
          "color": "black",
          "size": 20
         },
         "title": {
          "font": {
           "color": "black",
           "size": 24
          },
          "text": "Legend"
         },
         "tracegroupgap": 0
        },
        "template": {
         "data": {
          "bar": [
           {
            "error_x": {
             "color": "#2a3f5f"
            },
            "error_y": {
             "color": "#2a3f5f"
            },
            "marker": {
             "line": {
              "color": "#E5ECF6",
              "width": 0.5
             },
             "pattern": {
              "fillmode": "overlay",
              "size": 10,
              "solidity": 0.2
             }
            },
            "type": "bar"
           }
          ],
          "barpolar": [
           {
            "marker": {
             "line": {
              "color": "#E5ECF6",
              "width": 0.5
             },
             "pattern": {
              "fillmode": "overlay",
              "size": 10,
              "solidity": 0.2
             }
            },
            "type": "barpolar"
           }
          ],
          "carpet": [
           {
            "aaxis": {
             "endlinecolor": "#2a3f5f",
             "gridcolor": "white",
             "linecolor": "white",
             "minorgridcolor": "white",
             "startlinecolor": "#2a3f5f"
            },
            "baxis": {
             "endlinecolor": "#2a3f5f",
             "gridcolor": "white",
             "linecolor": "white",
             "minorgridcolor": "white",
             "startlinecolor": "#2a3f5f"
            },
            "type": "carpet"
           }
          ],
          "choropleth": [
           {
            "colorbar": {
             "outlinewidth": 0,
             "ticks": ""
            },
            "type": "choropleth"
           }
          ],
          "contour": [
           {
            "colorbar": {
             "outlinewidth": 0,
             "ticks": ""
            },
            "colorscale": [
             [
              0,
              "#0d0887"
             ],
             [
              0.1111111111111111,
              "#46039f"
             ],
             [
              0.2222222222222222,
              "#7201a8"
             ],
             [
              0.3333333333333333,
              "#9c179e"
             ],
             [
              0.4444444444444444,
              "#bd3786"
             ],
             [
              0.5555555555555556,
              "#d8576b"
             ],
             [
              0.6666666666666666,
              "#ed7953"
             ],
             [
              0.7777777777777778,
              "#fb9f3a"
             ],
             [
              0.8888888888888888,
              "#fdca26"
             ],
             [
              1,
              "#f0f921"
             ]
            ],
            "type": "contour"
           }
          ],
          "contourcarpet": [
           {
            "colorbar": {
             "outlinewidth": 0,
             "ticks": ""
            },
            "type": "contourcarpet"
           }
          ],
          "heatmap": [
           {
            "colorbar": {
             "outlinewidth": 0,
             "ticks": ""
            },
            "colorscale": [
             [
              0,
              "#0d0887"
             ],
             [
              0.1111111111111111,
              "#46039f"
             ],
             [
              0.2222222222222222,
              "#7201a8"
             ],
             [
              0.3333333333333333,
              "#9c179e"
             ],
             [
              0.4444444444444444,
              "#bd3786"
             ],
             [
              0.5555555555555556,
              "#d8576b"
             ],
             [
              0.6666666666666666,
              "#ed7953"
             ],
             [
              0.7777777777777778,
              "#fb9f3a"
             ],
             [
              0.8888888888888888,
              "#fdca26"
             ],
             [
              1,
              "#f0f921"
             ]
            ],
            "type": "heatmap"
           }
          ],
          "heatmapgl": [
           {
            "colorbar": {
             "outlinewidth": 0,
             "ticks": ""
            },
            "colorscale": [
             [
              0,
              "#0d0887"
             ],
             [
              0.1111111111111111,
              "#46039f"
             ],
             [
              0.2222222222222222,
              "#7201a8"
             ],
             [
              0.3333333333333333,
              "#9c179e"
             ],
             [
              0.4444444444444444,
              "#bd3786"
             ],
             [
              0.5555555555555556,
              "#d8576b"
             ],
             [
              0.6666666666666666,
              "#ed7953"
             ],
             [
              0.7777777777777778,
              "#fb9f3a"
             ],
             [
              0.8888888888888888,
              "#fdca26"
             ],
             [
              1,
              "#f0f921"
             ]
            ],
            "type": "heatmapgl"
           }
          ],
          "histogram": [
           {
            "marker": {
             "pattern": {
              "fillmode": "overlay",
              "size": 10,
              "solidity": 0.2
             }
            },
            "type": "histogram"
           }
          ],
          "histogram2d": [
           {
            "colorbar": {
             "outlinewidth": 0,
             "ticks": ""
            },
            "colorscale": [
             [
              0,
              "#0d0887"
             ],
             [
              0.1111111111111111,
              "#46039f"
             ],
             [
              0.2222222222222222,
              "#7201a8"
             ],
             [
              0.3333333333333333,
              "#9c179e"
             ],
             [
              0.4444444444444444,
              "#bd3786"
             ],
             [
              0.5555555555555556,
              "#d8576b"
             ],
             [
              0.6666666666666666,
              "#ed7953"
             ],
             [
              0.7777777777777778,
              "#fb9f3a"
             ],
             [
              0.8888888888888888,
              "#fdca26"
             ],
             [
              1,
              "#f0f921"
             ]
            ],
            "type": "histogram2d"
           }
          ],
          "histogram2dcontour": [
           {
            "colorbar": {
             "outlinewidth": 0,
             "ticks": ""
            },
            "colorscale": [
             [
              0,
              "#0d0887"
             ],
             [
              0.1111111111111111,
              "#46039f"
             ],
             [
              0.2222222222222222,
              "#7201a8"
             ],
             [
              0.3333333333333333,
              "#9c179e"
             ],
             [
              0.4444444444444444,
              "#bd3786"
             ],
             [
              0.5555555555555556,
              "#d8576b"
             ],
             [
              0.6666666666666666,
              "#ed7953"
             ],
             [
              0.7777777777777778,
              "#fb9f3a"
             ],
             [
              0.8888888888888888,
              "#fdca26"
             ],
             [
              1,
              "#f0f921"
             ]
            ],
            "type": "histogram2dcontour"
           }
          ],
          "mesh3d": [
           {
            "colorbar": {
             "outlinewidth": 0,
             "ticks": ""
            },
            "type": "mesh3d"
           }
          ],
          "parcoords": [
           {
            "line": {
             "colorbar": {
              "outlinewidth": 0,
              "ticks": ""
             }
            },
            "type": "parcoords"
           }
          ],
          "pie": [
           {
            "automargin": true,
            "type": "pie"
           }
          ],
          "scatter": [
           {
            "fillpattern": {
             "fillmode": "overlay",
             "size": 10,
             "solidity": 0.2
            },
            "type": "scatter"
           }
          ],
          "scatter3d": [
           {
            "line": {
             "colorbar": {
              "outlinewidth": 0,
              "ticks": ""
             }
            },
            "marker": {
             "colorbar": {
              "outlinewidth": 0,
              "ticks": ""
             }
            },
            "type": "scatter3d"
           }
          ],
          "scattercarpet": [
           {
            "marker": {
             "colorbar": {
              "outlinewidth": 0,
              "ticks": ""
             }
            },
            "type": "scattercarpet"
           }
          ],
          "scattergeo": [
           {
            "marker": {
             "colorbar": {
              "outlinewidth": 0,
              "ticks": ""
             }
            },
            "type": "scattergeo"
           }
          ],
          "scattergl": [
           {
            "marker": {
             "colorbar": {
              "outlinewidth": 0,
              "ticks": ""
             }
            },
            "type": "scattergl"
           }
          ],
          "scattermapbox": [
           {
            "marker": {
             "colorbar": {
              "outlinewidth": 0,
              "ticks": ""
             }
            },
            "type": "scattermapbox"
           }
          ],
          "scatterpolar": [
           {
            "marker": {
             "colorbar": {
              "outlinewidth": 0,
              "ticks": ""
             }
            },
            "type": "scatterpolar"
           }
          ],
          "scatterpolargl": [
           {
            "marker": {
             "colorbar": {
              "outlinewidth": 0,
              "ticks": ""
             }
            },
            "type": "scatterpolargl"
           }
          ],
          "scatterternary": [
           {
            "marker": {
             "colorbar": {
              "outlinewidth": 0,
              "ticks": ""
             }
            },
            "type": "scatterternary"
           }
          ],
          "surface": [
           {
            "colorbar": {
             "outlinewidth": 0,
             "ticks": ""
            },
            "colorscale": [
             [
              0,
              "#0d0887"
             ],
             [
              0.1111111111111111,
              "#46039f"
             ],
             [
              0.2222222222222222,
              "#7201a8"
             ],
             [
              0.3333333333333333,
              "#9c179e"
             ],
             [
              0.4444444444444444,
              "#bd3786"
             ],
             [
              0.5555555555555556,
              "#d8576b"
             ],
             [
              0.6666666666666666,
              "#ed7953"
             ],
             [
              0.7777777777777778,
              "#fb9f3a"
             ],
             [
              0.8888888888888888,
              "#fdca26"
             ],
             [
              1,
              "#f0f921"
             ]
            ],
            "type": "surface"
           }
          ],
          "table": [
           {
            "cells": {
             "fill": {
              "color": "#EBF0F8"
             },
             "line": {
              "color": "white"
             }
            },
            "header": {
             "fill": {
              "color": "#C8D4E3"
             },
             "line": {
              "color": "white"
             }
            },
            "type": "table"
           }
          ]
         },
         "layout": {
          "annotationdefaults": {
           "arrowcolor": "#2a3f5f",
           "arrowhead": 0,
           "arrowwidth": 1
          },
          "autotypenumbers": "strict",
          "coloraxis": {
           "colorbar": {
            "outlinewidth": 0,
            "ticks": ""
           }
          },
          "colorscale": {
           "diverging": [
            [
             0,
             "#8e0152"
            ],
            [
             0.1,
             "#c51b7d"
            ],
            [
             0.2,
             "#de77ae"
            ],
            [
             0.3,
             "#f1b6da"
            ],
            [
             0.4,
             "#fde0ef"
            ],
            [
             0.5,
             "#f7f7f7"
            ],
            [
             0.6,
             "#e6f5d0"
            ],
            [
             0.7,
             "#b8e186"
            ],
            [
             0.8,
             "#7fbc41"
            ],
            [
             0.9,
             "#4d9221"
            ],
            [
             1,
             "#276419"
            ]
           ],
           "sequential": [
            [
             0,
             "#0d0887"
            ],
            [
             0.1111111111111111,
             "#46039f"
            ],
            [
             0.2222222222222222,
             "#7201a8"
            ],
            [
             0.3333333333333333,
             "#9c179e"
            ],
            [
             0.4444444444444444,
             "#bd3786"
            ],
            [
             0.5555555555555556,
             "#d8576b"
            ],
            [
             0.6666666666666666,
             "#ed7953"
            ],
            [
             0.7777777777777778,
             "#fb9f3a"
            ],
            [
             0.8888888888888888,
             "#fdca26"
            ],
            [
             1,
             "#f0f921"
            ]
           ],
           "sequentialminus": [
            [
             0,
             "#0d0887"
            ],
            [
             0.1111111111111111,
             "#46039f"
            ],
            [
             0.2222222222222222,
             "#7201a8"
            ],
            [
             0.3333333333333333,
             "#9c179e"
            ],
            [
             0.4444444444444444,
             "#bd3786"
            ],
            [
             0.5555555555555556,
             "#d8576b"
            ],
            [
             0.6666666666666666,
             "#ed7953"
            ],
            [
             0.7777777777777778,
             "#fb9f3a"
            ],
            [
             0.8888888888888888,
             "#fdca26"
            ],
            [
             1,
             "#f0f921"
            ]
           ]
          },
          "colorway": [
           "#636efa",
           "#EF553B",
           "#00cc96",
           "#ab63fa",
           "#FFA15A",
           "#19d3f3",
           "#FF6692",
           "#B6E880",
           "#FF97FF",
           "#FECB52"
          ],
          "font": {
           "color": "#2a3f5f"
          },
          "geo": {
           "bgcolor": "white",
           "lakecolor": "white",
           "landcolor": "#E5ECF6",
           "showlakes": true,
           "showland": true,
           "subunitcolor": "white"
          },
          "hoverlabel": {
           "align": "left"
          },
          "hovermode": "closest",
          "mapbox": {
           "style": "light"
          },
          "paper_bgcolor": "white",
          "plot_bgcolor": "#E5ECF6",
          "polar": {
           "angularaxis": {
            "gridcolor": "white",
            "linecolor": "white",
            "ticks": ""
           },
           "bgcolor": "#E5ECF6",
           "radialaxis": {
            "gridcolor": "white",
            "linecolor": "white",
            "ticks": ""
           }
          },
          "scene": {
           "xaxis": {
            "backgroundcolor": "#E5ECF6",
            "gridcolor": "white",
            "gridwidth": 2,
            "linecolor": "white",
            "showbackground": true,
            "ticks": "",
            "zerolinecolor": "white"
           },
           "yaxis": {
            "backgroundcolor": "#E5ECF6",
            "gridcolor": "white",
            "gridwidth": 2,
            "linecolor": "white",
            "showbackground": true,
            "ticks": "",
            "zerolinecolor": "white"
           },
           "zaxis": {
            "backgroundcolor": "#E5ECF6",
            "gridcolor": "white",
            "gridwidth": 2,
            "linecolor": "white",
            "showbackground": true,
            "ticks": "",
            "zerolinecolor": "white"
           }
          },
          "shapedefaults": {
           "line": {
            "color": "#2a3f5f"
           }
          },
          "ternary": {
           "aaxis": {
            "gridcolor": "white",
            "linecolor": "white",
            "ticks": ""
           },
           "baxis": {
            "gridcolor": "white",
            "linecolor": "white",
            "ticks": ""
           },
           "bgcolor": "#E5ECF6",
           "caxis": {
            "gridcolor": "white",
            "linecolor": "white",
            "ticks": ""
           }
          },
          "title": {
           "x": 0.05
          },
          "xaxis": {
           "automargin": true,
           "gridcolor": "white",
           "linecolor": "white",
           "ticks": "",
           "title": {
            "standoff": 15
           },
           "zerolinecolor": "white",
           "zerolinewidth": 2
          },
          "yaxis": {
           "automargin": true,
           "gridcolor": "white",
           "linecolor": "white",
           "ticks": "",
           "title": {
            "standoff": 15
           },
           "zerolinecolor": "white",
           "zerolinewidth": 2
          }
         }
        },
        "title": {
         "font": {
          "color": "black",
          "size": 36
         },
         "text": "SNMP Test traffic in bytes"
        },
        "xaxis": {
         "anchor": "y",
         "domain": [
          0,
          1
         ],
         "tickfont": {
          "color": "black",
          "size": 16
         },
         "title": {
          "font": {
           "color": "black",
           "size": 24
          },
          "text": "Level"
         }
        },
        "yaxis": {
         "anchor": "x",
         "domain": [
          0,
          1
         ],
         "range": [
          1,
          8.60205999132796
         ],
         "tickfont": {
          "color": "black",
          "size": 16
         },
         "title": {
          "font": {
           "color": "black",
           "size": 24
          },
          "text": "Bytes"
         },
         "type": "log"
        }
       }
      }
     },
     "metadata": {},
     "output_type": "display_data"
    }
   ],
   "source": [
    "PlotLevelAttackData(attackerStats,victimStats,reflectorStats,Protocol,BytesOrPackets)"
   ]
  },
  {
   "cell_type": "markdown",
   "metadata": {},
   "source": [
    "## SSDP DATA OWN TOOL"
   ]
  },
  {
   "cell_type": "code",
   "execution_count": 17,
   "metadata": {},
   "outputs": [],
   "source": [
    "# Get pcap files\n",
    "attackerFilenames,victimFilenames,reflectorFilenames = getFiles('./pcap_ssdp_own_tool')\n",
    "assert len(attackerFilenames) == len(victimFilenames) == len(reflectorFilenames)\n",
    "Protocol = \"SSDP\"\n",
    "useCachedBytes = True\n",
    "BytesOrPackets = \"bytes\"\n",
    "Tool=\"own\""
   ]
  },
  {
   "cell_type": "markdown",
   "metadata": {},
   "source": [
    "### Reading the data"
   ]
  },
  {
   "cell_type": "code",
   "execution_count": 18,
   "metadata": {},
   "outputs": [
    {
     "name": "stdout",
     "output_type": "stream",
     "text": [
      "Getting Attacker bytes for SSDP from pcap files...\n",
      "Getting Victim bytes for SSDP from pcap files...\n",
      "Getting Reflector bytes for SSDP from pcap files...\n"
     ]
    }
   ],
   "source": [
    "# Read pcap \n",
    "attackerStats = getAttackStats(attackerFilenames,Protocol,useCachedBytes,BytesOrPackets,Tool)\n",
    "victimStats = getVictimStats(victimFilenames,Protocol,useCachedBytes,BytesOrPackets,Tool)\n",
    "reflectorStats = getReflectorStats(reflectorFilenames,Protocol,useCachedBytes,BytesOrPackets,Tool)"
   ]
  },
  {
   "cell_type": "markdown",
   "metadata": {},
   "source": [
    "### Displaying the data in latex"
   ]
  },
  {
   "cell_type": "code",
   "execution_count": 19,
   "metadata": {},
   "outputs": [
    {
     "name": "stdout",
     "output_type": "stream",
     "text": [
      "\\begin{table}[H]\n",
      "\\centering\n",
      "\n",
      "\\begin{tabular}{ccrrrcc}\n",
      "\\toprule\n",
      "\\multirow{2}{*}{Level} &    Victim & \\multicolumn{2}{c}{Reflector} &  Attacker & \\multirow{2}{*}{\\parbox{2.4cm}{\\centering Amplification \\\\ Factor}} & \\multirow{2}{*}{\\parbox{3.4cm}{\\centering Attacker Packets \\\\ Per Second}} \\\\\\cline{2-5}\n",
      "      &   Inbound &   Inbound & Outbound & {Outbound} \\\\\n",
      "\\midrule\n",
      "    0 &      4305 &      2040 &     4305 &      2040 &             2.110294 &           1.000000 \\\\\n",
      "    1 &     43050 &     20400 &    43050 &     20400 &             2.110294 &          10.000000 \\\\\n",
      "    2 &    419307 &    198696 &   419307 &    198696 &             2.110294 &          97.400000 \\\\\n",
      "    3 &   3401237 &   1611736 &  3401237 &   1611736 &             2.110294 &         790.066667 \\\\\n",
      "    4 &  21642670 &  10255760 & 21642670 &  10255760 &             2.110294 &        5027.333333 \\\\\n",
      "    5 &  50067724 &  22827056 & 48068195 &  23774432 &             2.105948 &       11654.133333 \\\\\n",
      "    6 & 101404275 &  80468344 & 85919764 &  95273848 &             1.064345 &       46702.866667 \\\\\n",
      "    7 & 104109537 & 118981640 & 53743907 & 266397072 &             0.390806 &      130586.800000 \\\\\n",
      "    8 & 106204924 & 131557152 & 54328526 & 321798712 &             0.330035 &      157744.466667 \\\\\n",
      "    9 & 105126378 & 144814840 & 62381746 & 333780584 &             0.314957 &      163617.933333 \\\\\n",
      "   10 & 105498043 & 112598072 & 47210926 & 582204032 &             0.181205 &      285394.133333 \\\\\n",
      "\\bottomrule\n",
      "\\end{tabular}\\caption{SSDP ARDoS test traffic in bytes for own tool}\n",
      "\\label{tab:SSDP_Test_Traffic_in_bytes_own}\n",
      "\\end{table}\n",
      "\n"
     ]
    }
   ],
   "source": [
    "#print(tabulate(StatDf,headers='keys',tablefmt='fancy_grid',showindex=False))\n",
    "StatDf = getStatDf(attackerStats,victimStats,reflectorStats)\n",
    "latexTableString = StatDf.to_latex(column_format='ccrrrcc',index=False,caption=Protocol + \" ARDoS test traffic in \" + BytesOrPackets + \" for \" + Tool + \" tool\",label=Protocol + \"_Test_Traffic_in_\" + BytesOrPackets + \"_\" + Tool,position='H') # For getting the table into the report\n",
    "latexTableString = refineLatexTableStringScientificPaper(latexTableString)\n",
    "print(latexTableString)"
   ]
  },
  {
   "cell_type": "markdown",
   "metadata": {},
   "source": [
    "### Plotting"
   ]
  },
  {
   "cell_type": "code",
   "execution_count": 20,
   "metadata": {},
   "outputs": [
    {
     "data": {
      "application/vnd.plotly.v1+json": {
       "config": {
        "plotlyServerURL": "https://plot.ly"
       },
       "data": [
        {
         "hovertemplate": "variable=Attacker Outbound<br>Level=%{x}<br>value=%{y}<extra></extra>",
         "legendgroup": "Attacker Outbound",
         "line": {
          "color": "#ED2939",
          "dash": "solid",
          "width": 3
         },
         "marker": {
          "size": 10,
          "symbol": "circle"
         },
         "mode": "lines+markers",
         "name": "Attacker Outbound",
         "orientation": "v",
         "showlegend": true,
         "type": "scatter",
         "x": [
          0,
          1,
          2,
          3,
          4,
          5,
          6,
          7,
          8,
          9,
          10
         ],
         "xaxis": "x",
         "y": [
          2040,
          20400,
          198696,
          1611736,
          10255760,
          23774432,
          95273848,
          266397072,
          321798712,
          333780584,
          582204032
         ],
         "yaxis": "y"
        },
        {
         "hovertemplate": "variable=Victim Inbound<br>Level=%{x}<br>value=%{y}<extra></extra>",
         "legendgroup": "Victim Inbound",
         "line": {
          "color": "#007FFF",
          "dash": "solid",
          "width": 3
         },
         "marker": {
          "size": 10,
          "symbol": "circle"
         },
         "mode": "lines+markers",
         "name": "Victim Inbound",
         "orientation": "v",
         "showlegend": true,
         "type": "scatter",
         "x": [
          0,
          1,
          2,
          3,
          4,
          5,
          6,
          7,
          8,
          9,
          10
         ],
         "xaxis": "x",
         "y": [
          4305,
          43050,
          419307,
          3401237,
          21642670,
          50067724,
          101404275,
          104109537,
          106204924,
          105126378,
          105498043
         ],
         "yaxis": "y"
        },
        {
         "hovertemplate": "variable=Reflector Inbound<br>Level=%{x}<br>value=%{y}<extra></extra>",
         "legendgroup": "Reflector Inbound",
         "line": {
          "color": "#00A86B",
          "dash": "solid",
          "width": 3
         },
         "marker": {
          "size": 10,
          "symbol": "circle"
         },
         "mode": "lines+markers",
         "name": "Reflector Inbound",
         "orientation": "v",
         "showlegend": true,
         "type": "scatter",
         "x": [
          0,
          1,
          2,
          3,
          4,
          5,
          6,
          7,
          8,
          9,
          10
         ],
         "xaxis": "x",
         "y": [
          2040,
          20400,
          198696,
          1611736,
          10255760,
          22827056,
          80468344,
          118981640,
          131557152,
          144814840,
          112598072
         ],
         "yaxis": "y"
        },
        {
         "hovertemplate": "variable=Reflector Outbound<br>Level=%{x}<br>value=%{y}<extra></extra>",
         "legendgroup": "Reflector Outbound",
         "line": {
          "color": "orange",
          "dash": "solid",
          "width": 3
         },
         "marker": {
          "size": 10,
          "symbol": "circle"
         },
         "mode": "lines+markers",
         "name": "Reflector Outbound",
         "orientation": "v",
         "showlegend": true,
         "type": "scatter",
         "x": [
          0,
          1,
          2,
          3,
          4,
          5,
          6,
          7,
          8,
          9,
          10
         ],
         "xaxis": "x",
         "y": [
          4305,
          43050,
          419307,
          3401237,
          21642670,
          48068195,
          85919764,
          53743907,
          54328526,
          62381746,
          47210926
         ],
         "yaxis": "y"
        }
       ],
       "layout": {
        "legend": {
         "font": {
          "color": "black",
          "size": 20
         },
         "title": {
          "font": {
           "color": "black",
           "size": 24
          },
          "text": "Legend"
         },
         "tracegroupgap": 0
        },
        "template": {
         "data": {
          "bar": [
           {
            "error_x": {
             "color": "#2a3f5f"
            },
            "error_y": {
             "color": "#2a3f5f"
            },
            "marker": {
             "line": {
              "color": "#E5ECF6",
              "width": 0.5
             },
             "pattern": {
              "fillmode": "overlay",
              "size": 10,
              "solidity": 0.2
             }
            },
            "type": "bar"
           }
          ],
          "barpolar": [
           {
            "marker": {
             "line": {
              "color": "#E5ECF6",
              "width": 0.5
             },
             "pattern": {
              "fillmode": "overlay",
              "size": 10,
              "solidity": 0.2
             }
            },
            "type": "barpolar"
           }
          ],
          "carpet": [
           {
            "aaxis": {
             "endlinecolor": "#2a3f5f",
             "gridcolor": "white",
             "linecolor": "white",
             "minorgridcolor": "white",
             "startlinecolor": "#2a3f5f"
            },
            "baxis": {
             "endlinecolor": "#2a3f5f",
             "gridcolor": "white",
             "linecolor": "white",
             "minorgridcolor": "white",
             "startlinecolor": "#2a3f5f"
            },
            "type": "carpet"
           }
          ],
          "choropleth": [
           {
            "colorbar": {
             "outlinewidth": 0,
             "ticks": ""
            },
            "type": "choropleth"
           }
          ],
          "contour": [
           {
            "colorbar": {
             "outlinewidth": 0,
             "ticks": ""
            },
            "colorscale": [
             [
              0,
              "#0d0887"
             ],
             [
              0.1111111111111111,
              "#46039f"
             ],
             [
              0.2222222222222222,
              "#7201a8"
             ],
             [
              0.3333333333333333,
              "#9c179e"
             ],
             [
              0.4444444444444444,
              "#bd3786"
             ],
             [
              0.5555555555555556,
              "#d8576b"
             ],
             [
              0.6666666666666666,
              "#ed7953"
             ],
             [
              0.7777777777777778,
              "#fb9f3a"
             ],
             [
              0.8888888888888888,
              "#fdca26"
             ],
             [
              1,
              "#f0f921"
             ]
            ],
            "type": "contour"
           }
          ],
          "contourcarpet": [
           {
            "colorbar": {
             "outlinewidth": 0,
             "ticks": ""
            },
            "type": "contourcarpet"
           }
          ],
          "heatmap": [
           {
            "colorbar": {
             "outlinewidth": 0,
             "ticks": ""
            },
            "colorscale": [
             [
              0,
              "#0d0887"
             ],
             [
              0.1111111111111111,
              "#46039f"
             ],
             [
              0.2222222222222222,
              "#7201a8"
             ],
             [
              0.3333333333333333,
              "#9c179e"
             ],
             [
              0.4444444444444444,
              "#bd3786"
             ],
             [
              0.5555555555555556,
              "#d8576b"
             ],
             [
              0.6666666666666666,
              "#ed7953"
             ],
             [
              0.7777777777777778,
              "#fb9f3a"
             ],
             [
              0.8888888888888888,
              "#fdca26"
             ],
             [
              1,
              "#f0f921"
             ]
            ],
            "type": "heatmap"
           }
          ],
          "heatmapgl": [
           {
            "colorbar": {
             "outlinewidth": 0,
             "ticks": ""
            },
            "colorscale": [
             [
              0,
              "#0d0887"
             ],
             [
              0.1111111111111111,
              "#46039f"
             ],
             [
              0.2222222222222222,
              "#7201a8"
             ],
             [
              0.3333333333333333,
              "#9c179e"
             ],
             [
              0.4444444444444444,
              "#bd3786"
             ],
             [
              0.5555555555555556,
              "#d8576b"
             ],
             [
              0.6666666666666666,
              "#ed7953"
             ],
             [
              0.7777777777777778,
              "#fb9f3a"
             ],
             [
              0.8888888888888888,
              "#fdca26"
             ],
             [
              1,
              "#f0f921"
             ]
            ],
            "type": "heatmapgl"
           }
          ],
          "histogram": [
           {
            "marker": {
             "pattern": {
              "fillmode": "overlay",
              "size": 10,
              "solidity": 0.2
             }
            },
            "type": "histogram"
           }
          ],
          "histogram2d": [
           {
            "colorbar": {
             "outlinewidth": 0,
             "ticks": ""
            },
            "colorscale": [
             [
              0,
              "#0d0887"
             ],
             [
              0.1111111111111111,
              "#46039f"
             ],
             [
              0.2222222222222222,
              "#7201a8"
             ],
             [
              0.3333333333333333,
              "#9c179e"
             ],
             [
              0.4444444444444444,
              "#bd3786"
             ],
             [
              0.5555555555555556,
              "#d8576b"
             ],
             [
              0.6666666666666666,
              "#ed7953"
             ],
             [
              0.7777777777777778,
              "#fb9f3a"
             ],
             [
              0.8888888888888888,
              "#fdca26"
             ],
             [
              1,
              "#f0f921"
             ]
            ],
            "type": "histogram2d"
           }
          ],
          "histogram2dcontour": [
           {
            "colorbar": {
             "outlinewidth": 0,
             "ticks": ""
            },
            "colorscale": [
             [
              0,
              "#0d0887"
             ],
             [
              0.1111111111111111,
              "#46039f"
             ],
             [
              0.2222222222222222,
              "#7201a8"
             ],
             [
              0.3333333333333333,
              "#9c179e"
             ],
             [
              0.4444444444444444,
              "#bd3786"
             ],
             [
              0.5555555555555556,
              "#d8576b"
             ],
             [
              0.6666666666666666,
              "#ed7953"
             ],
             [
              0.7777777777777778,
              "#fb9f3a"
             ],
             [
              0.8888888888888888,
              "#fdca26"
             ],
             [
              1,
              "#f0f921"
             ]
            ],
            "type": "histogram2dcontour"
           }
          ],
          "mesh3d": [
           {
            "colorbar": {
             "outlinewidth": 0,
             "ticks": ""
            },
            "type": "mesh3d"
           }
          ],
          "parcoords": [
           {
            "line": {
             "colorbar": {
              "outlinewidth": 0,
              "ticks": ""
             }
            },
            "type": "parcoords"
           }
          ],
          "pie": [
           {
            "automargin": true,
            "type": "pie"
           }
          ],
          "scatter": [
           {
            "fillpattern": {
             "fillmode": "overlay",
             "size": 10,
             "solidity": 0.2
            },
            "type": "scatter"
           }
          ],
          "scatter3d": [
           {
            "line": {
             "colorbar": {
              "outlinewidth": 0,
              "ticks": ""
             }
            },
            "marker": {
             "colorbar": {
              "outlinewidth": 0,
              "ticks": ""
             }
            },
            "type": "scatter3d"
           }
          ],
          "scattercarpet": [
           {
            "marker": {
             "colorbar": {
              "outlinewidth": 0,
              "ticks": ""
             }
            },
            "type": "scattercarpet"
           }
          ],
          "scattergeo": [
           {
            "marker": {
             "colorbar": {
              "outlinewidth": 0,
              "ticks": ""
             }
            },
            "type": "scattergeo"
           }
          ],
          "scattergl": [
           {
            "marker": {
             "colorbar": {
              "outlinewidth": 0,
              "ticks": ""
             }
            },
            "type": "scattergl"
           }
          ],
          "scattermapbox": [
           {
            "marker": {
             "colorbar": {
              "outlinewidth": 0,
              "ticks": ""
             }
            },
            "type": "scattermapbox"
           }
          ],
          "scatterpolar": [
           {
            "marker": {
             "colorbar": {
              "outlinewidth": 0,
              "ticks": ""
             }
            },
            "type": "scatterpolar"
           }
          ],
          "scatterpolargl": [
           {
            "marker": {
             "colorbar": {
              "outlinewidth": 0,
              "ticks": ""
             }
            },
            "type": "scatterpolargl"
           }
          ],
          "scatterternary": [
           {
            "marker": {
             "colorbar": {
              "outlinewidth": 0,
              "ticks": ""
             }
            },
            "type": "scatterternary"
           }
          ],
          "surface": [
           {
            "colorbar": {
             "outlinewidth": 0,
             "ticks": ""
            },
            "colorscale": [
             [
              0,
              "#0d0887"
             ],
             [
              0.1111111111111111,
              "#46039f"
             ],
             [
              0.2222222222222222,
              "#7201a8"
             ],
             [
              0.3333333333333333,
              "#9c179e"
             ],
             [
              0.4444444444444444,
              "#bd3786"
             ],
             [
              0.5555555555555556,
              "#d8576b"
             ],
             [
              0.6666666666666666,
              "#ed7953"
             ],
             [
              0.7777777777777778,
              "#fb9f3a"
             ],
             [
              0.8888888888888888,
              "#fdca26"
             ],
             [
              1,
              "#f0f921"
             ]
            ],
            "type": "surface"
           }
          ],
          "table": [
           {
            "cells": {
             "fill": {
              "color": "#EBF0F8"
             },
             "line": {
              "color": "white"
             }
            },
            "header": {
             "fill": {
              "color": "#C8D4E3"
             },
             "line": {
              "color": "white"
             }
            },
            "type": "table"
           }
          ]
         },
         "layout": {
          "annotationdefaults": {
           "arrowcolor": "#2a3f5f",
           "arrowhead": 0,
           "arrowwidth": 1
          },
          "autotypenumbers": "strict",
          "coloraxis": {
           "colorbar": {
            "outlinewidth": 0,
            "ticks": ""
           }
          },
          "colorscale": {
           "diverging": [
            [
             0,
             "#8e0152"
            ],
            [
             0.1,
             "#c51b7d"
            ],
            [
             0.2,
             "#de77ae"
            ],
            [
             0.3,
             "#f1b6da"
            ],
            [
             0.4,
             "#fde0ef"
            ],
            [
             0.5,
             "#f7f7f7"
            ],
            [
             0.6,
             "#e6f5d0"
            ],
            [
             0.7,
             "#b8e186"
            ],
            [
             0.8,
             "#7fbc41"
            ],
            [
             0.9,
             "#4d9221"
            ],
            [
             1,
             "#276419"
            ]
           ],
           "sequential": [
            [
             0,
             "#0d0887"
            ],
            [
             0.1111111111111111,
             "#46039f"
            ],
            [
             0.2222222222222222,
             "#7201a8"
            ],
            [
             0.3333333333333333,
             "#9c179e"
            ],
            [
             0.4444444444444444,
             "#bd3786"
            ],
            [
             0.5555555555555556,
             "#d8576b"
            ],
            [
             0.6666666666666666,
             "#ed7953"
            ],
            [
             0.7777777777777778,
             "#fb9f3a"
            ],
            [
             0.8888888888888888,
             "#fdca26"
            ],
            [
             1,
             "#f0f921"
            ]
           ],
           "sequentialminus": [
            [
             0,
             "#0d0887"
            ],
            [
             0.1111111111111111,
             "#46039f"
            ],
            [
             0.2222222222222222,
             "#7201a8"
            ],
            [
             0.3333333333333333,
             "#9c179e"
            ],
            [
             0.4444444444444444,
             "#bd3786"
            ],
            [
             0.5555555555555556,
             "#d8576b"
            ],
            [
             0.6666666666666666,
             "#ed7953"
            ],
            [
             0.7777777777777778,
             "#fb9f3a"
            ],
            [
             0.8888888888888888,
             "#fdca26"
            ],
            [
             1,
             "#f0f921"
            ]
           ]
          },
          "colorway": [
           "#636efa",
           "#EF553B",
           "#00cc96",
           "#ab63fa",
           "#FFA15A",
           "#19d3f3",
           "#FF6692",
           "#B6E880",
           "#FF97FF",
           "#FECB52"
          ],
          "font": {
           "color": "#2a3f5f"
          },
          "geo": {
           "bgcolor": "white",
           "lakecolor": "white",
           "landcolor": "#E5ECF6",
           "showlakes": true,
           "showland": true,
           "subunitcolor": "white"
          },
          "hoverlabel": {
           "align": "left"
          },
          "hovermode": "closest",
          "mapbox": {
           "style": "light"
          },
          "paper_bgcolor": "white",
          "plot_bgcolor": "#E5ECF6",
          "polar": {
           "angularaxis": {
            "gridcolor": "white",
            "linecolor": "white",
            "ticks": ""
           },
           "bgcolor": "#E5ECF6",
           "radialaxis": {
            "gridcolor": "white",
            "linecolor": "white",
            "ticks": ""
           }
          },
          "scene": {
           "xaxis": {
            "backgroundcolor": "#E5ECF6",
            "gridcolor": "white",
            "gridwidth": 2,
            "linecolor": "white",
            "showbackground": true,
            "ticks": "",
            "zerolinecolor": "white"
           },
           "yaxis": {
            "backgroundcolor": "#E5ECF6",
            "gridcolor": "white",
            "gridwidth": 2,
            "linecolor": "white",
            "showbackground": true,
            "ticks": "",
            "zerolinecolor": "white"
           },
           "zaxis": {
            "backgroundcolor": "#E5ECF6",
            "gridcolor": "white",
            "gridwidth": 2,
            "linecolor": "white",
            "showbackground": true,
            "ticks": "",
            "zerolinecolor": "white"
           }
          },
          "shapedefaults": {
           "line": {
            "color": "#2a3f5f"
           }
          },
          "ternary": {
           "aaxis": {
            "gridcolor": "white",
            "linecolor": "white",
            "ticks": ""
           },
           "baxis": {
            "gridcolor": "white",
            "linecolor": "white",
            "ticks": ""
           },
           "bgcolor": "#E5ECF6",
           "caxis": {
            "gridcolor": "white",
            "linecolor": "white",
            "ticks": ""
           }
          },
          "title": {
           "x": 0.05
          },
          "xaxis": {
           "automargin": true,
           "gridcolor": "white",
           "linecolor": "white",
           "ticks": "",
           "title": {
            "standoff": 15
           },
           "zerolinecolor": "white",
           "zerolinewidth": 2
          },
          "yaxis": {
           "automargin": true,
           "gridcolor": "white",
           "linecolor": "white",
           "ticks": "",
           "title": {
            "standoff": 15
           },
           "zerolinecolor": "white",
           "zerolinewidth": 2
          }
         }
        },
        "title": {
         "font": {
          "color": "black",
          "size": 36
         },
         "text": "SSDP Test traffic in bytes"
        },
        "xaxis": {
         "anchor": "y",
         "domain": [
          0,
          1
         ],
         "tickfont": {
          "color": "black",
          "size": 16
         },
         "title": {
          "font": {
           "color": "black",
           "size": 24
          },
          "text": "Level"
         }
        },
        "yaxis": {
         "anchor": "x",
         "domain": [
          0,
          1
         ],
         "range": [
          1,
          8.778151250383644
         ],
         "tickfont": {
          "color": "black",
          "size": 16
         },
         "title": {
          "font": {
           "color": "black",
           "size": 24
          },
          "text": "Bytes"
         },
         "type": "log"
        }
       }
      }
     },
     "metadata": {},
     "output_type": "display_data"
    }
   ],
   "source": [
    "PlotLevelAttackData(attackerStats,victimStats,reflectorStats,Protocol,BytesOrPackets)"
   ]
  },
  {
   "cell_type": "markdown",
   "metadata": {},
   "source": [
    "# Packets"
   ]
  },
  {
   "cell_type": "markdown",
   "metadata": {},
   "source": [
    "## TFTP DATA OWN TOOL"
   ]
  },
  {
   "cell_type": "code",
   "execution_count": 21,
   "metadata": {},
   "outputs": [],
   "source": [
    "# Get pcap files\n",
    "attackerFilenames,victimFilenames,reflectorFilenames = getFiles('./pcap_tftp_own_tool')\n",
    "assert len(attackerFilenames) == len(victimFilenames) == len(reflectorFilenames)\n",
    "Protocol = \"TFTP\"\n",
    "useCachedBytes = True\n",
    "BytesOrPackets=\"packets\"\n",
    "Tool=\"own\""
   ]
  },
  {
   "cell_type": "markdown",
   "metadata": {},
   "source": [
    "### Reading the data"
   ]
  },
  {
   "cell_type": "code",
   "execution_count": 22,
   "metadata": {},
   "outputs": [
    {
     "name": "stdout",
     "output_type": "stream",
     "text": [
      "Getting Attacker bytes for TFTP from pcap files...\n",
      "Getting Victim bytes for TFTP from pcap files...\n",
      "Getting Reflector bytes for TFTP from pcap files...\n"
     ]
    }
   ],
   "source": [
    "# Read pcap \n",
    "attackerStats = getAttackStats(attackerFilenames,Protocol,useCachedBytes,BytesOrPackets,Tool)\n",
    "victimStats = getVictimStats(victimFilenames,Protocol,useCachedBytes,BytesOrPackets,Tool)\n",
    "reflectorStats = getReflectorStats(reflectorFilenames,Protocol,useCachedBytes,BytesOrPackets,Tool)"
   ]
  },
  {
   "cell_type": "markdown",
   "metadata": {},
   "source": [
    "### Displaying the data in latex"
   ]
  },
  {
   "cell_type": "code",
   "execution_count": 23,
   "metadata": {},
   "outputs": [
    {
     "name": "stdout",
     "output_type": "stream",
     "text": [
      "\\begin{table}[H]\n",
      "\\centering\n",
      "\n",
      "\\begin{tabular}{ccrrrcc}\n",
      "\\toprule\n",
      "\\multirow{2}{*}{Level} &  Victim & \\multicolumn{2}{c}{Reflector} & Attacker & \\multirow{2}{*}{\\parbox{2.4cm}{\\centering Amplification \\\\ Factor}} & \\multirow{2}{*}{\\parbox{3.4cm}{\\centering Attacker Packets \\\\ Per Second}} \\\\\\cline{2-5}\n",
      "      & Inbound &   Inbound & Outbound & {Outbound} \\\\\n",
      "\\midrule\n",
      "    0 &     105 &        15 &      105 &       15 &             7.000000 &           1.000000 \\\\\n",
      "    1 &    1050 &       150 &     1050 &      150 &             7.000000 &          10.000000 \\\\\n",
      "    2 &    4506 &      1460 &     4506 &     1460 &             3.086301 &          97.333333 \\\\\n",
      "    3 &   12625 &     11931 &    12625 &    11930 &             1.058256 &         795.333333 \\\\\n",
      "    4 &   31026 &     70017 &    31026 &    70016 &             0.443127 &        4667.733333 \\\\\n",
      "    5 &   28237 &    176179 &    28237 &   176179 &             0.160274 &       11745.266667 \\\\\n",
      "    6 &   21073 &    698768 &    20553 &   714788 &             0.029481 &       47652.533333 \\\\\n",
      "    7 &   22818 &   1463697 &    19923 &  1898708 &             0.012018 &      126580.533333 \\\\\n",
      "    8 &   20857 &   1448433 &    17740 &  1976790 &             0.010551 &      131786.000000 \\\\\n",
      "    9 &   19605 &   1472729 &    17573 &  1953139 &             0.010038 &      130209.266667 \\\\\n",
      "   10 &   22596 &   1326341 &    16077 &  3594022 &             0.006287 &      239601.466667 \\\\\n",
      "\\bottomrule\n",
      "\\end{tabular}\\caption{TFTP ARDoS test traffic in packets for own tool}\n",
      "\\label{tab:TFTP_Test_Traffic_in_packets_own}\n",
      "\\end{table}\n",
      "\n"
     ]
    }
   ],
   "source": [
    "#print(tabulate(StatDf,headers='keys',tablefmt='fancy_grid',showindex=False))\n",
    "StatDf = getStatDf(attackerStats,victimStats,reflectorStats)\n",
    "latexTableString = StatDf.to_latex(column_format='ccrrrcc',index=False,caption=Protocol + \" ARDoS test traffic in \" + BytesOrPackets + \" for \" + Tool + \" tool\",label=Protocol + \"_Test_Traffic_in_\" + BytesOrPackets + \"_\" + Tool,position='H') # For getting the table into the report\n",
    "latexTableString = refineLatexTableStringScientificPaper(latexTableString)\n",
    "print(latexTableString)"
   ]
  },
  {
   "cell_type": "markdown",
   "metadata": {},
   "source": [
    "### Plotting"
   ]
  },
  {
   "cell_type": "code",
   "execution_count": 24,
   "metadata": {},
   "outputs": [
    {
     "data": {
      "application/vnd.plotly.v1+json": {
       "config": {
        "plotlyServerURL": "https://plot.ly"
       },
       "data": [
        {
         "hovertemplate": "variable=Attacker Outbound<br>Level=%{x}<br>value=%{y}<extra></extra>",
         "legendgroup": "Attacker Outbound",
         "line": {
          "color": "#ED2939",
          "dash": "solid",
          "width": 3
         },
         "marker": {
          "size": 10,
          "symbol": "circle"
         },
         "mode": "lines+markers",
         "name": "Attacker Outbound",
         "orientation": "v",
         "showlegend": true,
         "type": "scatter",
         "x": [
          0,
          1,
          2,
          3,
          4,
          5,
          6,
          7,
          8,
          9,
          10
         ],
         "xaxis": "x",
         "y": [
          15,
          150,
          1460,
          11930,
          70016,
          176179,
          714788,
          1898708,
          1976790,
          1953139,
          3594022
         ],
         "yaxis": "y"
        },
        {
         "hovertemplate": "variable=Victim Inbound<br>Level=%{x}<br>value=%{y}<extra></extra>",
         "legendgroup": "Victim Inbound",
         "line": {
          "color": "#007FFF",
          "dash": "solid",
          "width": 3
         },
         "marker": {
          "size": 10,
          "symbol": "circle"
         },
         "mode": "lines+markers",
         "name": "Victim Inbound",
         "orientation": "v",
         "showlegend": true,
         "type": "scatter",
         "x": [
          0,
          1,
          2,
          3,
          4,
          5,
          6,
          7,
          8,
          9,
          10
         ],
         "xaxis": "x",
         "y": [
          105,
          1050,
          4506,
          12625,
          31026,
          28237,
          21073,
          22818,
          20857,
          19605,
          22596
         ],
         "yaxis": "y"
        },
        {
         "hovertemplate": "variable=Reflector Inbound<br>Level=%{x}<br>value=%{y}<extra></extra>",
         "legendgroup": "Reflector Inbound",
         "line": {
          "color": "#00A86B",
          "dash": "solid",
          "width": 3
         },
         "marker": {
          "size": 10,
          "symbol": "circle"
         },
         "mode": "lines+markers",
         "name": "Reflector Inbound",
         "orientation": "v",
         "showlegend": true,
         "type": "scatter",
         "x": [
          0,
          1,
          2,
          3,
          4,
          5,
          6,
          7,
          8,
          9,
          10
         ],
         "xaxis": "x",
         "y": [
          15,
          150,
          1460,
          11931,
          70017,
          176179,
          698768,
          1463697,
          1448433,
          1472729,
          1326341
         ],
         "yaxis": "y"
        },
        {
         "hovertemplate": "variable=Reflector Outbound<br>Level=%{x}<br>value=%{y}<extra></extra>",
         "legendgroup": "Reflector Outbound",
         "line": {
          "color": "orange",
          "dash": "solid",
          "width": 3
         },
         "marker": {
          "size": 10,
          "symbol": "circle"
         },
         "mode": "lines+markers",
         "name": "Reflector Outbound",
         "orientation": "v",
         "showlegend": true,
         "type": "scatter",
         "x": [
          0,
          1,
          2,
          3,
          4,
          5,
          6,
          7,
          8,
          9,
          10
         ],
         "xaxis": "x",
         "y": [
          105,
          1050,
          4506,
          12625,
          31026,
          28237,
          20553,
          19923,
          17740,
          17573,
          16077
         ],
         "yaxis": "y"
        }
       ],
       "layout": {
        "legend": {
         "font": {
          "color": "black",
          "size": 20
         },
         "title": {
          "font": {
           "color": "black",
           "size": 24
          },
          "text": "Legend"
         },
         "tracegroupgap": 0
        },
        "template": {
         "data": {
          "bar": [
           {
            "error_x": {
             "color": "#2a3f5f"
            },
            "error_y": {
             "color": "#2a3f5f"
            },
            "marker": {
             "line": {
              "color": "#E5ECF6",
              "width": 0.5
             },
             "pattern": {
              "fillmode": "overlay",
              "size": 10,
              "solidity": 0.2
             }
            },
            "type": "bar"
           }
          ],
          "barpolar": [
           {
            "marker": {
             "line": {
              "color": "#E5ECF6",
              "width": 0.5
             },
             "pattern": {
              "fillmode": "overlay",
              "size": 10,
              "solidity": 0.2
             }
            },
            "type": "barpolar"
           }
          ],
          "carpet": [
           {
            "aaxis": {
             "endlinecolor": "#2a3f5f",
             "gridcolor": "white",
             "linecolor": "white",
             "minorgridcolor": "white",
             "startlinecolor": "#2a3f5f"
            },
            "baxis": {
             "endlinecolor": "#2a3f5f",
             "gridcolor": "white",
             "linecolor": "white",
             "minorgridcolor": "white",
             "startlinecolor": "#2a3f5f"
            },
            "type": "carpet"
           }
          ],
          "choropleth": [
           {
            "colorbar": {
             "outlinewidth": 0,
             "ticks": ""
            },
            "type": "choropleth"
           }
          ],
          "contour": [
           {
            "colorbar": {
             "outlinewidth": 0,
             "ticks": ""
            },
            "colorscale": [
             [
              0,
              "#0d0887"
             ],
             [
              0.1111111111111111,
              "#46039f"
             ],
             [
              0.2222222222222222,
              "#7201a8"
             ],
             [
              0.3333333333333333,
              "#9c179e"
             ],
             [
              0.4444444444444444,
              "#bd3786"
             ],
             [
              0.5555555555555556,
              "#d8576b"
             ],
             [
              0.6666666666666666,
              "#ed7953"
             ],
             [
              0.7777777777777778,
              "#fb9f3a"
             ],
             [
              0.8888888888888888,
              "#fdca26"
             ],
             [
              1,
              "#f0f921"
             ]
            ],
            "type": "contour"
           }
          ],
          "contourcarpet": [
           {
            "colorbar": {
             "outlinewidth": 0,
             "ticks": ""
            },
            "type": "contourcarpet"
           }
          ],
          "heatmap": [
           {
            "colorbar": {
             "outlinewidth": 0,
             "ticks": ""
            },
            "colorscale": [
             [
              0,
              "#0d0887"
             ],
             [
              0.1111111111111111,
              "#46039f"
             ],
             [
              0.2222222222222222,
              "#7201a8"
             ],
             [
              0.3333333333333333,
              "#9c179e"
             ],
             [
              0.4444444444444444,
              "#bd3786"
             ],
             [
              0.5555555555555556,
              "#d8576b"
             ],
             [
              0.6666666666666666,
              "#ed7953"
             ],
             [
              0.7777777777777778,
              "#fb9f3a"
             ],
             [
              0.8888888888888888,
              "#fdca26"
             ],
             [
              1,
              "#f0f921"
             ]
            ],
            "type": "heatmap"
           }
          ],
          "heatmapgl": [
           {
            "colorbar": {
             "outlinewidth": 0,
             "ticks": ""
            },
            "colorscale": [
             [
              0,
              "#0d0887"
             ],
             [
              0.1111111111111111,
              "#46039f"
             ],
             [
              0.2222222222222222,
              "#7201a8"
             ],
             [
              0.3333333333333333,
              "#9c179e"
             ],
             [
              0.4444444444444444,
              "#bd3786"
             ],
             [
              0.5555555555555556,
              "#d8576b"
             ],
             [
              0.6666666666666666,
              "#ed7953"
             ],
             [
              0.7777777777777778,
              "#fb9f3a"
             ],
             [
              0.8888888888888888,
              "#fdca26"
             ],
             [
              1,
              "#f0f921"
             ]
            ],
            "type": "heatmapgl"
           }
          ],
          "histogram": [
           {
            "marker": {
             "pattern": {
              "fillmode": "overlay",
              "size": 10,
              "solidity": 0.2
             }
            },
            "type": "histogram"
           }
          ],
          "histogram2d": [
           {
            "colorbar": {
             "outlinewidth": 0,
             "ticks": ""
            },
            "colorscale": [
             [
              0,
              "#0d0887"
             ],
             [
              0.1111111111111111,
              "#46039f"
             ],
             [
              0.2222222222222222,
              "#7201a8"
             ],
             [
              0.3333333333333333,
              "#9c179e"
             ],
             [
              0.4444444444444444,
              "#bd3786"
             ],
             [
              0.5555555555555556,
              "#d8576b"
             ],
             [
              0.6666666666666666,
              "#ed7953"
             ],
             [
              0.7777777777777778,
              "#fb9f3a"
             ],
             [
              0.8888888888888888,
              "#fdca26"
             ],
             [
              1,
              "#f0f921"
             ]
            ],
            "type": "histogram2d"
           }
          ],
          "histogram2dcontour": [
           {
            "colorbar": {
             "outlinewidth": 0,
             "ticks": ""
            },
            "colorscale": [
             [
              0,
              "#0d0887"
             ],
             [
              0.1111111111111111,
              "#46039f"
             ],
             [
              0.2222222222222222,
              "#7201a8"
             ],
             [
              0.3333333333333333,
              "#9c179e"
             ],
             [
              0.4444444444444444,
              "#bd3786"
             ],
             [
              0.5555555555555556,
              "#d8576b"
             ],
             [
              0.6666666666666666,
              "#ed7953"
             ],
             [
              0.7777777777777778,
              "#fb9f3a"
             ],
             [
              0.8888888888888888,
              "#fdca26"
             ],
             [
              1,
              "#f0f921"
             ]
            ],
            "type": "histogram2dcontour"
           }
          ],
          "mesh3d": [
           {
            "colorbar": {
             "outlinewidth": 0,
             "ticks": ""
            },
            "type": "mesh3d"
           }
          ],
          "parcoords": [
           {
            "line": {
             "colorbar": {
              "outlinewidth": 0,
              "ticks": ""
             }
            },
            "type": "parcoords"
           }
          ],
          "pie": [
           {
            "automargin": true,
            "type": "pie"
           }
          ],
          "scatter": [
           {
            "fillpattern": {
             "fillmode": "overlay",
             "size": 10,
             "solidity": 0.2
            },
            "type": "scatter"
           }
          ],
          "scatter3d": [
           {
            "line": {
             "colorbar": {
              "outlinewidth": 0,
              "ticks": ""
             }
            },
            "marker": {
             "colorbar": {
              "outlinewidth": 0,
              "ticks": ""
             }
            },
            "type": "scatter3d"
           }
          ],
          "scattercarpet": [
           {
            "marker": {
             "colorbar": {
              "outlinewidth": 0,
              "ticks": ""
             }
            },
            "type": "scattercarpet"
           }
          ],
          "scattergeo": [
           {
            "marker": {
             "colorbar": {
              "outlinewidth": 0,
              "ticks": ""
             }
            },
            "type": "scattergeo"
           }
          ],
          "scattergl": [
           {
            "marker": {
             "colorbar": {
              "outlinewidth": 0,
              "ticks": ""
             }
            },
            "type": "scattergl"
           }
          ],
          "scattermapbox": [
           {
            "marker": {
             "colorbar": {
              "outlinewidth": 0,
              "ticks": ""
             }
            },
            "type": "scattermapbox"
           }
          ],
          "scatterpolar": [
           {
            "marker": {
             "colorbar": {
              "outlinewidth": 0,
              "ticks": ""
             }
            },
            "type": "scatterpolar"
           }
          ],
          "scatterpolargl": [
           {
            "marker": {
             "colorbar": {
              "outlinewidth": 0,
              "ticks": ""
             }
            },
            "type": "scatterpolargl"
           }
          ],
          "scatterternary": [
           {
            "marker": {
             "colorbar": {
              "outlinewidth": 0,
              "ticks": ""
             }
            },
            "type": "scatterternary"
           }
          ],
          "surface": [
           {
            "colorbar": {
             "outlinewidth": 0,
             "ticks": ""
            },
            "colorscale": [
             [
              0,
              "#0d0887"
             ],
             [
              0.1111111111111111,
              "#46039f"
             ],
             [
              0.2222222222222222,
              "#7201a8"
             ],
             [
              0.3333333333333333,
              "#9c179e"
             ],
             [
              0.4444444444444444,
              "#bd3786"
             ],
             [
              0.5555555555555556,
              "#d8576b"
             ],
             [
              0.6666666666666666,
              "#ed7953"
             ],
             [
              0.7777777777777778,
              "#fb9f3a"
             ],
             [
              0.8888888888888888,
              "#fdca26"
             ],
             [
              1,
              "#f0f921"
             ]
            ],
            "type": "surface"
           }
          ],
          "table": [
           {
            "cells": {
             "fill": {
              "color": "#EBF0F8"
             },
             "line": {
              "color": "white"
             }
            },
            "header": {
             "fill": {
              "color": "#C8D4E3"
             },
             "line": {
              "color": "white"
             }
            },
            "type": "table"
           }
          ]
         },
         "layout": {
          "annotationdefaults": {
           "arrowcolor": "#2a3f5f",
           "arrowhead": 0,
           "arrowwidth": 1
          },
          "autotypenumbers": "strict",
          "coloraxis": {
           "colorbar": {
            "outlinewidth": 0,
            "ticks": ""
           }
          },
          "colorscale": {
           "diverging": [
            [
             0,
             "#8e0152"
            ],
            [
             0.1,
             "#c51b7d"
            ],
            [
             0.2,
             "#de77ae"
            ],
            [
             0.3,
             "#f1b6da"
            ],
            [
             0.4,
             "#fde0ef"
            ],
            [
             0.5,
             "#f7f7f7"
            ],
            [
             0.6,
             "#e6f5d0"
            ],
            [
             0.7,
             "#b8e186"
            ],
            [
             0.8,
             "#7fbc41"
            ],
            [
             0.9,
             "#4d9221"
            ],
            [
             1,
             "#276419"
            ]
           ],
           "sequential": [
            [
             0,
             "#0d0887"
            ],
            [
             0.1111111111111111,
             "#46039f"
            ],
            [
             0.2222222222222222,
             "#7201a8"
            ],
            [
             0.3333333333333333,
             "#9c179e"
            ],
            [
             0.4444444444444444,
             "#bd3786"
            ],
            [
             0.5555555555555556,
             "#d8576b"
            ],
            [
             0.6666666666666666,
             "#ed7953"
            ],
            [
             0.7777777777777778,
             "#fb9f3a"
            ],
            [
             0.8888888888888888,
             "#fdca26"
            ],
            [
             1,
             "#f0f921"
            ]
           ],
           "sequentialminus": [
            [
             0,
             "#0d0887"
            ],
            [
             0.1111111111111111,
             "#46039f"
            ],
            [
             0.2222222222222222,
             "#7201a8"
            ],
            [
             0.3333333333333333,
             "#9c179e"
            ],
            [
             0.4444444444444444,
             "#bd3786"
            ],
            [
             0.5555555555555556,
             "#d8576b"
            ],
            [
             0.6666666666666666,
             "#ed7953"
            ],
            [
             0.7777777777777778,
             "#fb9f3a"
            ],
            [
             0.8888888888888888,
             "#fdca26"
            ],
            [
             1,
             "#f0f921"
            ]
           ]
          },
          "colorway": [
           "#636efa",
           "#EF553B",
           "#00cc96",
           "#ab63fa",
           "#FFA15A",
           "#19d3f3",
           "#FF6692",
           "#B6E880",
           "#FF97FF",
           "#FECB52"
          ],
          "font": {
           "color": "#2a3f5f"
          },
          "geo": {
           "bgcolor": "white",
           "lakecolor": "white",
           "landcolor": "#E5ECF6",
           "showlakes": true,
           "showland": true,
           "subunitcolor": "white"
          },
          "hoverlabel": {
           "align": "left"
          },
          "hovermode": "closest",
          "mapbox": {
           "style": "light"
          },
          "paper_bgcolor": "white",
          "plot_bgcolor": "#E5ECF6",
          "polar": {
           "angularaxis": {
            "gridcolor": "white",
            "linecolor": "white",
            "ticks": ""
           },
           "bgcolor": "#E5ECF6",
           "radialaxis": {
            "gridcolor": "white",
            "linecolor": "white",
            "ticks": ""
           }
          },
          "scene": {
           "xaxis": {
            "backgroundcolor": "#E5ECF6",
            "gridcolor": "white",
            "gridwidth": 2,
            "linecolor": "white",
            "showbackground": true,
            "ticks": "",
            "zerolinecolor": "white"
           },
           "yaxis": {
            "backgroundcolor": "#E5ECF6",
            "gridcolor": "white",
            "gridwidth": 2,
            "linecolor": "white",
            "showbackground": true,
            "ticks": "",
            "zerolinecolor": "white"
           },
           "zaxis": {
            "backgroundcolor": "#E5ECF6",
            "gridcolor": "white",
            "gridwidth": 2,
            "linecolor": "white",
            "showbackground": true,
            "ticks": "",
            "zerolinecolor": "white"
           }
          },
          "shapedefaults": {
           "line": {
            "color": "#2a3f5f"
           }
          },
          "ternary": {
           "aaxis": {
            "gridcolor": "white",
            "linecolor": "white",
            "ticks": ""
           },
           "baxis": {
            "gridcolor": "white",
            "linecolor": "white",
            "ticks": ""
           },
           "bgcolor": "#E5ECF6",
           "caxis": {
            "gridcolor": "white",
            "linecolor": "white",
            "ticks": ""
           }
          },
          "title": {
           "x": 0.05
          },
          "xaxis": {
           "automargin": true,
           "gridcolor": "white",
           "linecolor": "white",
           "ticks": "",
           "title": {
            "standoff": 15
           },
           "zerolinecolor": "white",
           "zerolinewidth": 2
          },
          "yaxis": {
           "automargin": true,
           "gridcolor": "white",
           "linecolor": "white",
           "ticks": "",
           "title": {
            "standoff": 15
           },
           "zerolinecolor": "white",
           "zerolinewidth": 2
          }
         }
        },
        "title": {
         "font": {
          "color": "black",
          "size": 36
         },
         "text": "TFTP Test traffic in packets"
        },
        "xaxis": {
         "anchor": "y",
         "domain": [
          0,
          1
         ],
         "tickfont": {
          "color": "black",
          "size": 16
         },
         "title": {
          "font": {
           "color": "black",
           "size": 24
          },
          "text": "Level"
         }
        },
        "yaxis": {
         "anchor": "x",
         "domain": [
          0,
          1
         ],
         "range": [
          1,
          6.602059991327962
         ],
         "tickfont": {
          "color": "black",
          "size": 16
         },
         "title": {
          "font": {
           "color": "black",
           "size": 24
          },
          "text": "Packets"
         },
         "type": "log"
        }
       }
      }
     },
     "metadata": {},
     "output_type": "display_data"
    }
   ],
   "source": [
    "PlotLevelAttackData(attackerStats,victimStats,reflectorStats,Protocol,BytesOrPackets)"
   ]
  },
  {
   "cell_type": "markdown",
   "metadata": {},
   "source": [
    "## SNMP DATA OWN TOOL"
   ]
  },
  {
   "cell_type": "code",
   "execution_count": 25,
   "metadata": {},
   "outputs": [],
   "source": [
    "# Get pcap files\n",
    "attackerFilenames,victimFilenames,reflectorFilenames = getFiles('./pcap_snmp_own_tool')\n",
    "assert len(attackerFilenames) == len(victimFilenames) == len(reflectorFilenames)\n",
    "Protocol = \"SNMP\"\n",
    "useCachedBytes = True\n",
    "BytesOrPackets = \"packets\"\n",
    "Tool=\"own\""
   ]
  },
  {
   "cell_type": "markdown",
   "metadata": {},
   "source": [
    "### Reading the data"
   ]
  },
  {
   "cell_type": "code",
   "execution_count": 26,
   "metadata": {},
   "outputs": [
    {
     "name": "stdout",
     "output_type": "stream",
     "text": [
      "Getting Attacker bytes for SNMP from pcap files...\n",
      "Getting Victim bytes for SNMP from pcap files...\n",
      "Getting Reflector bytes for SNMP from pcap files...\n"
     ]
    }
   ],
   "source": [
    "# Read pcap \n",
    "attackerStats = getAttackStats(attackerFilenames,Protocol,useCachedBytes,BytesOrPackets,Tool)\n",
    "victimStats = getVictimStats(victimFilenames,Protocol,useCachedBytes,BytesOrPackets,Tool)\n",
    "reflectorStats = getReflectorStats(reflectorFilenames,Protocol,useCachedBytes,BytesOrPackets,Tool)"
   ]
  },
  {
   "cell_type": "markdown",
   "metadata": {},
   "source": [
    "### Displaying the data in latex"
   ]
  },
  {
   "cell_type": "code",
   "execution_count": 27,
   "metadata": {},
   "outputs": [
    {
     "name": "stdout",
     "output_type": "stream",
     "text": [
      "\\begin{table}[H]\n",
      "\\centering\n",
      "\n",
      "\\begin{tabular}{ccrrrcc}\n",
      "\\toprule\n",
      "\\multirow{2}{*}{Level} &  Victim & \\multicolumn{2}{c}{Reflector} & Attacker & \\multirow{2}{*}{\\parbox{2.4cm}{\\centering Amplification \\\\ Factor}} & \\multirow{2}{*}{\\parbox{3.4cm}{\\centering Attacker Packets \\\\ Per Second}} \\\\\\cline{2-5}\n",
      "      & Inbound &   Inbound & Outbound & {Outbound} \\\\\n",
      "\\midrule\n",
      "    0 &      15 &        15 &       15 &       15 &             1.000000 &           1.000000 \\\\\n",
      "    1 &     150 &       150 &      150 &      150 &             1.000000 &          10.000000 \\\\\n",
      "    2 &    1442 &      1442 &     1442 &     1442 &             1.000000 &          96.133333 \\\\\n",
      "    3 &   11004 &     12413 &    11004 &    12413 &             0.886490 &         827.533333 \\\\\n",
      "    4 &   10747 &     81492 &    10747 &    81492 &             0.131878 &        5432.800000 \\\\\n",
      "    5 &   10477 &    181017 &    10477 &   181017 &             0.057879 &       12067.800000 \\\\\n",
      "    6 &   10241 &    807986 &     9887 &   839302 &             0.012202 &       55953.466667 \\\\\n",
      "    7 &   10005 &   1677382 &     8744 &  2345288 &             0.004266 &      156352.533333 \\\\\n",
      "    8 &   10133 &   1706124 &     8975 &  2335635 &             0.004338 &      155709.000000 \\\\\n",
      "    9 &   10187 &   1577605 &     8443 &  2342844 &             0.004348 &      156189.600000 \\\\\n",
      "   10 &   10115 &   1671694 &     8668 &  4807349 &             0.002104 &      320489.933333 \\\\\n",
      "\\bottomrule\n",
      "\\end{tabular}\\caption{SNMP ARDoS test traffic in packets for own tool}\n",
      "\\label{tab:SNMP_Test_Traffic_in_packets_own}\n",
      "\\end{table}\n",
      "\n"
     ]
    }
   ],
   "source": [
    "#print(tabulate(StatDf,headers='keys',tablefmt='fancy_grid',showindex=False))\n",
    "StatDf = getStatDf(attackerStats,victimStats,reflectorStats)\n",
    "latexTableString = StatDf.to_latex(column_format='ccrrrcc',index=False,caption=Protocol + \" ARDoS test traffic in \" + BytesOrPackets + \" for \" + Tool + \" tool\",label=Protocol + \"_Test_Traffic_in_\" + BytesOrPackets + \"_\" + Tool,position='H') # For getting the table into the report\n",
    "latexTableString = refineLatexTableStringScientificPaper(latexTableString)\n",
    "print(latexTableString)"
   ]
  },
  {
   "cell_type": "markdown",
   "metadata": {},
   "source": [
    "### Plotting"
   ]
  },
  {
   "cell_type": "code",
   "execution_count": 28,
   "metadata": {},
   "outputs": [
    {
     "data": {
      "application/vnd.plotly.v1+json": {
       "config": {
        "plotlyServerURL": "https://plot.ly"
       },
       "data": [
        {
         "hovertemplate": "variable=Attacker Outbound<br>Level=%{x}<br>value=%{y}<extra></extra>",
         "legendgroup": "Attacker Outbound",
         "line": {
          "color": "#ED2939",
          "dash": "solid",
          "width": 3
         },
         "marker": {
          "size": 10,
          "symbol": "circle"
         },
         "mode": "lines+markers",
         "name": "Attacker Outbound",
         "orientation": "v",
         "showlegend": true,
         "type": "scatter",
         "x": [
          0,
          1,
          2,
          3,
          4,
          5,
          6,
          7,
          8,
          9,
          10
         ],
         "xaxis": "x",
         "y": [
          15,
          150,
          1442,
          12413,
          81492,
          181017,
          839302,
          2345288,
          2335635,
          2342844,
          4807349
         ],
         "yaxis": "y"
        },
        {
         "hovertemplate": "variable=Victim Inbound<br>Level=%{x}<br>value=%{y}<extra></extra>",
         "legendgroup": "Victim Inbound",
         "line": {
          "color": "#007FFF",
          "dash": "solid",
          "width": 3
         },
         "marker": {
          "size": 10,
          "symbol": "circle"
         },
         "mode": "lines+markers",
         "name": "Victim Inbound",
         "orientation": "v",
         "showlegend": true,
         "type": "scatter",
         "x": [
          0,
          1,
          2,
          3,
          4,
          5,
          6,
          7,
          8,
          9,
          10
         ],
         "xaxis": "x",
         "y": [
          15,
          150,
          1442,
          11004,
          10747,
          10477,
          10241,
          10005,
          10133,
          10187,
          10115
         ],
         "yaxis": "y"
        },
        {
         "hovertemplate": "variable=Reflector Inbound<br>Level=%{x}<br>value=%{y}<extra></extra>",
         "legendgroup": "Reflector Inbound",
         "line": {
          "color": "#00A86B",
          "dash": "solid",
          "width": 3
         },
         "marker": {
          "size": 10,
          "symbol": "circle"
         },
         "mode": "lines+markers",
         "name": "Reflector Inbound",
         "orientation": "v",
         "showlegend": true,
         "type": "scatter",
         "x": [
          0,
          1,
          2,
          3,
          4,
          5,
          6,
          7,
          8,
          9,
          10
         ],
         "xaxis": "x",
         "y": [
          15,
          150,
          1442,
          12413,
          81492,
          181017,
          807986,
          1677382,
          1706124,
          1577605,
          1671694
         ],
         "yaxis": "y"
        },
        {
         "hovertemplate": "variable=Reflector Outbound<br>Level=%{x}<br>value=%{y}<extra></extra>",
         "legendgroup": "Reflector Outbound",
         "line": {
          "color": "orange",
          "dash": "solid",
          "width": 3
         },
         "marker": {
          "size": 10,
          "symbol": "circle"
         },
         "mode": "lines+markers",
         "name": "Reflector Outbound",
         "orientation": "v",
         "showlegend": true,
         "type": "scatter",
         "x": [
          0,
          1,
          2,
          3,
          4,
          5,
          6,
          7,
          8,
          9,
          10
         ],
         "xaxis": "x",
         "y": [
          15,
          150,
          1442,
          11004,
          10747,
          10477,
          9887,
          8744,
          8975,
          8443,
          8668
         ],
         "yaxis": "y"
        }
       ],
       "layout": {
        "legend": {
         "font": {
          "color": "black",
          "size": 20
         },
         "title": {
          "font": {
           "color": "black",
           "size": 24
          },
          "text": "Legend"
         },
         "tracegroupgap": 0
        },
        "template": {
         "data": {
          "bar": [
           {
            "error_x": {
             "color": "#2a3f5f"
            },
            "error_y": {
             "color": "#2a3f5f"
            },
            "marker": {
             "line": {
              "color": "#E5ECF6",
              "width": 0.5
             },
             "pattern": {
              "fillmode": "overlay",
              "size": 10,
              "solidity": 0.2
             }
            },
            "type": "bar"
           }
          ],
          "barpolar": [
           {
            "marker": {
             "line": {
              "color": "#E5ECF6",
              "width": 0.5
             },
             "pattern": {
              "fillmode": "overlay",
              "size": 10,
              "solidity": 0.2
             }
            },
            "type": "barpolar"
           }
          ],
          "carpet": [
           {
            "aaxis": {
             "endlinecolor": "#2a3f5f",
             "gridcolor": "white",
             "linecolor": "white",
             "minorgridcolor": "white",
             "startlinecolor": "#2a3f5f"
            },
            "baxis": {
             "endlinecolor": "#2a3f5f",
             "gridcolor": "white",
             "linecolor": "white",
             "minorgridcolor": "white",
             "startlinecolor": "#2a3f5f"
            },
            "type": "carpet"
           }
          ],
          "choropleth": [
           {
            "colorbar": {
             "outlinewidth": 0,
             "ticks": ""
            },
            "type": "choropleth"
           }
          ],
          "contour": [
           {
            "colorbar": {
             "outlinewidth": 0,
             "ticks": ""
            },
            "colorscale": [
             [
              0,
              "#0d0887"
             ],
             [
              0.1111111111111111,
              "#46039f"
             ],
             [
              0.2222222222222222,
              "#7201a8"
             ],
             [
              0.3333333333333333,
              "#9c179e"
             ],
             [
              0.4444444444444444,
              "#bd3786"
             ],
             [
              0.5555555555555556,
              "#d8576b"
             ],
             [
              0.6666666666666666,
              "#ed7953"
             ],
             [
              0.7777777777777778,
              "#fb9f3a"
             ],
             [
              0.8888888888888888,
              "#fdca26"
             ],
             [
              1,
              "#f0f921"
             ]
            ],
            "type": "contour"
           }
          ],
          "contourcarpet": [
           {
            "colorbar": {
             "outlinewidth": 0,
             "ticks": ""
            },
            "type": "contourcarpet"
           }
          ],
          "heatmap": [
           {
            "colorbar": {
             "outlinewidth": 0,
             "ticks": ""
            },
            "colorscale": [
             [
              0,
              "#0d0887"
             ],
             [
              0.1111111111111111,
              "#46039f"
             ],
             [
              0.2222222222222222,
              "#7201a8"
             ],
             [
              0.3333333333333333,
              "#9c179e"
             ],
             [
              0.4444444444444444,
              "#bd3786"
             ],
             [
              0.5555555555555556,
              "#d8576b"
             ],
             [
              0.6666666666666666,
              "#ed7953"
             ],
             [
              0.7777777777777778,
              "#fb9f3a"
             ],
             [
              0.8888888888888888,
              "#fdca26"
             ],
             [
              1,
              "#f0f921"
             ]
            ],
            "type": "heatmap"
           }
          ],
          "heatmapgl": [
           {
            "colorbar": {
             "outlinewidth": 0,
             "ticks": ""
            },
            "colorscale": [
             [
              0,
              "#0d0887"
             ],
             [
              0.1111111111111111,
              "#46039f"
             ],
             [
              0.2222222222222222,
              "#7201a8"
             ],
             [
              0.3333333333333333,
              "#9c179e"
             ],
             [
              0.4444444444444444,
              "#bd3786"
             ],
             [
              0.5555555555555556,
              "#d8576b"
             ],
             [
              0.6666666666666666,
              "#ed7953"
             ],
             [
              0.7777777777777778,
              "#fb9f3a"
             ],
             [
              0.8888888888888888,
              "#fdca26"
             ],
             [
              1,
              "#f0f921"
             ]
            ],
            "type": "heatmapgl"
           }
          ],
          "histogram": [
           {
            "marker": {
             "pattern": {
              "fillmode": "overlay",
              "size": 10,
              "solidity": 0.2
             }
            },
            "type": "histogram"
           }
          ],
          "histogram2d": [
           {
            "colorbar": {
             "outlinewidth": 0,
             "ticks": ""
            },
            "colorscale": [
             [
              0,
              "#0d0887"
             ],
             [
              0.1111111111111111,
              "#46039f"
             ],
             [
              0.2222222222222222,
              "#7201a8"
             ],
             [
              0.3333333333333333,
              "#9c179e"
             ],
             [
              0.4444444444444444,
              "#bd3786"
             ],
             [
              0.5555555555555556,
              "#d8576b"
             ],
             [
              0.6666666666666666,
              "#ed7953"
             ],
             [
              0.7777777777777778,
              "#fb9f3a"
             ],
             [
              0.8888888888888888,
              "#fdca26"
             ],
             [
              1,
              "#f0f921"
             ]
            ],
            "type": "histogram2d"
           }
          ],
          "histogram2dcontour": [
           {
            "colorbar": {
             "outlinewidth": 0,
             "ticks": ""
            },
            "colorscale": [
             [
              0,
              "#0d0887"
             ],
             [
              0.1111111111111111,
              "#46039f"
             ],
             [
              0.2222222222222222,
              "#7201a8"
             ],
             [
              0.3333333333333333,
              "#9c179e"
             ],
             [
              0.4444444444444444,
              "#bd3786"
             ],
             [
              0.5555555555555556,
              "#d8576b"
             ],
             [
              0.6666666666666666,
              "#ed7953"
             ],
             [
              0.7777777777777778,
              "#fb9f3a"
             ],
             [
              0.8888888888888888,
              "#fdca26"
             ],
             [
              1,
              "#f0f921"
             ]
            ],
            "type": "histogram2dcontour"
           }
          ],
          "mesh3d": [
           {
            "colorbar": {
             "outlinewidth": 0,
             "ticks": ""
            },
            "type": "mesh3d"
           }
          ],
          "parcoords": [
           {
            "line": {
             "colorbar": {
              "outlinewidth": 0,
              "ticks": ""
             }
            },
            "type": "parcoords"
           }
          ],
          "pie": [
           {
            "automargin": true,
            "type": "pie"
           }
          ],
          "scatter": [
           {
            "fillpattern": {
             "fillmode": "overlay",
             "size": 10,
             "solidity": 0.2
            },
            "type": "scatter"
           }
          ],
          "scatter3d": [
           {
            "line": {
             "colorbar": {
              "outlinewidth": 0,
              "ticks": ""
             }
            },
            "marker": {
             "colorbar": {
              "outlinewidth": 0,
              "ticks": ""
             }
            },
            "type": "scatter3d"
           }
          ],
          "scattercarpet": [
           {
            "marker": {
             "colorbar": {
              "outlinewidth": 0,
              "ticks": ""
             }
            },
            "type": "scattercarpet"
           }
          ],
          "scattergeo": [
           {
            "marker": {
             "colorbar": {
              "outlinewidth": 0,
              "ticks": ""
             }
            },
            "type": "scattergeo"
           }
          ],
          "scattergl": [
           {
            "marker": {
             "colorbar": {
              "outlinewidth": 0,
              "ticks": ""
             }
            },
            "type": "scattergl"
           }
          ],
          "scattermapbox": [
           {
            "marker": {
             "colorbar": {
              "outlinewidth": 0,
              "ticks": ""
             }
            },
            "type": "scattermapbox"
           }
          ],
          "scatterpolar": [
           {
            "marker": {
             "colorbar": {
              "outlinewidth": 0,
              "ticks": ""
             }
            },
            "type": "scatterpolar"
           }
          ],
          "scatterpolargl": [
           {
            "marker": {
             "colorbar": {
              "outlinewidth": 0,
              "ticks": ""
             }
            },
            "type": "scatterpolargl"
           }
          ],
          "scatterternary": [
           {
            "marker": {
             "colorbar": {
              "outlinewidth": 0,
              "ticks": ""
             }
            },
            "type": "scatterternary"
           }
          ],
          "surface": [
           {
            "colorbar": {
             "outlinewidth": 0,
             "ticks": ""
            },
            "colorscale": [
             [
              0,
              "#0d0887"
             ],
             [
              0.1111111111111111,
              "#46039f"
             ],
             [
              0.2222222222222222,
              "#7201a8"
             ],
             [
              0.3333333333333333,
              "#9c179e"
             ],
             [
              0.4444444444444444,
              "#bd3786"
             ],
             [
              0.5555555555555556,
              "#d8576b"
             ],
             [
              0.6666666666666666,
              "#ed7953"
             ],
             [
              0.7777777777777778,
              "#fb9f3a"
             ],
             [
              0.8888888888888888,
              "#fdca26"
             ],
             [
              1,
              "#f0f921"
             ]
            ],
            "type": "surface"
           }
          ],
          "table": [
           {
            "cells": {
             "fill": {
              "color": "#EBF0F8"
             },
             "line": {
              "color": "white"
             }
            },
            "header": {
             "fill": {
              "color": "#C8D4E3"
             },
             "line": {
              "color": "white"
             }
            },
            "type": "table"
           }
          ]
         },
         "layout": {
          "annotationdefaults": {
           "arrowcolor": "#2a3f5f",
           "arrowhead": 0,
           "arrowwidth": 1
          },
          "autotypenumbers": "strict",
          "coloraxis": {
           "colorbar": {
            "outlinewidth": 0,
            "ticks": ""
           }
          },
          "colorscale": {
           "diverging": [
            [
             0,
             "#8e0152"
            ],
            [
             0.1,
             "#c51b7d"
            ],
            [
             0.2,
             "#de77ae"
            ],
            [
             0.3,
             "#f1b6da"
            ],
            [
             0.4,
             "#fde0ef"
            ],
            [
             0.5,
             "#f7f7f7"
            ],
            [
             0.6,
             "#e6f5d0"
            ],
            [
             0.7,
             "#b8e186"
            ],
            [
             0.8,
             "#7fbc41"
            ],
            [
             0.9,
             "#4d9221"
            ],
            [
             1,
             "#276419"
            ]
           ],
           "sequential": [
            [
             0,
             "#0d0887"
            ],
            [
             0.1111111111111111,
             "#46039f"
            ],
            [
             0.2222222222222222,
             "#7201a8"
            ],
            [
             0.3333333333333333,
             "#9c179e"
            ],
            [
             0.4444444444444444,
             "#bd3786"
            ],
            [
             0.5555555555555556,
             "#d8576b"
            ],
            [
             0.6666666666666666,
             "#ed7953"
            ],
            [
             0.7777777777777778,
             "#fb9f3a"
            ],
            [
             0.8888888888888888,
             "#fdca26"
            ],
            [
             1,
             "#f0f921"
            ]
           ],
           "sequentialminus": [
            [
             0,
             "#0d0887"
            ],
            [
             0.1111111111111111,
             "#46039f"
            ],
            [
             0.2222222222222222,
             "#7201a8"
            ],
            [
             0.3333333333333333,
             "#9c179e"
            ],
            [
             0.4444444444444444,
             "#bd3786"
            ],
            [
             0.5555555555555556,
             "#d8576b"
            ],
            [
             0.6666666666666666,
             "#ed7953"
            ],
            [
             0.7777777777777778,
             "#fb9f3a"
            ],
            [
             0.8888888888888888,
             "#fdca26"
            ],
            [
             1,
             "#f0f921"
            ]
           ]
          },
          "colorway": [
           "#636efa",
           "#EF553B",
           "#00cc96",
           "#ab63fa",
           "#FFA15A",
           "#19d3f3",
           "#FF6692",
           "#B6E880",
           "#FF97FF",
           "#FECB52"
          ],
          "font": {
           "color": "#2a3f5f"
          },
          "geo": {
           "bgcolor": "white",
           "lakecolor": "white",
           "landcolor": "#E5ECF6",
           "showlakes": true,
           "showland": true,
           "subunitcolor": "white"
          },
          "hoverlabel": {
           "align": "left"
          },
          "hovermode": "closest",
          "mapbox": {
           "style": "light"
          },
          "paper_bgcolor": "white",
          "plot_bgcolor": "#E5ECF6",
          "polar": {
           "angularaxis": {
            "gridcolor": "white",
            "linecolor": "white",
            "ticks": ""
           },
           "bgcolor": "#E5ECF6",
           "radialaxis": {
            "gridcolor": "white",
            "linecolor": "white",
            "ticks": ""
           }
          },
          "scene": {
           "xaxis": {
            "backgroundcolor": "#E5ECF6",
            "gridcolor": "white",
            "gridwidth": 2,
            "linecolor": "white",
            "showbackground": true,
            "ticks": "",
            "zerolinecolor": "white"
           },
           "yaxis": {
            "backgroundcolor": "#E5ECF6",
            "gridcolor": "white",
            "gridwidth": 2,
            "linecolor": "white",
            "showbackground": true,
            "ticks": "",
            "zerolinecolor": "white"
           },
           "zaxis": {
            "backgroundcolor": "#E5ECF6",
            "gridcolor": "white",
            "gridwidth": 2,
            "linecolor": "white",
            "showbackground": true,
            "ticks": "",
            "zerolinecolor": "white"
           }
          },
          "shapedefaults": {
           "line": {
            "color": "#2a3f5f"
           }
          },
          "ternary": {
           "aaxis": {
            "gridcolor": "white",
            "linecolor": "white",
            "ticks": ""
           },
           "baxis": {
            "gridcolor": "white",
            "linecolor": "white",
            "ticks": ""
           },
           "bgcolor": "#E5ECF6",
           "caxis": {
            "gridcolor": "white",
            "linecolor": "white",
            "ticks": ""
           }
          },
          "title": {
           "x": 0.05
          },
          "xaxis": {
           "automargin": true,
           "gridcolor": "white",
           "linecolor": "white",
           "ticks": "",
           "title": {
            "standoff": 15
           },
           "zerolinecolor": "white",
           "zerolinewidth": 2
          },
          "yaxis": {
           "automargin": true,
           "gridcolor": "white",
           "linecolor": "white",
           "ticks": "",
           "title": {
            "standoff": 15
           },
           "zerolinecolor": "white",
           "zerolinewidth": 2
          }
         }
        },
        "title": {
         "font": {
          "color": "black",
          "size": 36
         },
         "text": "SNMP Test traffic in packets"
        },
        "xaxis": {
         "anchor": "y",
         "domain": [
          0,
          1
         ],
         "tickfont": {
          "color": "black",
          "size": 16
         },
         "title": {
          "font": {
           "color": "black",
           "size": 24
          },
          "text": "Level"
         }
        },
        "yaxis": {
         "anchor": "x",
         "domain": [
          0,
          1
         ],
         "range": [
          1,
          6.698970004336019
         ],
         "tickfont": {
          "color": "black",
          "size": 16
         },
         "title": {
          "font": {
           "color": "black",
           "size": 24
          },
          "text": "Packets"
         },
         "type": "log"
        }
       }
      }
     },
     "metadata": {},
     "output_type": "display_data"
    }
   ],
   "source": [
    "PlotLevelAttackData(attackerStats,victimStats,reflectorStats,Protocol,BytesOrPackets)"
   ]
  },
  {
   "cell_type": "markdown",
   "metadata": {},
   "source": [
    "## SSDP DATA OWN TOOL"
   ]
  },
  {
   "cell_type": "code",
   "execution_count": 29,
   "metadata": {},
   "outputs": [],
   "source": [
    "# Get pcap files\n",
    "attackerFilenames,victimFilenames,reflectorFilenames = getFiles('./pcap_ssdp_own_tool')\n",
    "assert len(attackerFilenames) == len(victimFilenames) == len(reflectorFilenames)\n",
    "Protocol = \"SSDP\"\n",
    "useCachedBytes = True\n",
    "BytesOrPackets = \"packets\"\n",
    "Tool=\"own\""
   ]
  },
  {
   "cell_type": "markdown",
   "metadata": {},
   "source": [
    "### Reading the data"
   ]
  },
  {
   "cell_type": "code",
   "execution_count": 30,
   "metadata": {},
   "outputs": [
    {
     "name": "stdout",
     "output_type": "stream",
     "text": [
      "Getting Attacker bytes for SSDP from pcap files...\n",
      "Getting Victim bytes for SSDP from pcap files...\n",
      "Getting Reflector bytes for SSDP from pcap files...\n"
     ]
    }
   ],
   "source": [
    "# Read pcap \n",
    "attackerStats = getAttackStats(attackerFilenames,Protocol,useCachedBytes,BytesOrPackets,Tool)\n",
    "victimStats = getVictimStats(victimFilenames,Protocol,useCachedBytes,BytesOrPackets,Tool)\n",
    "reflectorStats = getReflectorStats(reflectorFilenames,Protocol,useCachedBytes,BytesOrPackets,Tool)"
   ]
  },
  {
   "cell_type": "markdown",
   "metadata": {},
   "source": [
    "### Displaying the data in latex"
   ]
  },
  {
   "cell_type": "code",
   "execution_count": 31,
   "metadata": {},
   "outputs": [
    {
     "name": "stdout",
     "output_type": "stream",
     "text": [
      "\\begin{table}[H]\n",
      "\\centering\n",
      "\n",
      "\\begin{tabular}{ccrrrcc}\n",
      "\\toprule\n",
      "\\multirow{2}{*}{Level} &  Victim & \\multicolumn{2}{c}{Reflector} & Attacker & \\multirow{2}{*}{\\parbox{2.4cm}{\\centering Amplification \\\\ Factor}} & \\multirow{2}{*}{\\parbox{3.4cm}{\\centering Attacker Packets \\\\ Per Second}} \\\\\\cline{2-5}\n",
      "      & Inbound &   Inbound & Outbound & {Outbound} \\\\\n",
      "\\midrule\n",
      "    0 &      15 &        15 &       15 &       15 &             1.000000 &           1.000000 \\\\\n",
      "    1 &     150 &       150 &      150 &      150 &             1.000000 &          10.000000 \\\\\n",
      "    2 &    1461 &      1461 &     1461 &     1461 &             1.000000 &          97.400000 \\\\\n",
      "    3 &   11851 &     11851 &    11851 &    11851 &             1.000000 &         790.066667 \\\\\n",
      "    4 &   75410 &     75410 &    75410 &    75410 &             1.000000 &        5027.333333 \\\\\n",
      "    5 &  174452 &    167846 &   167485 &   174812 &             0.997941 &       11654.133333 \\\\\n",
      "    6 &  353325 &    591679 &   299372 &   700543 &             0.504359 &       46702.866667 \\\\\n",
      "    7 &  362751 &    874865 &   187261 &  1958802 &             0.185190 &      130586.800000 \\\\\n",
      "    8 &  370052 &    967332 &   189298 &  2366167 &             0.156393 &      157744.466667 \\\\\n",
      "    9 &  366294 &   1064815 &   217358 &  2454269 &             0.149248 &      163617.933333 \\\\\n",
      "   10 &  367589 &    827927 &   164498 &  4280912 &             0.085867 &      285394.133333 \\\\\n",
      "\\bottomrule\n",
      "\\end{tabular}\\caption{SSDP ARDoS test traffic in packets for own tool}\n",
      "\\label{tab:SSDP_Test_Traffic_in_packets_own}\n",
      "\\end{table}\n",
      "\n"
     ]
    }
   ],
   "source": [
    "#print(tabulate(StatDf,headers='keys',tablefmt='fancy_grid',showindex=False))\n",
    "StatDf = getStatDf(attackerStats,victimStats,reflectorStats)\n",
    "latexTableString = StatDf.to_latex(column_format='ccrrrcc',index=False,caption=Protocol + \" ARDoS test traffic in \" + BytesOrPackets + \" for \" + Tool + \" tool\",label=Protocol + \"_Test_Traffic_in_\" + BytesOrPackets + \"_\" + Tool,position='H') # For getting the table into the report\n",
    "latexTableString = refineLatexTableStringScientificPaper(latexTableString)\n",
    "print(latexTableString)"
   ]
  },
  {
   "cell_type": "markdown",
   "metadata": {},
   "source": [
    "### Plotting"
   ]
  },
  {
   "cell_type": "code",
   "execution_count": 32,
   "metadata": {},
   "outputs": [
    {
     "data": {
      "application/vnd.plotly.v1+json": {
       "config": {
        "plotlyServerURL": "https://plot.ly"
       },
       "data": [
        {
         "hovertemplate": "variable=Attacker Outbound<br>Level=%{x}<br>value=%{y}<extra></extra>",
         "legendgroup": "Attacker Outbound",
         "line": {
          "color": "#ED2939",
          "dash": "solid",
          "width": 3
         },
         "marker": {
          "size": 10,
          "symbol": "circle"
         },
         "mode": "lines+markers",
         "name": "Attacker Outbound",
         "orientation": "v",
         "showlegend": true,
         "type": "scatter",
         "x": [
          0,
          1,
          2,
          3,
          4,
          5,
          6,
          7,
          8,
          9,
          10
         ],
         "xaxis": "x",
         "y": [
          15,
          150,
          1461,
          11851,
          75410,
          174812,
          700543,
          1958802,
          2366167,
          2454269,
          4280912
         ],
         "yaxis": "y"
        },
        {
         "hovertemplate": "variable=Victim Inbound<br>Level=%{x}<br>value=%{y}<extra></extra>",
         "legendgroup": "Victim Inbound",
         "line": {
          "color": "#007FFF",
          "dash": "solid",
          "width": 3
         },
         "marker": {
          "size": 10,
          "symbol": "circle"
         },
         "mode": "lines+markers",
         "name": "Victim Inbound",
         "orientation": "v",
         "showlegend": true,
         "type": "scatter",
         "x": [
          0,
          1,
          2,
          3,
          4,
          5,
          6,
          7,
          8,
          9,
          10
         ],
         "xaxis": "x",
         "y": [
          15,
          150,
          1461,
          11851,
          75410,
          174452,
          353325,
          362751,
          370052,
          366294,
          367589
         ],
         "yaxis": "y"
        },
        {
         "hovertemplate": "variable=Reflector Inbound<br>Level=%{x}<br>value=%{y}<extra></extra>",
         "legendgroup": "Reflector Inbound",
         "line": {
          "color": "#00A86B",
          "dash": "solid",
          "width": 3
         },
         "marker": {
          "size": 10,
          "symbol": "circle"
         },
         "mode": "lines+markers",
         "name": "Reflector Inbound",
         "orientation": "v",
         "showlegend": true,
         "type": "scatter",
         "x": [
          0,
          1,
          2,
          3,
          4,
          5,
          6,
          7,
          8,
          9,
          10
         ],
         "xaxis": "x",
         "y": [
          15,
          150,
          1461,
          11851,
          75410,
          167846,
          591679,
          874865,
          967332,
          1064815,
          827927
         ],
         "yaxis": "y"
        },
        {
         "hovertemplate": "variable=Reflector Outbound<br>Level=%{x}<br>value=%{y}<extra></extra>",
         "legendgroup": "Reflector Outbound",
         "line": {
          "color": "orange",
          "dash": "solid",
          "width": 3
         },
         "marker": {
          "size": 10,
          "symbol": "circle"
         },
         "mode": "lines+markers",
         "name": "Reflector Outbound",
         "orientation": "v",
         "showlegend": true,
         "type": "scatter",
         "x": [
          0,
          1,
          2,
          3,
          4,
          5,
          6,
          7,
          8,
          9,
          10
         ],
         "xaxis": "x",
         "y": [
          15,
          150,
          1461,
          11851,
          75410,
          167485,
          299372,
          187261,
          189298,
          217358,
          164498
         ],
         "yaxis": "y"
        }
       ],
       "layout": {
        "legend": {
         "font": {
          "color": "black",
          "size": 20
         },
         "title": {
          "font": {
           "color": "black",
           "size": 24
          },
          "text": "Legend"
         },
         "tracegroupgap": 0
        },
        "template": {
         "data": {
          "bar": [
           {
            "error_x": {
             "color": "#2a3f5f"
            },
            "error_y": {
             "color": "#2a3f5f"
            },
            "marker": {
             "line": {
              "color": "#E5ECF6",
              "width": 0.5
             },
             "pattern": {
              "fillmode": "overlay",
              "size": 10,
              "solidity": 0.2
             }
            },
            "type": "bar"
           }
          ],
          "barpolar": [
           {
            "marker": {
             "line": {
              "color": "#E5ECF6",
              "width": 0.5
             },
             "pattern": {
              "fillmode": "overlay",
              "size": 10,
              "solidity": 0.2
             }
            },
            "type": "barpolar"
           }
          ],
          "carpet": [
           {
            "aaxis": {
             "endlinecolor": "#2a3f5f",
             "gridcolor": "white",
             "linecolor": "white",
             "minorgridcolor": "white",
             "startlinecolor": "#2a3f5f"
            },
            "baxis": {
             "endlinecolor": "#2a3f5f",
             "gridcolor": "white",
             "linecolor": "white",
             "minorgridcolor": "white",
             "startlinecolor": "#2a3f5f"
            },
            "type": "carpet"
           }
          ],
          "choropleth": [
           {
            "colorbar": {
             "outlinewidth": 0,
             "ticks": ""
            },
            "type": "choropleth"
           }
          ],
          "contour": [
           {
            "colorbar": {
             "outlinewidth": 0,
             "ticks": ""
            },
            "colorscale": [
             [
              0,
              "#0d0887"
             ],
             [
              0.1111111111111111,
              "#46039f"
             ],
             [
              0.2222222222222222,
              "#7201a8"
             ],
             [
              0.3333333333333333,
              "#9c179e"
             ],
             [
              0.4444444444444444,
              "#bd3786"
             ],
             [
              0.5555555555555556,
              "#d8576b"
             ],
             [
              0.6666666666666666,
              "#ed7953"
             ],
             [
              0.7777777777777778,
              "#fb9f3a"
             ],
             [
              0.8888888888888888,
              "#fdca26"
             ],
             [
              1,
              "#f0f921"
             ]
            ],
            "type": "contour"
           }
          ],
          "contourcarpet": [
           {
            "colorbar": {
             "outlinewidth": 0,
             "ticks": ""
            },
            "type": "contourcarpet"
           }
          ],
          "heatmap": [
           {
            "colorbar": {
             "outlinewidth": 0,
             "ticks": ""
            },
            "colorscale": [
             [
              0,
              "#0d0887"
             ],
             [
              0.1111111111111111,
              "#46039f"
             ],
             [
              0.2222222222222222,
              "#7201a8"
             ],
             [
              0.3333333333333333,
              "#9c179e"
             ],
             [
              0.4444444444444444,
              "#bd3786"
             ],
             [
              0.5555555555555556,
              "#d8576b"
             ],
             [
              0.6666666666666666,
              "#ed7953"
             ],
             [
              0.7777777777777778,
              "#fb9f3a"
             ],
             [
              0.8888888888888888,
              "#fdca26"
             ],
             [
              1,
              "#f0f921"
             ]
            ],
            "type": "heatmap"
           }
          ],
          "heatmapgl": [
           {
            "colorbar": {
             "outlinewidth": 0,
             "ticks": ""
            },
            "colorscale": [
             [
              0,
              "#0d0887"
             ],
             [
              0.1111111111111111,
              "#46039f"
             ],
             [
              0.2222222222222222,
              "#7201a8"
             ],
             [
              0.3333333333333333,
              "#9c179e"
             ],
             [
              0.4444444444444444,
              "#bd3786"
             ],
             [
              0.5555555555555556,
              "#d8576b"
             ],
             [
              0.6666666666666666,
              "#ed7953"
             ],
             [
              0.7777777777777778,
              "#fb9f3a"
             ],
             [
              0.8888888888888888,
              "#fdca26"
             ],
             [
              1,
              "#f0f921"
             ]
            ],
            "type": "heatmapgl"
           }
          ],
          "histogram": [
           {
            "marker": {
             "pattern": {
              "fillmode": "overlay",
              "size": 10,
              "solidity": 0.2
             }
            },
            "type": "histogram"
           }
          ],
          "histogram2d": [
           {
            "colorbar": {
             "outlinewidth": 0,
             "ticks": ""
            },
            "colorscale": [
             [
              0,
              "#0d0887"
             ],
             [
              0.1111111111111111,
              "#46039f"
             ],
             [
              0.2222222222222222,
              "#7201a8"
             ],
             [
              0.3333333333333333,
              "#9c179e"
             ],
             [
              0.4444444444444444,
              "#bd3786"
             ],
             [
              0.5555555555555556,
              "#d8576b"
             ],
             [
              0.6666666666666666,
              "#ed7953"
             ],
             [
              0.7777777777777778,
              "#fb9f3a"
             ],
             [
              0.8888888888888888,
              "#fdca26"
             ],
             [
              1,
              "#f0f921"
             ]
            ],
            "type": "histogram2d"
           }
          ],
          "histogram2dcontour": [
           {
            "colorbar": {
             "outlinewidth": 0,
             "ticks": ""
            },
            "colorscale": [
             [
              0,
              "#0d0887"
             ],
             [
              0.1111111111111111,
              "#46039f"
             ],
             [
              0.2222222222222222,
              "#7201a8"
             ],
             [
              0.3333333333333333,
              "#9c179e"
             ],
             [
              0.4444444444444444,
              "#bd3786"
             ],
             [
              0.5555555555555556,
              "#d8576b"
             ],
             [
              0.6666666666666666,
              "#ed7953"
             ],
             [
              0.7777777777777778,
              "#fb9f3a"
             ],
             [
              0.8888888888888888,
              "#fdca26"
             ],
             [
              1,
              "#f0f921"
             ]
            ],
            "type": "histogram2dcontour"
           }
          ],
          "mesh3d": [
           {
            "colorbar": {
             "outlinewidth": 0,
             "ticks": ""
            },
            "type": "mesh3d"
           }
          ],
          "parcoords": [
           {
            "line": {
             "colorbar": {
              "outlinewidth": 0,
              "ticks": ""
             }
            },
            "type": "parcoords"
           }
          ],
          "pie": [
           {
            "automargin": true,
            "type": "pie"
           }
          ],
          "scatter": [
           {
            "fillpattern": {
             "fillmode": "overlay",
             "size": 10,
             "solidity": 0.2
            },
            "type": "scatter"
           }
          ],
          "scatter3d": [
           {
            "line": {
             "colorbar": {
              "outlinewidth": 0,
              "ticks": ""
             }
            },
            "marker": {
             "colorbar": {
              "outlinewidth": 0,
              "ticks": ""
             }
            },
            "type": "scatter3d"
           }
          ],
          "scattercarpet": [
           {
            "marker": {
             "colorbar": {
              "outlinewidth": 0,
              "ticks": ""
             }
            },
            "type": "scattercarpet"
           }
          ],
          "scattergeo": [
           {
            "marker": {
             "colorbar": {
              "outlinewidth": 0,
              "ticks": ""
             }
            },
            "type": "scattergeo"
           }
          ],
          "scattergl": [
           {
            "marker": {
             "colorbar": {
              "outlinewidth": 0,
              "ticks": ""
             }
            },
            "type": "scattergl"
           }
          ],
          "scattermapbox": [
           {
            "marker": {
             "colorbar": {
              "outlinewidth": 0,
              "ticks": ""
             }
            },
            "type": "scattermapbox"
           }
          ],
          "scatterpolar": [
           {
            "marker": {
             "colorbar": {
              "outlinewidth": 0,
              "ticks": ""
             }
            },
            "type": "scatterpolar"
           }
          ],
          "scatterpolargl": [
           {
            "marker": {
             "colorbar": {
              "outlinewidth": 0,
              "ticks": ""
             }
            },
            "type": "scatterpolargl"
           }
          ],
          "scatterternary": [
           {
            "marker": {
             "colorbar": {
              "outlinewidth": 0,
              "ticks": ""
             }
            },
            "type": "scatterternary"
           }
          ],
          "surface": [
           {
            "colorbar": {
             "outlinewidth": 0,
             "ticks": ""
            },
            "colorscale": [
             [
              0,
              "#0d0887"
             ],
             [
              0.1111111111111111,
              "#46039f"
             ],
             [
              0.2222222222222222,
              "#7201a8"
             ],
             [
              0.3333333333333333,
              "#9c179e"
             ],
             [
              0.4444444444444444,
              "#bd3786"
             ],
             [
              0.5555555555555556,
              "#d8576b"
             ],
             [
              0.6666666666666666,
              "#ed7953"
             ],
             [
              0.7777777777777778,
              "#fb9f3a"
             ],
             [
              0.8888888888888888,
              "#fdca26"
             ],
             [
              1,
              "#f0f921"
             ]
            ],
            "type": "surface"
           }
          ],
          "table": [
           {
            "cells": {
             "fill": {
              "color": "#EBF0F8"
             },
             "line": {
              "color": "white"
             }
            },
            "header": {
             "fill": {
              "color": "#C8D4E3"
             },
             "line": {
              "color": "white"
             }
            },
            "type": "table"
           }
          ]
         },
         "layout": {
          "annotationdefaults": {
           "arrowcolor": "#2a3f5f",
           "arrowhead": 0,
           "arrowwidth": 1
          },
          "autotypenumbers": "strict",
          "coloraxis": {
           "colorbar": {
            "outlinewidth": 0,
            "ticks": ""
           }
          },
          "colorscale": {
           "diverging": [
            [
             0,
             "#8e0152"
            ],
            [
             0.1,
             "#c51b7d"
            ],
            [
             0.2,
             "#de77ae"
            ],
            [
             0.3,
             "#f1b6da"
            ],
            [
             0.4,
             "#fde0ef"
            ],
            [
             0.5,
             "#f7f7f7"
            ],
            [
             0.6,
             "#e6f5d0"
            ],
            [
             0.7,
             "#b8e186"
            ],
            [
             0.8,
             "#7fbc41"
            ],
            [
             0.9,
             "#4d9221"
            ],
            [
             1,
             "#276419"
            ]
           ],
           "sequential": [
            [
             0,
             "#0d0887"
            ],
            [
             0.1111111111111111,
             "#46039f"
            ],
            [
             0.2222222222222222,
             "#7201a8"
            ],
            [
             0.3333333333333333,
             "#9c179e"
            ],
            [
             0.4444444444444444,
             "#bd3786"
            ],
            [
             0.5555555555555556,
             "#d8576b"
            ],
            [
             0.6666666666666666,
             "#ed7953"
            ],
            [
             0.7777777777777778,
             "#fb9f3a"
            ],
            [
             0.8888888888888888,
             "#fdca26"
            ],
            [
             1,
             "#f0f921"
            ]
           ],
           "sequentialminus": [
            [
             0,
             "#0d0887"
            ],
            [
             0.1111111111111111,
             "#46039f"
            ],
            [
             0.2222222222222222,
             "#7201a8"
            ],
            [
             0.3333333333333333,
             "#9c179e"
            ],
            [
             0.4444444444444444,
             "#bd3786"
            ],
            [
             0.5555555555555556,
             "#d8576b"
            ],
            [
             0.6666666666666666,
             "#ed7953"
            ],
            [
             0.7777777777777778,
             "#fb9f3a"
            ],
            [
             0.8888888888888888,
             "#fdca26"
            ],
            [
             1,
             "#f0f921"
            ]
           ]
          },
          "colorway": [
           "#636efa",
           "#EF553B",
           "#00cc96",
           "#ab63fa",
           "#FFA15A",
           "#19d3f3",
           "#FF6692",
           "#B6E880",
           "#FF97FF",
           "#FECB52"
          ],
          "font": {
           "color": "#2a3f5f"
          },
          "geo": {
           "bgcolor": "white",
           "lakecolor": "white",
           "landcolor": "#E5ECF6",
           "showlakes": true,
           "showland": true,
           "subunitcolor": "white"
          },
          "hoverlabel": {
           "align": "left"
          },
          "hovermode": "closest",
          "mapbox": {
           "style": "light"
          },
          "paper_bgcolor": "white",
          "plot_bgcolor": "#E5ECF6",
          "polar": {
           "angularaxis": {
            "gridcolor": "white",
            "linecolor": "white",
            "ticks": ""
           },
           "bgcolor": "#E5ECF6",
           "radialaxis": {
            "gridcolor": "white",
            "linecolor": "white",
            "ticks": ""
           }
          },
          "scene": {
           "xaxis": {
            "backgroundcolor": "#E5ECF6",
            "gridcolor": "white",
            "gridwidth": 2,
            "linecolor": "white",
            "showbackground": true,
            "ticks": "",
            "zerolinecolor": "white"
           },
           "yaxis": {
            "backgroundcolor": "#E5ECF6",
            "gridcolor": "white",
            "gridwidth": 2,
            "linecolor": "white",
            "showbackground": true,
            "ticks": "",
            "zerolinecolor": "white"
           },
           "zaxis": {
            "backgroundcolor": "#E5ECF6",
            "gridcolor": "white",
            "gridwidth": 2,
            "linecolor": "white",
            "showbackground": true,
            "ticks": "",
            "zerolinecolor": "white"
           }
          },
          "shapedefaults": {
           "line": {
            "color": "#2a3f5f"
           }
          },
          "ternary": {
           "aaxis": {
            "gridcolor": "white",
            "linecolor": "white",
            "ticks": ""
           },
           "baxis": {
            "gridcolor": "white",
            "linecolor": "white",
            "ticks": ""
           },
           "bgcolor": "#E5ECF6",
           "caxis": {
            "gridcolor": "white",
            "linecolor": "white",
            "ticks": ""
           }
          },
          "title": {
           "x": 0.05
          },
          "xaxis": {
           "automargin": true,
           "gridcolor": "white",
           "linecolor": "white",
           "ticks": "",
           "title": {
            "standoff": 15
           },
           "zerolinecolor": "white",
           "zerolinewidth": 2
          },
          "yaxis": {
           "automargin": true,
           "gridcolor": "white",
           "linecolor": "white",
           "ticks": "",
           "title": {
            "standoff": 15
           },
           "zerolinecolor": "white",
           "zerolinewidth": 2
          }
         }
        },
        "title": {
         "font": {
          "color": "black",
          "size": 36
         },
         "text": "SSDP Test traffic in packets"
        },
        "xaxis": {
         "anchor": "y",
         "domain": [
          0,
          1
         ],
         "tickfont": {
          "color": "black",
          "size": 16
         },
         "title": {
          "font": {
           "color": "black",
           "size": 24
          },
          "text": "Level"
         }
        },
        "yaxis": {
         "anchor": "x",
         "domain": [
          0,
          1
         ],
         "range": [
          1,
          6.698970004336019
         ],
         "tickfont": {
          "color": "black",
          "size": 16
         },
         "title": {
          "font": {
           "color": "black",
           "size": 24
          },
          "text": "Packets"
         },
         "type": "log"
        }
       }
      }
     },
     "metadata": {},
     "output_type": "display_data"
    }
   ],
   "source": [
    "PlotLevelAttackData(attackerStats,victimStats,reflectorStats,Protocol,BytesOrPackets)"
   ]
  },
  {
   "cell_type": "markdown",
   "metadata": {},
   "source": [
    "# LindenHoff Tool"
   ]
  },
  {
   "cell_type": "markdown",
   "metadata": {},
   "source": [
    "## Bytes"
   ]
  },
  {
   "cell_type": "markdown",
   "metadata": {},
   "source": [
    "### SNMP"
   ]
  },
  {
   "cell_type": "code",
   "execution_count": 33,
   "metadata": {},
   "outputs": [],
   "source": [
    "# Get pcap files\n",
    "attackerFilenames,victimFilenames,reflectorFilenames = getFiles('./pcap_snmp_lindenhof_tool')\n",
    "assert len(attackerFilenames) == len(victimFilenames) == len(reflectorFilenames)\n",
    "Protocol = \"SNMP\"\n",
    "useCachedBytes = False\n",
    "BytesOrPackets = \"bytes\"\n",
    "Tool=\"lindenhof\""
   ]
  },
  {
   "cell_type": "markdown",
   "metadata": {},
   "source": [
    "### Reading the data"
   ]
  },
  {
   "cell_type": "code",
   "execution_count": 34,
   "metadata": {},
   "outputs": [
    {
     "name": "stderr",
     "output_type": "stream",
     "text": [
      "  0% |                                          | ETA:  --:--:-- ETA:  --:--:--\r"
     ]
    },
    {
     "name": "stdout",
     "output_type": "stream",
     "text": [
      "Getting Attacker bytes for SNMP from pcap files...\n"
     ]
    },
    {
     "name": "stderr",
     "output_type": "stream",
     "text": [
      "100% |############################################| Time: 0:01:16 Time: 0:01:16\n",
      "  0% |                                          | ETA:  --:--:-- ETA:  --:--:--\r"
     ]
    },
    {
     "name": "stdout",
     "output_type": "stream",
     "text": [
      "Getting Victim bytes for SNMP from pcap files...\n"
     ]
    },
    {
     "name": "stderr",
     "output_type": "stream",
     "text": [
      "100% |############################################| Time: 0:00:50 Time: 0:00:50\n",
      "  0% |                                          | ETA:  --:--:-- ETA:  --:--:--\r"
     ]
    },
    {
     "name": "stdout",
     "output_type": "stream",
     "text": [
      "Getting Reflector bytes for SNMP from pcap files...\n"
     ]
    },
    {
     "name": "stderr",
     "output_type": "stream",
     "text": [
      " 30% |#############                               | ETA:  0:00:35 ETA:  0:01:05\r"
     ]
    }
   ],
   "source": [
    "# Read pcap \n",
    "attackerStats = getAttackStats(attackerFilenames,Protocol,useCachedBytes,BytesOrPackets,Tool)\n",
    "victimStats = getVictimStats(victimFilenames,Protocol,useCachedBytes,BytesOrPackets,Tool)\n",
    "reflectorStats = getReflectorStats(reflectorFilenames,Protocol,useCachedBytes,BytesOrPackets,Tool)"
   ]
  },
  {
   "cell_type": "markdown",
   "metadata": {},
   "source": [
    "### Displaying the data in latex"
   ]
  },
  {
   "cell_type": "code",
   "execution_count": null,
   "metadata": {},
   "outputs": [],
   "source": [
    "#print(tabulate(StatDf,headers='keys',tablefmt='fancy_grid',showindex=False))\n",
    "StatDf = getStatDf(attackerStats,victimStats,reflectorStats)\n",
    "latexTableString = StatDf.to_latex(column_format='ccrrrcc',index=False,caption=Protocol + \" ARDoS test traffic in \" + BytesOrPackets + \" for \" + Tool + \" tool\",label=Protocol + \"_Test_Traffic_in_\" + BytesOrPackets + \"_\" + Tool,position='H') # For getting the table into the report\n",
    "latexTableString = refineLatexTableStringScientificPaper(latexTableString)\n",
    "print(latexTableString)"
   ]
  },
  {
   "cell_type": "markdown",
   "metadata": {},
   "source": [
    "### Plotting"
   ]
  },
  {
   "cell_type": "code",
   "execution_count": null,
   "metadata": {},
   "outputs": [],
   "source": [
    "PlotLevelAttackData(attackerStats,victimStats,reflectorStats,Protocol,BytesOrPackets)"
   ]
  },
  {
   "cell_type": "markdown",
   "metadata": {},
   "source": [
    "## SSDP"
   ]
  },
  {
   "cell_type": "code",
   "execution_count": null,
   "metadata": {},
   "outputs": [],
   "source": [
    "# Get pcap files\n",
    "attackerFilenames,victimFilenames,reflectorFilenames = getFiles('./pcap_ssdp_lindenhof_tool')\n",
    "assert len(attackerFilenames) == len(victimFilenames) == len(reflectorFilenames)\n",
    "Protocol = \"SSDP\"\n",
    "useCachedBytes = False\n",
    "BytesOrPackets = \"bytes\"\n",
    "Tool=\"lindenhof\""
   ]
  },
  {
   "cell_type": "markdown",
   "metadata": {},
   "source": [
    "### Reading the data"
   ]
  },
  {
   "cell_type": "code",
   "execution_count": null,
   "metadata": {},
   "outputs": [],
   "source": [
    "# Read pcap \n",
    "attackerStats = getAttackStats(attackerFilenames,Protocol,useCachedBytes,BytesOrPackets,Tool)\n",
    "victimStats = getVictimStats(victimFilenames,Protocol,useCachedBytes,BytesOrPackets,Tool)\n",
    "reflectorStats = getReflectorStats(reflectorFilenames,Protocol,useCachedBytes,BytesOrPackets,Tool)"
   ]
  },
  {
   "cell_type": "markdown",
   "metadata": {},
   "source": [
    "### Displaying the data in latex"
   ]
  },
  {
   "cell_type": "code",
   "execution_count": null,
   "metadata": {},
   "outputs": [],
   "source": [
    "#print(tabulate(StatDf,headers='keys',tablefmt='fancy_grid',showindex=False))\n",
    "StatDf = getStatDf(attackerStats,victimStats,reflectorStats)\n",
    "latexTableString = StatDf.to_latex(column_format='ccrrrcc',index=False,caption=Protocol + \" ARDoS test traffic in \" + BytesOrPackets + \" for \" + Tool + \" tool\",label=Protocol + \"_Test_Traffic_in_\" + BytesOrPackets + \"_\" + Tool,position='H') # For getting the table into the report\n",
    "latexTableString = refineLatexTableStringScientificPaper(latexTableString)\n",
    "print(latexTableString)"
   ]
  },
  {
   "cell_type": "markdown",
   "metadata": {},
   "source": [
    "### Plotting"
   ]
  },
  {
   "cell_type": "code",
   "execution_count": null,
   "metadata": {},
   "outputs": [],
   "source": [
    "PlotLevelAttackData(attackerStats,victimStats,reflectorStats,Protocol,BytesOrPackets)"
   ]
  },
  {
   "cell_type": "markdown",
   "metadata": {},
   "source": [
    "## Packets"
   ]
  },
  {
   "cell_type": "markdown",
   "metadata": {},
   "source": [
    "### SNMP"
   ]
  },
  {
   "cell_type": "code",
   "execution_count": null,
   "metadata": {},
   "outputs": [],
   "source": [
    "# Get pcap files\n",
    "attackerFilenames,victimFilenames,reflectorFilenames = getFiles('./pcap_snmp_lindenhof_tool')\n",
    "assert len(attackerFilenames) == len(victimFilenames) == len(reflectorFilenames)\n",
    "Protocol = \"SNMP\"\n",
    "useCachedBytes = False\n",
    "BytesOrPackets = \"packets\"\n",
    "Tool=\"lindenhof\""
   ]
  },
  {
   "cell_type": "markdown",
   "metadata": {},
   "source": [
    "### Reading the data"
   ]
  },
  {
   "cell_type": "code",
   "execution_count": null,
   "metadata": {},
   "outputs": [],
   "source": [
    "# Read pcap \n",
    "attackerStats = getAttackStats(attackerFilenames,Protocol,useCachedBytes,BytesOrPackets,Tool)\n",
    "victimStats = getVictimStats(victimFilenames,Protocol,useCachedBytes,BytesOrPackets,Tool)\n",
    "reflectorStats = getReflectorStats(reflectorFilenames,Protocol,useCachedBytes,BytesOrPackets,Tool)"
   ]
  },
  {
   "cell_type": "markdown",
   "metadata": {},
   "source": [
    "### Displaying the data in latex"
   ]
  },
  {
   "cell_type": "code",
   "execution_count": null,
   "metadata": {},
   "outputs": [],
   "source": [
    "#print(tabulate(StatDf,headers='keys',tablefmt='fancy_grid',showindex=False))\n",
    "StatDf = getStatDf(attackerStats,victimStats,reflectorStats)\n",
    "latexTableString = StatDf.to_latex(column_format='ccrrrcc',index=False,caption=Protocol + \" ARDoS test traffic in \" + BytesOrPackets + \" for \" + Tool + \" tool\",label=Protocol + \"_Test_Traffic_in_\" + BytesOrPackets + \"_\" + Tool,position='H') # For getting the table into the report\n",
    "latexTableString = refineLatexTableStringScientificPaper(latexTableString)\n",
    "print(latexTableString)"
   ]
  },
  {
   "cell_type": "markdown",
   "metadata": {},
   "source": [
    "### Plotting"
   ]
  },
  {
   "cell_type": "code",
   "execution_count": null,
   "metadata": {},
   "outputs": [],
   "source": [
    "PlotLevelAttackData(attackerStats,victimStats,reflectorStats,Protocol,BytesOrPackets)"
   ]
  },
  {
   "cell_type": "markdown",
   "metadata": {},
   "source": [
    "## SSDP"
   ]
  },
  {
   "cell_type": "code",
   "execution_count": null,
   "metadata": {},
   "outputs": [],
   "source": [
    "# Get pcap files\n",
    "attackerFilenames,victimFilenames,reflectorFilenames = getFiles('./pcap_ssdp_lindenhof_tool')\n",
    "assert len(attackerFilenames) == len(victimFilenames) == len(reflectorFilenames)\n",
    "Protocol = \"SSDP\"\n",
    "useCachedBytes = False\n",
    "BytesOrPackets = \"packets\"\n",
    "Tool=\"lindenhof\""
   ]
  },
  {
   "cell_type": "markdown",
   "metadata": {},
   "source": [
    "### SNMP"
   ]
  },
  {
   "cell_type": "code",
   "execution_count": null,
   "metadata": {},
   "outputs": [],
   "source": [
    "# Get pcap files\n",
    "attackerFilenames,victimFilenames,reflectorFilenames = getFiles('./pcap_snmp_lindenhof_tool')\n",
    "assert len(attackerFilenames) == len(victimFilenames) == len(reflectorFilenames)\n",
    "Protocol = \"SNMP\"\n",
    "useCachedBytes = False\n",
    "BytesOrPackets = \"bytes\"\n",
    "Tool=\"lindenhof\""
   ]
  },
  {
   "cell_type": "markdown",
   "metadata": {},
   "source": [
    "### Reading the data"
   ]
  },
  {
   "cell_type": "code",
   "execution_count": null,
   "metadata": {},
   "outputs": [],
   "source": [
    "# Read pcap \n",
    "attackerStats = getAttackStats(attackerFilenames,Protocol,useCachedBytes,BytesOrPackets,Tool)\n",
    "victimStats = getVictimStats(victimFilenames,Protocol,useCachedBytes,BytesOrPackets,Tool)\n",
    "reflectorStats = getReflectorStats(reflectorFilenames,Protocol,useCachedBytes,BytesOrPackets,Tool)"
   ]
  },
  {
   "cell_type": "markdown",
   "metadata": {},
   "source": [
    "### Displaying the data in latex"
   ]
  },
  {
   "cell_type": "code",
   "execution_count": null,
   "metadata": {},
   "outputs": [],
   "source": [
    "#print(tabulate(StatDf,headers='keys',tablefmt='fancy_grid',showindex=False))\n",
    "StatDf = getStatDf(attackerStats,victimStats,reflectorStats)\n",
    "latexTableString = StatDf.to_latex(column_format='ccrrrcc',index=False,caption=Protocol + \" ARDoS test traffic in \" + BytesOrPackets + \" for \" + Tool + \" tool\",label=Protocol + \"_Test_Traffic_in_\" + BytesOrPackets + \"_\" + Tool,position='H') # For getting the table into the report\n",
    "latexTableString = refineLatexTableStringScientificPaper(latexTableString)\n",
    "print(latexTableString)"
   ]
  },
  {
   "cell_type": "markdown",
   "metadata": {},
   "source": [
    "### Plotting"
   ]
  },
  {
   "cell_type": "code",
   "execution_count": null,
   "metadata": {},
   "outputs": [],
   "source": [
    "PlotLevelAttackData(attackerStats,victimStats,reflectorStats,Protocol,BytesOrPackets)"
   ]
  }
 ],
 "metadata": {
  "interpreter": {
   "hash": "73bce13f8028dfd8341a3b2a55c69e4fac2a631d84fa7f8fd64bf1c4038b3a67"
  },
  "kernelspec": {
   "display_name": "Python 3.9.12 ('pcap-reading')",
   "language": "python",
   "name": "python3"
  },
  "language_info": {
   "codemirror_mode": {
    "name": "ipython",
    "version": 3
   },
   "file_extension": ".py",
   "mimetype": "text/x-python",
   "name": "python",
   "nbconvert_exporter": "python",
   "pygments_lexer": "ipython3",
   "version": "3.9.12"
  },
  "orig_nbformat": 4
 },
 "nbformat": 4,
 "nbformat_minor": 2
}
